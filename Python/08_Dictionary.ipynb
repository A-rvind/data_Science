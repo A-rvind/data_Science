{
 "cells": [
  {
   "cell_type": "raw",
   "id": "2da96d90",
   "metadata": {},
   "source": [
    "Data Types\n",
    "str    : Ordered,    Immutable ,  Duplicates are allowed,   \" \"\n",
    "list   : Ordered,    Mutable,     Duplicates are allowed,   []\n",
    "tuple  : Ordered,    Immutable,   Duplicates are allowed,   ()\n",
    "Set    : Unordered   Mutable,     Duplicates are not allowed, {}\n",
    "dict   : Ordered(python>=3.7) , Mutable, Duplicates keys are not allowed {}"
   ]
  },
  {
   "cell_type": "markdown",
   "id": "6accee5f",
   "metadata": {},
   "source": [
    "# Dict Properties"
   ]
  },
  {
   "cell_type": "raw",
   "id": "6b6e9e48",
   "metadata": {},
   "source": [
    "dict1 = {Key1 : Value1, Key2 : Value2}\n",
    "1. It is collection of key and value pair\n",
    "2. We can not access item by using index\n",
    "3. Duplicates keys are not allowed, but values can be duplicate\n",
    "4. dict are comma seperated\n",
    "5. dict are enclosed by {}\n",
    "\n",
    "Ordered  - If python >= 3.7\n",
    "Unordered - If Python < 3.7  (3.6,3.5)\n",
    "\n",
    "\n",
    "Key  - Immutable DataTypes (int,float,string, tuple,frozenset)\n",
    "values - Any DataTypes (int,float,string, tuple, list, set, dict, etc)"
   ]
  },
  {
   "cell_type": "code",
   "execution_count": 1,
   "id": "5dc74932",
   "metadata": {},
   "outputs": [
    {
     "data": {
      "text/plain": [
       "dict"
      ]
     },
     "execution_count": 1,
     "metadata": {},
     "output_type": "execute_result"
    }
   ],
   "source": [
    "# check datatype\n",
    "dict1 = {\"a\" : [10,30,40,50], 'b': 200}\n",
    "type(dict1)"
   ]
  },
  {
   "cell_type": "code",
   "execution_count": 2,
   "id": "89551879",
   "metadata": {},
   "outputs": [
    {
     "data": {
      "text/plain": [
       "2"
      ]
     },
     "execution_count": 2,
     "metadata": {},
     "output_type": "execute_result"
    }
   ],
   "source": [
    "len(dict1)"
   ]
  },
  {
   "cell_type": "code",
   "execution_count": 3,
   "id": "9d4ae339",
   "metadata": {},
   "outputs": [
    {
     "data": {
      "text/plain": [
       "dict"
      ]
     },
     "execution_count": 3,
     "metadata": {},
     "output_type": "execute_result"
    }
   ],
   "source": [
    "# check datatype\n",
    "set1 = {}\n",
    "type(set1)"
   ]
  },
  {
   "cell_type": "code",
   "execution_count": 4,
   "id": "cf2b6589",
   "metadata": {},
   "outputs": [
    {
     "name": "stdout",
     "output_type": "stream",
     "text": [
      "{1: [10, 30, 40, 50], 3.5: 200, (3, 4, 5, 6): 'python'} 3\n"
     ]
    }
   ],
   "source": [
    "#list vs dict\n",
    "dict1 = {1 : [10,30,40,50], 3.5: 200, (3,4,5,6):'python'}\n",
    "\n",
    "print(dict1,len(dict1))"
   ]
  },
  {
   "cell_type": "code",
   "execution_count": 5,
   "id": "4ab89811",
   "metadata": {},
   "outputs": [
    {
     "ename": "TypeError",
     "evalue": "unhashable type: 'list'",
     "output_type": "error",
     "traceback": [
      "\u001b[1;31m---------------------------------------------------------------------------\u001b[0m",
      "\u001b[1;31mTypeError\u001b[0m                                 Traceback (most recent call last)",
      "Cell \u001b[1;32mIn[5], line 1\u001b[0m\n\u001b[1;32m----> 1\u001b[0m dict1 \u001b[38;5;241m=\u001b[39m {\u001b[38;5;241m1\u001b[39m : [\u001b[38;5;241m10\u001b[39m,\u001b[38;5;241m30\u001b[39m,\u001b[38;5;241m40\u001b[39m,\u001b[38;5;241m50\u001b[39m], \u001b[38;5;241m3.5\u001b[39m: \u001b[38;5;241m200\u001b[39m, [\u001b[38;5;241m3\u001b[39m,\u001b[38;5;241m4\u001b[39m,\u001b[38;5;241m5\u001b[39m,\u001b[38;5;241m6\u001b[39m]:\u001b[38;5;124m'\u001b[39m\u001b[38;5;124mpython\u001b[39m\u001b[38;5;124m'\u001b[39m}\n\u001b[0;32m      3\u001b[0m \u001b[38;5;28mprint\u001b[39m(dict1,\u001b[38;5;28mlen\u001b[39m(dict1))\n",
      "\u001b[1;31mTypeError\u001b[0m: unhashable type: 'list'"
     ]
    }
   ],
   "source": [
    "dict1 = {1 : [10,30,40,50], 3.5: 200, [3,4,5,6]:'python'}\n",
    "\n",
    "print(dict1,len(dict1)) #error there is list []"
   ]
  },
  {
   "cell_type": "code",
   "execution_count": 6,
   "id": "f4514cf6",
   "metadata": {},
   "outputs": [
    {
     "data": {
      "text/plain": [
       "{'Name': 'Ajay', 'Age': 15, 'Marks': 90, 'Place': 'Pune'}"
      ]
     },
     "execution_count": 6,
     "metadata": {},
     "output_type": "execute_result"
    }
   ],
   "source": [
    "# Duplicate keys are not allowed\n",
    "dict1 = {'Name': 'Rohit', 'Age': 15, 'Marks': 90, 'Place' : 'Pune', 'Name':'Ajay'}\n",
    "dict1 #it take last key if key are duplicate"
   ]
  },
  {
   "cell_type": "code",
   "execution_count": 7,
   "id": "e5494ff7",
   "metadata": {},
   "outputs": [
    {
     "data": {
      "text/plain": [
       "{'Name': 'Rohit', 'Age': 15, 'Marks': 90, 'Place': 'Pune', 'StudName': 'Rohit'}"
      ]
     },
     "execution_count": 7,
     "metadata": {},
     "output_type": "execute_result"
    }
   ],
   "source": [
    "# Duplicate values are allowed\n",
    "dict1 = {'Name': 'Rohit', 'Age': 15, 'Marks': 90, 'Place' : 'Pune', 'StudName':'Rohit'}\n",
    "dict1"
   ]
  },
  {
   "cell_type": "markdown",
   "id": "8f1886b3",
   "metadata": {},
   "source": [
    "# Dictionary functions"
   ]
  },
  {
   "cell_type": "raw",
   "id": "35fb78b1",
   "metadata": {},
   "source": [
    "1. get()\n",
    "2. update()\n",
    "3. pop()\n",
    "4. popitem()\n",
    "5. clear()\n",
    "6. keys()\n",
    "7. values()\n",
    "8. items()"
   ]
  },
  {
   "cell_type": "raw",
   "id": "3cd5aa34",
   "metadata": {},
   "source": [
    "1.get()\n",
    "syntax: dict.get(KeyName)   # This is used to access the values"
   ]
  },
  {
   "cell_type": "code",
   "execution_count": 13,
   "id": "5d6b3100",
   "metadata": {},
   "outputs": [],
   "source": [
    "employee_data = {'Employee Name': \"Prashant\",\n",
    "                'Company Name': 'Zensar',\n",
    "                \"Salary\": 50000,\n",
    "                'Designation' : \"Data Scientist\"}"
   ]
  },
  {
   "cell_type": "code",
   "execution_count": 14,
   "id": "8d96fb72",
   "metadata": {},
   "outputs": [
    {
     "data": {
      "text/plain": [
       "'Prashant'"
      ]
     },
     "execution_count": 14,
     "metadata": {},
     "output_type": "execute_result"
    }
   ],
   "source": [
    "# Access Employee Name using 1st method\n",
    "employee_data['Employee Name']"
   ]
  },
  {
   "cell_type": "code",
   "execution_count": 15,
   "id": "93956305",
   "metadata": {},
   "outputs": [
    {
     "data": {
      "text/plain": [
       "'Prashant'"
      ]
     },
     "execution_count": 15,
     "metadata": {},
     "output_type": "execute_result"
    }
   ],
   "source": [
    "# Access Employee Name using get\n",
    "employee_data.get('Employee Name')"
   ]
  },
  {
   "cell_type": "code",
   "execution_count": 16,
   "id": "acbb9524",
   "metadata": {},
   "outputs": [
    {
     "data": {
      "text/plain": [
       "'Data Scientist'"
      ]
     },
     "execution_count": 16,
     "metadata": {},
     "output_type": "execute_result"
    }
   ],
   "source": [
    "# Access Designation using get\n",
    "employee_data.get('Designation')"
   ]
  },
  {
   "cell_type": "markdown",
   "id": "34a5f070",
   "metadata": {},
   "source": [
    "# Key, value, items function"
   ]
  },
  {
   "cell_type": "code",
   "execution_count": 17,
   "id": "7c725de4",
   "metadata": {},
   "outputs": [],
   "source": [
    "employee_data = {'Employee Name': \"Prashant\",\n",
    "                'Company Name': 'Zensar',\n",
    "                \"Salary\": 50000,\n",
    "                'Designation' : \"Data Scientist\"}"
   ]
  },
  {
   "cell_type": "code",
   "execution_count": 18,
   "id": "50a8d63e",
   "metadata": {},
   "outputs": [
    {
     "data": {
      "text/plain": [
       "dict_keys(['Employee Name', 'Company Name', 'Salary', 'Designation'])"
      ]
     },
     "execution_count": 18,
     "metadata": {},
     "output_type": "execute_result"
    }
   ],
   "source": [
    "# use keys function to find out list of all the keys in the dict\n",
    "employee_data.keys()"
   ]
  },
  {
   "cell_type": "code",
   "execution_count": 19,
   "id": "c6182ee7",
   "metadata": {},
   "outputs": [
    {
     "data": {
      "text/plain": [
       "dict_values(['Prashant', 'Zensar', 50000, 'Data Scientist'])"
      ]
     },
     "execution_count": 19,
     "metadata": {},
     "output_type": "execute_result"
    }
   ],
   "source": [
    "# use values function to find out list of all the values in the dict\n",
    "employee_data.values()"
   ]
  },
  {
   "cell_type": "code",
   "execution_count": 20,
   "id": "06b5d17a",
   "metadata": {},
   "outputs": [
    {
     "data": {
      "text/plain": [
       "dict_items([('Employee Name', 'Prashant'), ('Company Name', 'Zensar'), ('Salary', 50000), ('Designation', 'Data Scientist')])"
      ]
     },
     "execution_count": 20,
     "metadata": {},
     "output_type": "execute_result"
    }
   ],
   "source": [
    "# use items function to find out all keys and values\n",
    "employee_data.items()"
   ]
  },
  {
   "cell_type": "markdown",
   "id": "789d31ac",
   "metadata": {},
   "source": [
    "# Add items in Dictionary"
   ]
  },
  {
   "cell_type": "raw",
   "id": "b3896888",
   "metadata": {},
   "source": [
    "1. Add single item\n",
    "syntax: dict[newkey] = newvalue"
   ]
  },
  {
   "cell_type": "code",
   "execution_count": 21,
   "id": "10c092fc",
   "metadata": {},
   "outputs": [
    {
     "data": {
      "text/plain": [
       "{'A': 60, 'B': 80, 'C': 80, 'D': 75, 'E': 90}"
      ]
     },
     "execution_count": 21,
     "metadata": {},
     "output_type": "execute_result"
    }
   ],
   "source": [
    "# Add E with 90 as value\n",
    "stud_marks = {'A': 60,\n",
    "              'B': 80,\n",
    "              'C': 80,\n",
    "              'D': 75}\n",
    "\n",
    "stud_marks['E'] = 90\n",
    "stud_marks"
   ]
  },
  {
   "cell_type": "code",
   "execution_count": 22,
   "id": "7332b74b",
   "metadata": {},
   "outputs": [
    {
     "data": {
      "text/plain": [
       "{'A': 60, 'B': 90, 'C': 80, 'D': 75}"
      ]
     },
     "execution_count": 22,
     "metadata": {},
     "output_type": "execute_result"
    }
   ],
   "source": [
    "# Add B with 90 as value \n",
    "stud_marks = {'A': 60,\n",
    "              'B': 80,#(value will get update)\n",
    "              'C': 80,\n",
    "              'D': 75}\n",
    "\n",
    "stud_marks['B'] = 90\n",
    "stud_marks"
   ]
  },
  {
   "cell_type": "raw",
   "id": "aad69ef0",
   "metadata": {},
   "source": [
    "2.update()\n",
    "It is used to add 2 dictionary\n",
    "syntax: dict1.update(dict2)"
   ]
  },
  {
   "cell_type": "code",
   "execution_count": 24,
   "id": "79998f3e",
   "metadata": {},
   "outputs": [
    {
     "data": {
      "text/plain": [
       "{'Employee Name': 'Prashant',\n",
       " 'Company Name': 'TCS',\n",
       " 'Salary': 50000,\n",
       " 'Designation': 'Data Scientist',\n",
       " 'Company Location': 'Mumbai',\n",
       " 'Age': 30,\n",
       " 'Employee ID': 'ZS1001'}"
      ]
     },
     "execution_count": 24,
     "metadata": {},
     "output_type": "execute_result"
    }
   ],
   "source": [
    "employee_data = {'Employee Name': \"Prashant\",\n",
    "                'Company Name': 'Zensar',\n",
    "                \"Salary\": 50000,\n",
    "                'Designation' : \"Data Scientist\"}\n",
    "\n",
    "new_data = {'Company Location' : 'Mumbai',\n",
    "           'Age': 30,\n",
    "           'Employee ID' : 'ZS1001',\n",
    "           'Company Name': 'TCS'}\n",
    "\n",
    "employee_data.update(new_data)\n",
    "employee_data"
   ]
  },
  {
   "cell_type": "code",
   "execution_count": 25,
   "id": "e7c396f2",
   "metadata": {},
   "outputs": [
    {
     "data": {
      "text/plain": [
       "{'Employee Name': 'Prashant',\n",
       " 'Company Name': 'Zensar',\n",
       " 'Salary': 50000,\n",
       " 'Designation': 'Data Scientist',\n",
       " 'Company Location': 'Mumbai'}"
      ]
     },
     "execution_count": 25,
     "metadata": {},
     "output_type": "execute_result"
    }
   ],
   "source": [
    "# Add Company Location as Mumbai\n",
    "employee_data = {'Employee Name': \"Prashant\",\n",
    "                'Company Name': 'Zensar',\n",
    "                \"Salary\": 50000,\n",
    "                'Designation' : \"Data Scientist\"}\n",
    "employee_data['Company Location'] = 'Mumbai'\n",
    "employee_data"
   ]
  },
  {
   "cell_type": "code",
   "execution_count": 26,
   "id": "c5075d35",
   "metadata": {},
   "outputs": [
    {
     "data": {
      "text/plain": [
       "{'Employee Name': 'Prashant',\n",
       " 'Company Name': 'Zensar',\n",
       " 'Salary': 50000,\n",
       " 'Designation': 'Data Scientist',\n",
       " 'Company Location': 'Mumbai'}"
      ]
     },
     "execution_count": 26,
     "metadata": {},
     "output_type": "execute_result"
    }
   ],
   "source": [
    "# Add Company Location as Mumbai\n",
    "employee_data = {'Employee Name': \"Prashant\",\n",
    "                'Company Name': 'Zensar',\n",
    "                \"Salary\": 50000,\n",
    "                'Designation' : \"Data Scientist\"}\n",
    "employee_data.update({'Company Location':'Mumbai'})#dictionary method\n",
    "employee_data"
   ]
  },
  {
   "cell_type": "code",
   "execution_count": 27,
   "id": "10539686",
   "metadata": {},
   "outputs": [
    {
     "data": {
      "text/plain": [
       "{'Employee Name': 'Prashant',\n",
       " 'Company Name': 'Accenture',\n",
       " 'Salary': 50000,\n",
       " 'Designation': 'Data Scientist'}"
      ]
     },
     "execution_count": 27,
     "metadata": {},
     "output_type": "execute_result"
    }
   ],
   "source": [
    "# Add Company Name as Accenture\n",
    "employee_data = {'Employee Name': \"Prashant\",\n",
    "                'Company Name': 'Zensar',\n",
    "                \"Salary\": 50000,\n",
    "                'Designation' : \"Data Scientist\"}\n",
    "\n",
    "employee_data.update({'Company Name':'Accenture'})\n",
    "employee_data"
   ]
  },
  {
   "cell_type": "markdown",
   "id": "12f1ebf1",
   "metadata": {},
   "source": [
    "# Acess Dictionary items\n"
   ]
  },
  {
   "cell_type": "raw",
   "id": "4e99e657",
   "metadata": {},
   "source": [
    "syntax: dict[KeyName]   # This is used to access the values"
   ]
  },
  {
   "cell_type": "code",
   "execution_count": 8,
   "id": "f36652e8",
   "metadata": {},
   "outputs": [
    {
     "data": {
      "text/plain": [
       "{'Name': 'Rohit', 'Age': 15, 'Marks': 90, 'Place': 'Pune'}"
      ]
     },
     "execution_count": 8,
     "metadata": {},
     "output_type": "execute_result"
    }
   ],
   "source": [
    "dict1 = {'Name': 'Rohit', 'Age': 15, 'Marks': 90, 'Place' : 'Pune'}\n",
    "dict1"
   ]
  },
  {
   "cell_type": "code",
   "execution_count": 9,
   "id": "77986431",
   "metadata": {},
   "outputs": [
    {
     "data": {
      "text/plain": [
       "'Rohit'"
      ]
     },
     "execution_count": 9,
     "metadata": {},
     "output_type": "execute_result"
    }
   ],
   "source": [
    "# Access Name\n",
    "dict1['Name']"
   ]
  },
  {
   "cell_type": "code",
   "execution_count": 10,
   "id": "79283c4e",
   "metadata": {},
   "outputs": [
    {
     "data": {
      "text/plain": [
       "'Pune'"
      ]
     },
     "execution_count": 10,
     "metadata": {},
     "output_type": "execute_result"
    }
   ],
   "source": [
    "# Access Place\n",
    "dict1['Place']"
   ]
  },
  {
   "cell_type": "code",
   "execution_count": 11,
   "id": "9f79434e",
   "metadata": {},
   "outputs": [
    {
     "ename": "KeyError",
     "evalue": "15",
     "output_type": "error",
     "traceback": [
      "\u001b[1;31m---------------------------------------------------------------------------\u001b[0m",
      "\u001b[1;31mKeyError\u001b[0m                                  Traceback (most recent call last)",
      "Cell \u001b[1;32mIn[11], line 3\u001b[0m\n\u001b[0;32m      1\u001b[0m \u001b[38;5;66;03m# Access the keys by using values\u001b[39;00m\n\u001b[0;32m      2\u001b[0m dict1 \u001b[38;5;241m=\u001b[39m {\u001b[38;5;124m'\u001b[39m\u001b[38;5;124mName\u001b[39m\u001b[38;5;124m'\u001b[39m: \u001b[38;5;124m'\u001b[39m\u001b[38;5;124mRohit\u001b[39m\u001b[38;5;124m'\u001b[39m, \u001b[38;5;124m'\u001b[39m\u001b[38;5;124mAge\u001b[39m\u001b[38;5;124m'\u001b[39m: \u001b[38;5;241m15\u001b[39m, \u001b[38;5;124m'\u001b[39m\u001b[38;5;124mMarks\u001b[39m\u001b[38;5;124m'\u001b[39m: \u001b[38;5;241m90\u001b[39m, \u001b[38;5;124m'\u001b[39m\u001b[38;5;124mPlace\u001b[39m\u001b[38;5;124m'\u001b[39m : \u001b[38;5;124m'\u001b[39m\u001b[38;5;124mPune\u001b[39m\u001b[38;5;124m'\u001b[39m, \u001b[38;5;124m'\u001b[39m\u001b[38;5;124mName\u001b[39m\u001b[38;5;124m'\u001b[39m:\u001b[38;5;124m'\u001b[39m\u001b[38;5;124mAjay\u001b[39m\u001b[38;5;124m'\u001b[39m}\n\u001b[1;32m----> 3\u001b[0m dict1[\u001b[38;5;241m15\u001b[39m]\n",
      "\u001b[1;31mKeyError\u001b[0m: 15"
     ]
    }
   ],
   "source": [
    "# Access the keys by using values\n",
    "dict1 = {'Name': 'Rohit', 'Age': 15, 'Marks': 90, 'Place' : 'Pune', 'Name':'Ajay'}\n",
    "dict1[15] # you cant access by value because values can be multiple"
   ]
  },
  {
   "cell_type": "markdown",
   "id": "59751ee5",
   "metadata": {},
   "source": [
    "# Delete items from dictionary\n",
    "1. pop()\n",
    "2. popitem()\n",
    "3. clear()\n",
    "4. del keyword"
   ]
  },
  {
   "cell_type": "raw",
   "id": "64696769",
   "metadata": {},
   "source": [
    "1. pop()\n",
    "Removes the item of the specified key\n",
    "syntax: dict.pop(key)"
   ]
  },
  {
   "cell_type": "code",
   "execution_count": 28,
   "id": "3f9e1921",
   "metadata": {},
   "outputs": [
    {
     "data": {
      "text/plain": [
       "{'Employee Name': 'Prashant',\n",
       " 'Company Name': 'Zensar',\n",
       " 'Designation': 'Data Scientist'}"
      ]
     },
     "execution_count": 28,
     "metadata": {},
     "output_type": "execute_result"
    }
   ],
   "source": [
    "# delete Salary\n",
    "d1 = {'Employee Name': \"Prashant\",\n",
    "        'Company Name': 'Zensar',\n",
    "        \"Salary\": 50000,\n",
    "        'Designation' : \"Data Scientist\"}\n",
    "\n",
    "d1.pop('Salary')\n",
    "d1"
   ]
  },
  {
   "cell_type": "code",
   "execution_count": 29,
   "id": "65961e4b",
   "metadata": {},
   "outputs": [
    {
     "data": {
      "text/plain": [
       "'Zensar'"
      ]
     },
     "execution_count": 29,
     "metadata": {},
     "output_type": "execute_result"
    }
   ],
   "source": [
    "d1.pop('Company Name')"
   ]
  },
  {
   "cell_type": "code",
   "execution_count": 30,
   "id": "f84118dc",
   "metadata": {},
   "outputs": [
    {
     "data": {
      "text/plain": [
       "{'Employee Name': 'Prashant', 'Designation': 'Data Scientist'}"
      ]
     },
     "execution_count": 30,
     "metadata": {},
     "output_type": "execute_result"
    }
   ],
   "source": [
    "d1"
   ]
  },
  {
   "cell_type": "raw",
   "id": "5b5c74cd",
   "metadata": {},
   "source": [
    "2. popitem()\n",
    "Remove last inserted item\n",
    "syntax: dict.popitem()"
   ]
  },
  {
   "cell_type": "code",
   "execution_count": 31,
   "id": "b6ae9652",
   "metadata": {},
   "outputs": [
    {
     "data": {
      "text/plain": [
       "{'Employee Name': 'Prashant', 'Company Name': 'Zensar', 'Salary': 50000}"
      ]
     },
     "execution_count": 31,
     "metadata": {},
     "output_type": "execute_result"
    }
   ],
   "source": [
    "d1 = {'Employee Name': \"Prashant\",\n",
    "        'Company Name': 'Zensar',\n",
    "        \"Salary\": 50000,\n",
    "        'Designation' : \"Data Scientist\"}\n",
    "\n",
    "d1.popitem()\n",
    "d1"
   ]
  },
  {
   "cell_type": "raw",
   "id": "7a35c005",
   "metadata": {},
   "source": [
    "3.clear()\n",
    "Removes all the items from dictionary"
   ]
  },
  {
   "cell_type": "code",
   "execution_count": 32,
   "id": "d96b5802",
   "metadata": {},
   "outputs": [
    {
     "data": {
      "text/plain": [
       "{}"
      ]
     },
     "execution_count": 32,
     "metadata": {},
     "output_type": "execute_result"
    }
   ],
   "source": [
    "d1 = {'Employee Name': \"Prashant\",\n",
    "        'Company Name': 'Zensar',\n",
    "        \"Salary\": 50000,\n",
    "        'Designation' : \"Data Scientist\"}\n",
    "\n",
    "d1.clear()\n",
    "d1"
   ]
  },
  {
   "cell_type": "raw",
   "id": "6b60776d",
   "metadata": {},
   "source": [
    "4. del key\n",
    "Removes the item of the specified key\n",
    "syntax: del dict[keyname]"
   ]
  },
  {
   "cell_type": "code",
   "execution_count": 33,
   "id": "64c1d065",
   "metadata": {},
   "outputs": [
    {
     "data": {
      "text/plain": [
       "{'Employee Name': 'Prashant', 'Company Name': 'Zensar', 'Salary': 50000}"
      ]
     },
     "execution_count": 33,
     "metadata": {},
     "output_type": "execute_result"
    }
   ],
   "source": [
    "# delete Designation\n",
    "d1 = {'Employee Name': \"Prashant\",\n",
    "        'Company Name': 'Zensar',\n",
    "        \"Salary\": 50000,\n",
    "        'Designation' : \"Data Scientist\"}\n",
    "\n",
    "\n",
    "del d1['Designation']\n",
    "d1"
   ]
  },
  {
   "cell_type": "markdown",
   "id": "780ab0d8",
   "metadata": {},
   "source": [
    "# Nested Dictionary\n",
    "dictionary in dictionary"
   ]
  },
  {
   "cell_type": "code",
   "execution_count": 38,
   "id": "3bc6cbc4",
   "metadata": {},
   "outputs": [
    {
     "name": "stdout",
     "output_type": "stream",
     "text": [
      "{'CG0001': {'Employee Name': 'Sagar', 'Salary': 70000, 'Designation': 'Python Developer'}, 'CG0002': {'Employee Name': 'Akash', 'Salary': 80000, 'Designation': 'Data Scientist'}, 'CG0003': {'Employee Name': 'Ajay', 'Salary': 60000, 'Designation': 'ML Developer'}} 3\n"
     ]
    }
   ],
   "source": [
    "emp_details = {'CG0001' : {'Employee Name': 'Sagar',\n",
    "                              'Salary': 70000,\n",
    "                              'Designation':'Python Developer'},\n",
    "              'CG0002':   {'Employee Name': 'Akash',\n",
    "                              'Salary': 80000,\n",
    "                              'Designation':'Data Scientist'},\n",
    "              'CG0003':   {'Employee Name': 'Ajay',\n",
    "                              'Salary': 60000,\n",
    "                              'Designation':'ML Developer'}}\n",
    "\n",
    "print(emp_details,len(emp_details))"
   ]
  },
  {
   "cell_type": "code",
   "execution_count": 39,
   "id": "d1e00e6d",
   "metadata": {},
   "outputs": [
    {
     "data": {
      "text/plain": [
       "{'Employee Name': 'Ajay', 'Salary': 60000, 'Designation': 'ML Developer'}"
      ]
     },
     "execution_count": 39,
     "metadata": {},
     "output_type": "execute_result"
    }
   ],
   "source": [
    "# Access value of CG0003 key\n",
    "emp_details[\"CG0003\"]"
   ]
  },
  {
   "cell_type": "code",
   "execution_count": 40,
   "id": "2438715c",
   "metadata": {},
   "outputs": [
    {
     "data": {
      "text/plain": [
       "'ML Developer'"
      ]
     },
     "execution_count": 40,
     "metadata": {},
     "output_type": "execute_result"
    }
   ],
   "source": [
    "# Access Designation of CG0003\n",
    "emp_details[\"CG0003\"][\"Designation\"]"
   ]
  },
  {
   "cell_type": "code",
   "execution_count": 41,
   "id": "82035929",
   "metadata": {},
   "outputs": [
    {
     "data": {
      "text/plain": [
       "60000"
      ]
     },
     "execution_count": 41,
     "metadata": {},
     "output_type": "execute_result"
    }
   ],
   "source": [
    "# Access Salary of CG0003\n",
    "emp_details['CG0003']['Salary']"
   ]
  },
  {
   "cell_type": "code",
   "execution_count": 43,
   "id": "483f8d2a",
   "metadata": {},
   "outputs": [
    {
     "data": {
      "text/plain": [
       "'Pune'"
      ]
     },
     "execution_count": 43,
     "metadata": {},
     "output_type": "execute_result"
    }
   ],
   "source": [
    "# Access City\n",
    "emp_details = {'CG0001' : {'Employee Name': 'Sagar',\n",
    "                              'Salary': 70000,\n",
    "                              'Designation':'Python Developer'},\n",
    "               \n",
    "              'CG0002':   {'Employee Name': 'Akash',\n",
    "                              'Salary': 80000,\n",
    "                              'Designation':'Data Scientist',\n",
    "                          'Location':{\"State\":\"Maharashtra\",'City':'Pune'}},\n",
    "               \n",
    "              'CG0003':   {'Employee Name': 'Ajay',\n",
    "                              'Salary': [60000,80000,90000],\n",
    "                              'Designation':'ML Developer'}}\n",
    "\n",
    "emp_details['CG0002']['Location']['City']"
   ]
  },
  {
   "cell_type": "code",
   "execution_count": 44,
   "id": "5667b384",
   "metadata": {},
   "outputs": [
    {
     "data": {
      "text/plain": [
       "80000"
      ]
     },
     "execution_count": 44,
     "metadata": {},
     "output_type": "execute_result"
    }
   ],
   "source": [
    "# Access 1st salary\n",
    "emp_details = {'CG0001' : {'Employee Name': 'Sagar',\n",
    "                              'Salary': 70000,\n",
    "                              'Designation':'Python Developer'},\n",
    "               \n",
    "              'CG0002':   {'Employee Name': 'Akash',\n",
    "                              'Salary': 80000,\n",
    "                              'Designation':'Data Scientist',\n",
    "                          'Location':{\"State\":\"Maharashtra\",'City':'Pune'}},\n",
    "               \n",
    "              'CG0003':   {'Employee Name': 'Ajay',\n",
    "                              'Salary': [60000,80000,90000],\n",
    "                              'Designation':'ML Developer'}}\n",
    "\n",
    "emp_details['CG0003']['Salary'][1]"
   ]
  },
  {
   "cell_type": "code",
   "execution_count": null,
   "id": "40aac5b7",
   "metadata": {},
   "outputs": [],
   "source": []
  }
 ],
 "metadata": {
  "kernelspec": {
   "display_name": "Python 3 (ipykernel)",
   "language": "python",
   "name": "python3"
  },
  "language_info": {
   "codemirror_mode": {
    "name": "ipython",
    "version": 3
   },
   "file_extension": ".py",
   "mimetype": "text/x-python",
   "name": "python",
   "nbconvert_exporter": "python",
   "pygments_lexer": "ipython3",
   "version": "3.11.5"
  }
 },
 "nbformat": 4,
 "nbformat_minor": 5
}
