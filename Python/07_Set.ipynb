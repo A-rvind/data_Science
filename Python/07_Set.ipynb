{
 "cells": [
  {
   "cell_type": "raw",
   "id": "e3279d46",
   "metadata": {},
   "source": [
    "string  :  Ordered, Immutable, Duplicates are allowed,  \"\"\n",
    "list    :  Ordered, Mutable,   Duplicates are allowed,  []\n",
    "tuple   :  Ordered, Immutable, Duplicates are allowed,  ()\n",
    "set     : Unordered,Mutable,   Duplicates are not allowed, {}"
   ]
  },
  {
   "cell_type": "raw",
   "id": "ea5a492e",
   "metadata": {},
   "source": [
    "list1 = []   # list()\n",
    "tuple1 = ()  # tuple()\n",
    "string = \"\"   # str()\n",
    "dict1 = {} # dict()\n",
    "set1 = set() # set()"
   ]
  },
  {
   "cell_type": "code",
   "execution_count": 1,
   "id": "d3fa2059",
   "metadata": {},
   "outputs": [
    {
     "data": {
      "text/plain": [
       "{13, 19.5, 20, 95, 'python'}"
      ]
     },
     "execution_count": 1,
     "metadata": {},
     "output_type": "execute_result"
    }
   ],
   "source": [
    "# Unordered, duplicates are not allowed\n",
    "set1 = {13,95,20,'python',19.5,20}\n",
    "set1"
   ]
  },
  {
   "cell_type": "code",
   "execution_count": 2,
   "id": "9138a2a7",
   "metadata": {},
   "outputs": [
    {
     "data": {
      "text/plain": [
       "[13, 95, 20, 'python', 19.5, 20]"
      ]
     },
     "execution_count": 2,
     "metadata": {},
     "output_type": "execute_result"
    }
   ],
   "source": [
    "# Ordered datatype\n",
    "list1 = [13,95,20,'python',19.5,20]\n",
    "list1 #mutable"
   ]
  },
  {
   "cell_type": "code",
   "execution_count": 4,
   "id": "aeaef29a",
   "metadata": {},
   "outputs": [
    {
     "data": {
      "text/plain": [
       "[13, 95, 'data', 'python', 19.5, 20]"
      ]
     },
     "execution_count": 4,
     "metadata": {},
     "output_type": "execute_result"
    }
   ],
   "source": [
    "list1[2] = 'data'\n",
    "list1"
   ]
  },
  {
   "cell_type": "code",
   "execution_count": 3,
   "id": "bafd2a24",
   "metadata": {},
   "outputs": [
    {
     "data": {
      "text/plain": [
       "dict"
      ]
     },
     "execution_count": 3,
     "metadata": {},
     "output_type": "execute_result"
    }
   ],
   "source": [
    "# check the datatype\n",
    "var1 = {'a' : 100, 'b': 200} #key:value\n",
    "type(var1)"
   ]
  },
  {
   "cell_type": "code",
   "execution_count": 5,
   "id": "92f8ae9a",
   "metadata": {},
   "outputs": [
    {
     "data": {
      "text/plain": [
       "set"
      ]
     },
     "execution_count": 5,
     "metadata": {},
     "output_type": "execute_result"
    }
   ],
   "source": [
    "# check the datatype\n",
    "var = {1,2,3,5,6}\n",
    "type(var)"
   ]
  },
  {
   "cell_type": "markdown",
   "id": "f632a46b",
   "metadata": {},
   "source": [
    "# set properties"
   ]
  },
  {
   "cell_type": "raw",
   "id": "57d14dc7",
   "metadata": {},
   "source": [
    "1. Unordered\n",
    "2. Mutable\n",
    "3. Duplicates are not allowed\n",
    "4. set are enclosed by {}"
   ]
  },
  {
   "cell_type": "code",
   "execution_count": 6,
   "id": "3a5e5e87",
   "metadata": {},
   "outputs": [
    {
     "data": {
      "text/plain": [
       "{1, 10, 15, 2, 20, 3, 3.14, 5, 5.67, 'a', 'b'}"
      ]
     },
     "execution_count": 6,
     "metadata": {},
     "output_type": "execute_result"
    }
   ],
   "source": [
    "# Set is unordered datatype\n",
    "set1 = {2,3,'a',5,1,'b',10,20,15,3.14,5.67}\n",
    "set1"
   ]
  },
  {
   "cell_type": "code",
   "execution_count": 7,
   "id": "f4875332",
   "metadata": {},
   "outputs": [
    {
     "data": {
      "text/plain": [
       "[2, 3, 'a', 5, 1, 'b', 10, 20, 15, 3.14, 5.67]"
      ]
     },
     "execution_count": 7,
     "metadata": {},
     "output_type": "execute_result"
    }
   ],
   "source": [
    "# List is ordered datatype\n",
    "list1 = [2,3,'a',5,1,'b',10,20,15,3.14,5.67]\n",
    "list1"
   ]
  },
  {
   "cell_type": "code",
   "execution_count": 8,
   "id": "dfb783b9",
   "metadata": {},
   "outputs": [
    {
     "data": {
      "text/plain": [
       "{1, 10, 15, 2, 20, 3, 3.14, 30, 5, 5.67, 'a', 'b'}"
      ]
     },
     "execution_count": 8,
     "metadata": {},
     "output_type": "execute_result"
    }
   ],
   "source": [
    "# Duplicate items are not allowed in set\n",
    "set1 = {2,3,'a',5,1,'b',10,20,15,3.14,5.67,10,20,30}\n",
    "set1"
   ]
  },
  {
   "cell_type": "code",
   "execution_count": 9,
   "id": "cf14e5ea",
   "metadata": {},
   "outputs": [
    {
     "data": {
      "text/plain": [
       "[2, 3, 'a', 5, 1, 'b', 10, 20, 15, 3.14, 5.67, 10, 20, 30]"
      ]
     },
     "execution_count": 9,
     "metadata": {},
     "output_type": "execute_result"
    }
   ],
   "source": [
    "# Duplicate items are allowed in list\n",
    "list1 = [2,3,'a',5,1,'b',10,20,15,3.14,5.67,10,20,30]\n",
    "list1"
   ]
  },
  {
   "cell_type": "markdown",
   "id": "f6a58ac9",
   "metadata": {},
   "source": [
    "# Access set items"
   ]
  },
  {
   "cell_type": "raw",
   "id": "34df0a05",
   "metadata": {},
   "source": [
    "We can not indexing and slicing in set data type"
   ]
  },
  {
   "cell_type": "code",
   "execution_count": 10,
   "id": "969c33cd",
   "metadata": {},
   "outputs": [
    {
     "data": {
      "text/plain": [
       "{'bio', 'che', 'eng', 'math', 'phy'}"
      ]
     },
     "execution_count": 10,
     "metadata": {},
     "output_type": "execute_result"
    }
   ],
   "source": [
    "# use indexing to access items\n",
    "set1 = {'phy','che','math','eng','bio'}\n",
    "set1"
   ]
  },
  {
   "cell_type": "code",
   "execution_count": 11,
   "id": "9f1031f6",
   "metadata": {},
   "outputs": [
    {
     "ename": "TypeError",
     "evalue": "'set' object is not subscriptable",
     "output_type": "error",
     "traceback": [
      "\u001b[1;31m---------------------------------------------------------------------------\u001b[0m",
      "\u001b[1;31mTypeError\u001b[0m                                 Traceback (most recent call last)",
      "Cell \u001b[1;32mIn[11], line 1\u001b[0m\n\u001b[1;32m----> 1\u001b[0m set1[\u001b[38;5;241m1\u001b[39m]\n",
      "\u001b[1;31mTypeError\u001b[0m: 'set' object is not subscriptable"
     ]
    }
   ],
   "source": [
    "set1[1] #cant do indexing"
   ]
  },
  {
   "cell_type": "markdown",
   "id": "214cf911",
   "metadata": {},
   "source": [
    "# Set Functions "
   ]
  },
  {
   "cell_type": "raw",
   "id": "81afa1c2",
   "metadata": {},
   "source": [
    "1. add()\n",
    "2. update()\n",
    "3. remove()\n",
    "4. discard()\n",
    "5. pop()\n",
    "6. clear()"
   ]
  },
  {
   "cell_type": "raw",
   "id": "0f6821f9",
   "metadata": {},
   "source": [
    "1. add()\n",
    "Used to add only one item in set\n",
    "syntax: set.add(item)"
   ]
  },
  {
   "cell_type": "code",
   "execution_count": 12,
   "id": "adc58aab",
   "metadata": {},
   "outputs": [
    {
     "data": {
      "text/plain": [
       "{3, 4, 5, 6, 7, 'python'}"
      ]
     },
     "execution_count": 12,
     "metadata": {},
     "output_type": "execute_result"
    }
   ],
   "source": [
    "# Add python\n",
    "set1 = {3,4,5,6,7}\n",
    "set1.add(\"python\")\n",
    "set1"
   ]
  },
  {
   "cell_type": "code",
   "execution_count": 13,
   "id": "87fe086a",
   "metadata": {},
   "outputs": [
    {
     "data": {
      "text/plain": [
       "{3, 4, 5, 6, 7, 'Java', 'python'}"
      ]
     },
     "execution_count": 13,
     "metadata": {},
     "output_type": "execute_result"
    }
   ],
   "source": [
    "set1.add('Java')\n",
    "set1"
   ]
  },
  {
   "cell_type": "raw",
   "id": "e9bfb489",
   "metadata": {},
   "source": [
    "2.update()\n",
    "It is used to add 2 sets\n",
    "syntax: set1.update(set2)"
   ]
  },
  {
   "cell_type": "code",
   "execution_count": 17,
   "id": "ef8a3172",
   "metadata": {},
   "outputs": [
    {
     "data": {
      "text/plain": [
       "{5, 10, 15, 20, 25, 30, 35, 50, 60}"
      ]
     },
     "execution_count": 17,
     "metadata": {},
     "output_type": "execute_result"
    }
   ],
   "source": [
    "set1 = {10,20,30,50,60,25}\n",
    "set2 = {5,15,25,35}\n",
    "\n",
    "set1.update(set2)\n",
    "set1"
   ]
  },
  {
   "cell_type": "code",
   "execution_count": 19,
   "id": "8ed1732c",
   "metadata": {},
   "outputs": [
    {
     "data": {
      "text/plain": [
       "{5, 10, 15, 20, 25, 30, 35, 50, 60}"
      ]
     },
     "execution_count": 19,
     "metadata": {},
     "output_type": "execute_result"
    }
   ],
   "source": [
    "set1 = {10,20,30,50,60,25}\n",
    "set2 = {5,15,25,35}\n",
    "set2.update(set1)\n",
    "set2 "
   ]
  },
  {
   "cell_type": "raw",
   "id": "c0bd50dd",
   "metadata": {},
   "source": [
    "3.remove()\n",
    "It removes a specified item from the set\n",
    "It give error if the item is not present in the set\n",
    "\n",
    "set.remove(item)"
   ]
  },
  {
   "cell_type": "code",
   "execution_count": 20,
   "id": "278caa01",
   "metadata": {},
   "outputs": [
    {
     "data": {
      "text/plain": [
       "{'bio', 'che', 'math', 'phy'}"
      ]
     },
     "execution_count": 20,
     "metadata": {},
     "output_type": "execute_result"
    }
   ],
   "source": [
    "# remove eng\n",
    "sub_names = {'phy','che','math','eng','bio'}\n",
    "\n",
    "sub_names.remove('eng')\n",
    "sub_names"
   ]
  },
  {
   "cell_type": "raw",
   "id": "cd73089a",
   "metadata": {},
   "source": [
    "4.discard()\n",
    "It removes a specified item from the set\n",
    "It doesnt give error if the item is not present in the set\n",
    "syntax: set.discard(item)"
   ]
  },
  {
   "cell_type": "code",
   "execution_count": 21,
   "id": "5a6b4adf",
   "metadata": {},
   "outputs": [
    {
     "data": {
      "text/plain": [
       "{'bio', 'che', 'math', 'phy'}"
      ]
     },
     "execution_count": 21,
     "metadata": {},
     "output_type": "execute_result"
    }
   ],
   "source": [
    "# using discard delete eng\n",
    "sub_names = {'phy','che','math','eng','bio'}\n",
    "sub_names.discard('eng')\n",
    "sub_names"
   ]
  },
  {
   "cell_type": "code",
   "execution_count": null,
   "id": "33d36c85",
   "metadata": {},
   "outputs": [],
   "source": [
    "5.pop()\n",
    "It will delete random item from set\n",
    "syntax: set.pop()"
   ]
  },
  {
   "cell_type": "code",
   "execution_count": 22,
   "id": "ba94f7aa",
   "metadata": {},
   "outputs": [
    {
     "data": {
      "text/plain": [
       "{'bio', 'che', 'math', 'phy'}"
      ]
     },
     "execution_count": 22,
     "metadata": {},
     "output_type": "execute_result"
    }
   ],
   "source": [
    "sub_names = {'phy','che','math','eng','bio'}\n",
    "sub_names.pop()\n",
    "sub_names #Randomly remove 1 items"
   ]
  },
  {
   "cell_type": "markdown",
   "id": "069036de",
   "metadata": {},
   "source": [
    "6.clear()\n",
    "Used to remove all items from set\n",
    "syntax: set.clear()"
   ]
  },
  {
   "cell_type": "code",
   "execution_count": 23,
   "id": "89e8a874",
   "metadata": {},
   "outputs": [
    {
     "data": {
      "text/plain": [
       "set()"
      ]
     },
     "execution_count": 23,
     "metadata": {},
     "output_type": "execute_result"
    }
   ],
   "source": [
    "sub_names = {'phy','che','math','eng','bio'}\n",
    "sub_names.clear()\n",
    "sub_names"
   ]
  },
  {
   "cell_type": "raw",
   "id": "53b91957",
   "metadata": {},
   "source": [
    "7. del\n",
    "delete item using index"
   ]
  },
  {
   "cell_type": "code",
   "execution_count": 25,
   "id": "cc7a9ba0",
   "metadata": {},
   "outputs": [
    {
     "ename": "TypeError",
     "evalue": "'set' object doesn't support item deletion",
     "output_type": "error",
     "traceback": [
      "\u001b[1;31m---------------------------------------------------------------------------\u001b[0m",
      "\u001b[1;31mTypeError\u001b[0m                                 Traceback (most recent call last)",
      "Cell \u001b[1;32mIn[25], line 3\u001b[0m\n\u001b[0;32m      1\u001b[0m \u001b[38;5;66;03m# use del keyword\u001b[39;00m\n\u001b[0;32m      2\u001b[0m sub_names \u001b[38;5;241m=\u001b[39m {\u001b[38;5;124m'\u001b[39m\u001b[38;5;124mphy\u001b[39m\u001b[38;5;124m'\u001b[39m,\u001b[38;5;124m'\u001b[39m\u001b[38;5;124mche\u001b[39m\u001b[38;5;124m'\u001b[39m,\u001b[38;5;124m'\u001b[39m\u001b[38;5;124mmath\u001b[39m\u001b[38;5;124m'\u001b[39m,\u001b[38;5;124m'\u001b[39m\u001b[38;5;124meng\u001b[39m\u001b[38;5;124m'\u001b[39m,\u001b[38;5;124m'\u001b[39m\u001b[38;5;124mbio\u001b[39m\u001b[38;5;124m'\u001b[39m}\n\u001b[1;32m----> 3\u001b[0m \u001b[38;5;28;01mdel\u001b[39;00m sub_names[\u001b[38;5;241m2\u001b[39m]\n\u001b[0;32m      4\u001b[0m sub_names\n",
      "\u001b[1;31mTypeError\u001b[0m: 'set' object doesn't support item deletion"
     ]
    }
   ],
   "source": [
    "# use del keyword in set \n",
    "sub_names = {'phy','che','math','eng','bio'}\n",
    "del sub_names[2] #set doesn't support item deletion\n",
    "sub_names "
   ]
  },
  {
   "cell_type": "code",
   "execution_count": null,
   "id": "face598c",
   "metadata": {},
   "outputs": [],
   "source": []
  }
 ],
 "metadata": {
  "kernelspec": {
   "display_name": "Python 3 (ipykernel)",
   "language": "python",
   "name": "python3"
  },
  "language_info": {
   "codemirror_mode": {
    "name": "ipython",
    "version": 3
   },
   "file_extension": ".py",
   "mimetype": "text/x-python",
   "name": "python",
   "nbconvert_exporter": "python",
   "pygments_lexer": "ipython3",
   "version": "3.11.5"
  }
 },
 "nbformat": 4,
 "nbformat_minor": 5
}
