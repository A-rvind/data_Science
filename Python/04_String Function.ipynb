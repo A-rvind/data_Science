{
 "cells": [
  {
   "cell_type": "code",
   "execution_count": 4,
   "id": "a71d9674",
   "metadata": {},
   "outputs": [],
   "source": [
    "# Properties of string\n",
    "\n",
    "# string are immutable\n",
    "# Unchangable\n",
    "# We can not modify string once created"
   ]
  },
  {
   "cell_type": "code",
   "execution_count": null,
   "id": "8ca9ad13",
   "metadata": {
    "collapsed": true
   },
   "outputs": [],
   "source": [
    "string.function() "
   ]
  },
  {
   "cell_type": "code",
   "execution_count": null,
   "id": "89016628",
   "metadata": {},
   "outputs": [],
   "source": [
    "1. Capitalize \n",
    "#converts the first character to uppercase\n"
   ]
  },
  {
   "cell_type": "code",
   "execution_count": 7,
   "id": "383dabb5",
   "metadata": {},
   "outputs": [
    {
     "data": {
      "text/plain": [
       "'Data science is an interdisciplinary field that uses scientific methods'"
      ]
     },
     "execution_count": 7,
     "metadata": {},
     "output_type": "execute_result"
    }
   ],
   "source": [
    "# print original string and new string\n",
    "string1 = \"data science is an interdisciplinary FIELD that uses Scientific methods\"\n",
    "string1.capitalize()"
   ]
  },
  {
   "cell_type": "code",
   "execution_count": null,
   "id": "8fbc63e0",
   "metadata": {},
   "outputs": [],
   "source": [
    "2. upper()\n",
    "#It will convert string into upper case"
   ]
  },
  {
   "cell_type": "code",
   "execution_count": 8,
   "id": "05744ce4",
   "metadata": {},
   "outputs": [
    {
     "data": {
      "text/plain": [
       "'DATA SCIENCE IS AN INTERDISCIPLINARY FIELD THAT USES SCIENTIFIC METHODS'"
      ]
     },
     "execution_count": 8,
     "metadata": {},
     "output_type": "execute_result"
    }
   ],
   "source": [
    "# print original string and new string\n",
    "string2 = \"data Science is an interdisciplinary FIELD that uses Scientific methods\"\n",
    "string2.upper()"
   ]
  },
  {
   "cell_type": "code",
   "execution_count": null,
   "id": "04378a7b",
   "metadata": {},
   "outputs": [],
   "source": [
    "3. lower()\n",
    "# It will convert string into lower case"
   ]
  },
  {
   "cell_type": "code",
   "execution_count": 10,
   "id": "0274bb5e",
   "metadata": {},
   "outputs": [
    {
     "data": {
      "text/plain": [
       "'data science is an interdisciplinary field '"
      ]
     },
     "execution_count": 10,
     "metadata": {},
     "output_type": "execute_result"
    }
   ],
   "source": [
    "string3 = 'Data sCience Is An Interdisciplinary Field '\n",
    "string3.lower()"
   ]
  },
  {
   "cell_type": "code",
   "execution_count": null,
   "id": "f52808d3",
   "metadata": {},
   "outputs": [],
   "source": [
    "4. title()\n",
    "# converts the first character of each word to uppercase"
   ]
  },
  {
   "cell_type": "code",
   "execution_count": 11,
   "id": "914e0c0c",
   "metadata": {},
   "outputs": [
    {
     "data": {
      "text/plain": [
       "'United State Of America'"
      ]
     },
     "execution_count": 11,
     "metadata": {},
     "output_type": "execute_result"
    }
   ],
   "source": [
    "string4 = 'united state of america'\n",
    "string4.title()"
   ]
  },
  {
   "cell_type": "code",
   "execution_count": null,
   "id": "74d8a625",
   "metadata": {},
   "outputs": [],
   "source": [
    "5. Istrip()\n",
    "# Remove all leading whitespace(spaces at beginning)"
   ]
  },
  {
   "cell_type": "code",
   "execution_count": 12,
   "id": "948ec45a",
   "metadata": {},
   "outputs": [
    {
     "data": {
      "text/plain": [
       "'git hub'"
      ]
     },
     "execution_count": 12,
     "metadata": {},
     "output_type": "execute_result"
    }
   ],
   "source": [
    "string5 = '      git hub'\n",
    "\n",
    "string5.lstrip()"
   ]
  },
  {
   "cell_type": "code",
   "execution_count": null,
   "id": "116d0c50",
   "metadata": {},
   "outputs": [],
   "source": [
    "6. rstrip()\n",
    "# It removes all trailing whitespaces(spaces at the end)"
   ]
  },
  {
   "cell_type": "code",
   "execution_count": 13,
   "id": "956c9ea0",
   "metadata": {},
   "outputs": [
    {
     "data": {
      "text/plain": [
       "'Git Hub'"
      ]
     },
     "execution_count": 13,
     "metadata": {},
     "output_type": "execute_result"
    }
   ],
   "source": [
    "string6 = 'Git Hub    '\n",
    "string6.rstrip()"
   ]
  },
  {
   "cell_type": "code",
   "execution_count": null,
   "id": "6f6af8a7",
   "metadata": {},
   "outputs": [],
   "source": [
    "7. strip()\n",
    "# It removes leading + trailing whitespaces"
   ]
  },
  {
   "cell_type": "code",
   "execution_count": 14,
   "id": "14de511a",
   "metadata": {},
   "outputs": [
    {
     "data": {
      "text/plain": [
       "'Git hub'"
      ]
     },
     "execution_count": 14,
     "metadata": {},
     "output_type": "execute_result"
    }
   ],
   "source": [
    "string7 = '          Git hub    '\n",
    "string7.strip()"
   ]
  },
  {
   "cell_type": "code",
   "execution_count": null,
   "id": "db82c287",
   "metadata": {},
   "outputs": [],
   "source": [
    "8. swapcase()\n",
    "# convert lowercase into uppercase and vice versa"
   ]
  },
  {
   "cell_type": "code",
   "execution_count": 15,
   "id": "7bfcb4f5",
   "metadata": {},
   "outputs": [
    {
     "data": {
      "text/plain": [
       "'i AM wRITING in git HUB'"
      ]
     },
     "execution_count": 15,
     "metadata": {},
     "output_type": "execute_result"
    }
   ],
   "source": [
    "string8 = 'I am Writing IN GIT hub'\n",
    "string8.swapcase()"
   ]
  },
  {
   "cell_type": "code",
   "execution_count": null,
   "id": "8b004faa",
   "metadata": {},
   "outputs": [],
   "source": [
    "9. replace()\n",
    "# It replaces old string with a new string.\n",
    "\n",
    "# string.replace(old_str, new_str) "
   ]
  },
  {
   "cell_type": "code",
   "execution_count": 16,
   "id": "e30cac71",
   "metadata": {},
   "outputs": [
    {
     "data": {
      "text/plain": [
       "'JavaScript is my first language'"
      ]
     },
     "execution_count": 16,
     "metadata": {},
     "output_type": "execute_result"
    }
   ],
   "source": [
    "# Replace Python with JAVA\n",
    "string9 = 'Python is my first language'\n",
    "string9.replace('Python','JavaScript')"
   ]
  },
  {
   "cell_type": "code",
   "execution_count": 18,
   "id": "bebc46c8",
   "metadata": {},
   "outputs": [
    {
     "data": {
      "text/plain": [
       "3"
      ]
     },
     "execution_count": 18,
     "metadata": {},
     "output_type": "execute_result"
    }
   ],
   "source": [
    "# 10. count()\n",
    "string10 = \"Python and DATA Science,Python is programming Language, Python is snake\"\n",
    "string10.count('Python')"
   ]
  },
  {
   "cell_type": "code",
   "execution_count": null,
   "id": "f3874775",
   "metadata": {},
   "outputs": [],
   "source": [
    "11. Index()\n",
    "# find index of letter in string"
   ]
  },
  {
   "cell_type": "code",
   "execution_count": 19,
   "id": "fa4511d3",
   "metadata": {},
   "outputs": [
    {
     "data": {
      "text/plain": [
       "5"
      ]
     },
     "execution_count": 19,
     "metadata": {},
     "output_type": "execute_result"
    }
   ],
   "source": [
    "string11 = \"Data science\"\n",
    "string11.index('s')"
   ]
  },
  {
   "cell_type": "code",
   "execution_count": null,
   "id": "0c927736",
   "metadata": {},
   "outputs": [],
   "source": [
    "# 12. isalnum\n",
    "# Returns true if all characters in the string are alphanumeric(alphabets or numbers or both)\n",
    "# alphanumeric >> a-z/A-Z/0-9"
   ]
  },
  {
   "cell_type": "code",
   "execution_count": 20,
   "id": "c206e516",
   "metadata": {},
   "outputs": [
    {
     "data": {
      "text/plain": [
       "True"
      ]
     },
     "execution_count": 20,
     "metadata": {},
     "output_type": "execute_result"
    }
   ],
   "source": [
    "string12 = 'python'\n",
    "string12.isalnum()"
   ]
  },
  {
   "cell_type": "code",
   "execution_count": 21,
   "id": "1acb22f4",
   "metadata": {},
   "outputs": [
    {
     "data": {
      "text/plain": [
       "False"
      ]
     },
     "execution_count": 21,
     "metadata": {},
     "output_type": "execute_result"
    }
   ],
   "source": [
    "string122 = 'Python 1234'\n",
    "string122.isalnum() #false - space"
   ]
  },
  {
   "cell_type": "code",
   "execution_count": null,
   "id": "fcc48984",
   "metadata": {},
   "outputs": [],
   "source": [
    "13. isalpha()\n",
    "# Returns true if all characters in the string are alphabets"
   ]
  },
  {
   "cell_type": "code",
   "execution_count": 22,
   "id": "65ecebe2",
   "metadata": {},
   "outputs": [
    {
     "data": {
      "text/plain": [
       "True"
      ]
     },
     "execution_count": 22,
     "metadata": {},
     "output_type": "execute_result"
    }
   ],
   "source": [
    "string13 = 'python' \n",
    "string13.isalpha()"
   ]
  },
  {
   "cell_type": "code",
   "execution_count": 23,
   "id": "7af22b9a",
   "metadata": {},
   "outputs": [
    {
     "data": {
      "text/plain": [
       "False"
      ]
     },
     "execution_count": 23,
     "metadata": {},
     "output_type": "execute_result"
    }
   ],
   "source": [
    "string113 = 'Python1234' \n",
    "string113.isalpha() #error there is number"
   ]
  },
  {
   "cell_type": "code",
   "execution_count": null,
   "id": "514bcccf",
   "metadata": {},
   "outputs": [],
   "source": [
    "14. isdecimal()\n",
    "#Returns true if all characters in the string are numbers"
   ]
  },
  {
   "cell_type": "code",
   "execution_count": 24,
   "id": "eeb13050",
   "metadata": {},
   "outputs": [
    {
     "data": {
      "text/plain": [
       "True"
      ]
     },
     "execution_count": 24,
     "metadata": {},
     "output_type": "execute_result"
    }
   ],
   "source": [
    "string14 = '12345678'\n",
    "string14.isdecimal()"
   ]
  },
  {
   "cell_type": "code",
   "execution_count": 25,
   "id": "0bf155ea",
   "metadata": {},
   "outputs": [
    {
     "data": {
      "text/plain": [
       "False"
      ]
     },
     "execution_count": 25,
     "metadata": {},
     "output_type": "execute_result"
    }
   ],
   "source": [
    "string114 = \"3.14\" \n",
    "string114.isdecimal() # dot in string"
   ]
  },
  {
   "cell_type": "code",
   "execution_count": null,
   "id": "beb15804",
   "metadata": {},
   "outputs": [],
   "source": [
    "15. islower()\n",
    "# True >> If all alphabates are in lower case and there must be atleast one alphabet in the string."
   ]
  },
  {
   "cell_type": "code",
   "execution_count": 26,
   "id": "7bffe136",
   "metadata": {},
   "outputs": [
    {
     "data": {
      "text/plain": [
       "False"
      ]
     },
     "execution_count": 26,
     "metadata": {},
     "output_type": "execute_result"
    }
   ],
   "source": [
    "string15 = \"Python 2345\"\n",
    "string15.islower() #P is cap"
   ]
  },
  {
   "cell_type": "code",
   "execution_count": 27,
   "id": "9f8e4613",
   "metadata": {},
   "outputs": [
    {
     "data": {
      "text/plain": [
       "True"
      ]
     },
     "execution_count": 27,
     "metadata": {},
     "output_type": "execute_result"
    }
   ],
   "source": [
    "string115 = \"python 2345\"\n",
    "string115.islower()"
   ]
  },
  {
   "cell_type": "code",
   "execution_count": null,
   "id": "ff5800a5",
   "metadata": {},
   "outputs": [],
   "source": [
    "16. isupper()\n",
    "# True >> If all alphabates are in upper case and there must be atleast one alphabet in the string."
   ]
  },
  {
   "cell_type": "code",
   "execution_count": 28,
   "id": "e242612c",
   "metadata": {},
   "outputs": [
    {
     "data": {
      "text/plain": [
       "True"
      ]
     },
     "execution_count": 28,
     "metadata": {},
     "output_type": "execute_result"
    }
   ],
   "source": [
    "string16 = \"DATA\"\n",
    "string16.isupper()"
   ]
  },
  {
   "cell_type": "code",
   "execution_count": 29,
   "id": "2888f6a1",
   "metadata": {},
   "outputs": [
    {
     "data": {
      "text/plain": [
       "False"
      ]
     },
     "execution_count": 29,
     "metadata": {},
     "output_type": "execute_result"
    }
   ],
   "source": [
    "string116 = \"Data\"\n",
    "string116.isupper() #some of letter are small"
   ]
  },
  {
   "cell_type": "code",
   "execution_count": null,
   "id": "077a8918",
   "metadata": {},
   "outputs": [],
   "source": [
    "17. istitle()\n",
    "# True >> If 1st character of each word is capital"
   ]
  },
  {
   "cell_type": "code",
   "execution_count": 30,
   "id": "0ac407dd",
   "metadata": {},
   "outputs": [
    {
     "data": {
      "text/plain": [
       "True"
      ]
     },
     "execution_count": 30,
     "metadata": {},
     "output_type": "execute_result"
    }
   ],
   "source": [
    "string17 = \"Data\"\n",
    "string17.istitle()"
   ]
  },
  {
   "cell_type": "code",
   "execution_count": 31,
   "id": "43b93055",
   "metadata": {},
   "outputs": [
    {
     "data": {
      "text/plain": [
       "False"
      ]
     },
     "execution_count": 31,
     "metadata": {},
     "output_type": "execute_result"
    }
   ],
   "source": [
    "string117 = \"DataScience\"\n",
    "string117.istitle() # there is captial inbetween"
   ]
  },
  {
   "cell_type": "code",
   "execution_count": null,
   "id": "860f2ae2",
   "metadata": {},
   "outputs": [],
   "source": [
    "18. isspace()\n",
    "# True >> If all char are space(should contain only and only space)"
   ]
  },
  {
   "cell_type": "code",
   "execution_count": 32,
   "id": "b3d6deaa",
   "metadata": {},
   "outputs": [
    {
     "data": {
      "text/plain": [
       "True"
      ]
     },
     "execution_count": 32,
     "metadata": {},
     "output_type": "execute_result"
    }
   ],
   "source": [
    "string18 = '          '\n",
    "string18.isspace()"
   ]
  },
  {
   "cell_type": "code",
   "execution_count": 33,
   "id": "cdb3f5c0",
   "metadata": {},
   "outputs": [
    {
     "data": {
      "text/plain": [
       "False"
      ]
     },
     "execution_count": 33,
     "metadata": {},
     "output_type": "execute_result"
    }
   ],
   "source": [
    "string118= '     a     '\n",
    "string118.isspace() #cause there is letter a"
   ]
  },
  {
   "cell_type": "code",
   "execution_count": null,
   "id": "fbfebfd5",
   "metadata": {},
   "outputs": [],
   "source": []
  }
 ],
 "metadata": {
  "kernelspec": {
   "display_name": "Python 3 (ipykernel)",
   "language": "python",
   "name": "python3"
  },
  "language_info": {
   "codemirror_mode": {
    "name": "ipython",
    "version": 3
   },
   "file_extension": ".py",
   "mimetype": "text/x-python",
   "name": "python",
   "nbconvert_exporter": "python",
   "pygments_lexer": "ipython3",
   "version": "3.11.5"
  }
 },
 "nbformat": 4,
 "nbformat_minor": 5
}
