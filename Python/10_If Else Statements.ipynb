{
 "cells": [
  {
   "cell_type": "raw",
   "id": "8d092522",
   "metadata": {},
   "source": [
    "Decision Making statement\n",
    "Execute an operation only if certain condition is True"
   ]
  },
  {
   "cell_type": "code",
   "execution_count": 1,
   "id": "bb6f2c57",
   "metadata": {
    "collapsed": true
   },
   "outputs": [
    {
     "ename": "SyntaxError",
     "evalue": "invalid syntax (1042338148.py, line 2)",
     "output_type": "error",
     "traceback": [
      "\u001b[1;36m  Cell \u001b[1;32mIn[1], line 2\u001b[1;36m\u001b[0m\n\u001b[1;33m    block of code\u001b[0m\n\u001b[1;37m          ^\u001b[0m\n\u001b[1;31mSyntaxError\u001b[0m\u001b[1;31m:\u001b[0m invalid syntax\n"
     ]
    }
   ],
   "source": [
    "if condition1:  # True or False\n",
    "    block of code\n",
    "    statement1\n",
    "    statement2\n",
    "    \n",
    "elif condition2: # True or False\n",
    "    statement3\n",
    "    statement4\n",
    "    \n",
    "elif condition3: # True or False\n",
    "    statement5\n",
    "    statement6\n",
    "    \n",
    "else:\n",
    "    statement7"
   ]
  },
  {
   "cell_type": "code",
   "execution_count": null,
   "id": "7e4d0bf2",
   "metadata": {},
   "outputs": [],
   "source": [
    "if condition1:  # True or False\n",
    "    block of code\n",
    "    statement1\n",
    "    statement2\n",
    "\n",
    "else:\n",
    "    statement3"
   ]
  },
  {
   "cell_type": "code",
   "execution_count": null,
   "id": "776c1d4a",
   "metadata": {},
   "outputs": [],
   "source": [
    "if condition1:  # True or False\n",
    "    block of code\n",
    "    statement1\n",
    "    statement2"
   ]
  },
  {
   "cell_type": "markdown",
   "id": "6c9e3c69",
   "metadata": {},
   "source": [
    "# Valid syntax for if-else statement"
   ]
  },
  {
   "cell_type": "raw",
   "id": "6f6f64f7",
   "metadata": {},
   "source": [
    "if \n",
    "if >> else\n",
    "if >> elif \n",
    "if >> elif >> elif\n",
    "if >> elif >> else\n",
    "if >> elif >> elif  >> else"
   ]
  },
  {
   "cell_type": "code",
   "execution_count": 2,
   "id": "732f4989",
   "metadata": {},
   "outputs": [
    {
     "name": "stdout",
     "output_type": "stream",
     "text": [
      "String is in lowercase\n"
     ]
    }
   ],
   "source": [
    "# islower\n",
    "string = 'machine learning'\n",
    "\n",
    "if string.islower():  # True\n",
    "    print('String is in lowercase')\n",
    "    \n",
    "else:\n",
    "    print('String is not in lowercase')"
   ]
  },
  {
   "cell_type": "code",
   "execution_count": 3,
   "id": "29775fd2",
   "metadata": {},
   "outputs": [
    {
     "name": "stdout",
     "output_type": "stream",
     "text": [
      "String is not in lowercase\n"
     ]
    }
   ],
   "source": [
    "# islower\n",
    "string = 'Machine learning'\n",
    "\n",
    "if string.islower():  # False\n",
    "    print('String is in lowercase')\n",
    "    \n",
    "else:\n",
    "    print('String is not in lowercase')"
   ]
  },
  {
   "cell_type": "code",
   "execution_count": 4,
   "id": "5698f5ea",
   "metadata": {},
   "outputs": [
    {
     "name": "stdout",
     "output_type": "stream",
     "text": [
      "String is not alphanumeric\n"
     ]
    }
   ],
   "source": [
    "# isalnum\n",
    "string = 'Machine learning'\n",
    "\n",
    "if string.isalnum():  # False\n",
    "    print('String is alphanumeric')\n",
    "    \n",
    "else:\n",
    "    print('String is not alphanumeric')"
   ]
  },
  {
   "cell_type": "code",
   "execution_count": 5,
   "id": "29ee3613",
   "metadata": {},
   "outputs": [
    {
     "name": "stdout",
     "output_type": "stream",
     "text": [
      "String is alphanumeric\n"
     ]
    }
   ],
   "source": [
    "# isalnum\n",
    "string = 'Machinelearning'\n",
    "\n",
    "if string.isalnum():  # True\n",
    "    print('String is alphanumeric')\n",
    "    \n",
    "else:\n",
    "    print('String is not alphanumeric')"
   ]
  },
  {
   "cell_type": "code",
   "execution_count": 6,
   "id": "d0372a7c",
   "metadata": {},
   "outputs": [
    {
     "name": "stdout",
     "output_type": "stream",
     "text": [
      "String is in titlecase\n"
     ]
    }
   ],
   "source": [
    "# istitle\n",
    "string = 'Machine Learning'\n",
    "\n",
    "if string.istitle(): # True\n",
    "    print('String is in titlecase')\n",
    "    \n",
    "else:\n",
    "    print('String is not in titlecase')"
   ]
  },
  {
   "cell_type": "code",
   "execution_count": 7,
   "id": "ab02449e",
   "metadata": {},
   "outputs": [
    {
     "name": "stdout",
     "output_type": "stream",
     "text": [
      "String is not in titlecase\n"
     ]
    }
   ],
   "source": [
    "# istitle\n",
    "string = 'Machine learning'\n",
    "\n",
    "if string.istitle(): # False\n",
    "    print('String is in titlecase')\n",
    "    \n",
    "else:\n",
    "    print('String is not in titlecase')"
   ]
  },
  {
   "cell_type": "code",
   "execution_count": 8,
   "id": "3a792c64",
   "metadata": {},
   "outputs": [
    {
     "name": "stdout",
     "output_type": "stream",
     "text": [
      "Not an empty string\n"
     ]
    }
   ],
   "source": [
    "# Check whether string is empty or not\n",
    "string = 'python'  \n",
    "\n",
    "if len(string)==0:  # False\n",
    "    print('Empty string')\n",
    "    \n",
    "else:\n",
    "    print('Not an empty string')"
   ]
  },
  {
   "cell_type": "code",
   "execution_count": 9,
   "id": "491495af",
   "metadata": {},
   "outputs": [
    {
     "name": "stdout",
     "output_type": "stream",
     "text": [
      "Empty string\n"
     ]
    }
   ],
   "source": [
    "# Check whether string is empty or not\n",
    "string = ''\n",
    "\n",
    "if len(string)==0:  # True\n",
    "    print('Empty string')\n",
    "    \n",
    "else:\n",
    "    print('Not an empty string')"
   ]
  },
  {
   "cell_type": "code",
   "execution_count": 10,
   "id": "915b89bc",
   "metadata": {},
   "outputs": [
    {
     "name": "stdout",
     "output_type": "stream",
     "text": [
      "Not an empty list\n"
     ]
    }
   ],
   "source": [
    "# Check whether list is empty or not\n",
    "list1 = [3,4,5,6]\n",
    "\n",
    "if len(list1)==0:  # False\n",
    "    print('Empty list')\n",
    "    \n",
    "else:\n",
    "    print('Not an empty list')"
   ]
  },
  {
   "cell_type": "code",
   "execution_count": 11,
   "id": "6018cbce",
   "metadata": {},
   "outputs": [
    {
     "name": "stdout",
     "output_type": "stream",
     "text": [
      "Empty list\n"
     ]
    }
   ],
   "source": [
    "# Check whether list is empty or not\n",
    "list1 = []\n",
    "\n",
    "if len(list1)==0:  # True\n",
    "    print('Empty list')\n",
    "    \n",
    "else:\n",
    "    print('Not an empty list')"
   ]
  },
  {
   "cell_type": "markdown",
   "id": "7ae9a962",
   "metadata": {},
   "source": [
    "# if else statement along with comparison operator"
   ]
  },
  {
   "cell_type": "code",
   "execution_count": 13,
   "id": "726fde41",
   "metadata": {},
   "outputs": [
    {
     "name": "stdout",
     "output_type": "stream",
     "text": [
      "a is equal to b\n"
     ]
    }
   ],
   "source": [
    "# >,==\n",
    "a = 40\n",
    "b = 40\n",
    "\n",
    "if a>b:  # False\n",
    "    print('a is greater than b')\n",
    "    \n",
    "elif a==b:  # True\n",
    "    print('a is equal to b')"
   ]
  },
  {
   "cell_type": "code",
   "execution_count": 14,
   "id": "648b77ad",
   "metadata": {},
   "outputs": [
    {
     "name": "stdout",
     "output_type": "stream",
     "text": [
      "a is greater than b\n"
     ]
    }
   ],
   "source": [
    "# >,==\n",
    "a = 200\n",
    "b = 40\n",
    "\n",
    "\n",
    "if a>b:  # True\n",
    "    print('a is greater than b')\n",
    "    \n",
    "elif a==b:  \n",
    "    print('a is equal to b')"
   ]
  },
  {
   "cell_type": "code",
   "execution_count": 15,
   "id": "8a6e3f2f",
   "metadata": {},
   "outputs": [
    {
     "name": "stdout",
     "output_type": "stream",
     "text": [
      "a is greater than or equal to b\n"
     ]
    }
   ],
   "source": [
    "# >=\n",
    "a = 200\n",
    "b = 40\n",
    "\n",
    "if a>=b:  # True\n",
    "    print('a is greater than or equal to b')\n",
    "    \n",
    "else:\n",
    "    print('a is not greater than or equal to b')"
   ]
  },
  {
   "cell_type": "code",
   "execution_count": 16,
   "id": "876cff4d",
   "metadata": {},
   "outputs": [
    {
     "name": "stdout",
     "output_type": "stream",
     "text": [
      "a is not greater than or equal to b\n"
     ]
    }
   ],
   "source": [
    "# >= \n",
    "a = 40\n",
    "b = 200\n",
    "\n",
    "if a>=b:  # False\n",
    "    print('a is greater than or equal to b')\n",
    "    \n",
    "else:\n",
    "    print('a is not greater than or equal to b')"
   ]
  },
  {
   "cell_type": "code",
   "execution_count": 17,
   "id": "a20833c0",
   "metadata": {},
   "outputs": [
    {
     "name": "stdout",
     "output_type": "stream",
     "text": [
      "a is less than or equal to b\n"
     ]
    }
   ],
   "source": [
    "# <=, >\n",
    "a = 40\n",
    "b = 40.0\n",
    "\n",
    "if a<=b:  # True\n",
    "    print('a is less than or equal to b')\n",
    "    \n",
    "elif a>b:\n",
    "    print('a is greater than b')"
   ]
  },
  {
   "cell_type": "code",
   "execution_count": 18,
   "id": "40147b7b",
   "metadata": {},
   "outputs": [
    {
     "name": "stdout",
     "output_type": "stream",
     "text": [
      "a is greater than b\n"
     ]
    }
   ],
   "source": [
    "# <=, >\n",
    "a = 40\n",
    "b = 30\n",
    "\n",
    "if a<=b:  # False\n",
    "    print('a is less than or equal to b')\n",
    "    \n",
    "elif a>b: # True\n",
    "    print('a is greater than b')"
   ]
  },
  {
   "cell_type": "code",
   "execution_count": 19,
   "id": "25867e02",
   "metadata": {},
   "outputs": [
    {
     "name": "stdout",
     "output_type": "stream",
     "text": [
      "Both strings are equal\n"
     ]
    }
   ],
   "source": [
    "# Check whether both the strings are equal or not\n",
    "string1 = 'python'\n",
    "string2 = 'python'\n",
    "\n",
    "if string1==string2:  # True\n",
    "    print('Both strings are equal')\n",
    "    \n",
    "else:\n",
    "    print('Both strings are not equal')"
   ]
  },
  {
   "cell_type": "code",
   "execution_count": 20,
   "id": "0437b228",
   "metadata": {},
   "outputs": [
    {
     "name": "stdout",
     "output_type": "stream",
     "text": [
      "Both strings are not equal\n"
     ]
    }
   ],
   "source": [
    "# Check whether both the strings are equal or not\n",
    "string1 = 'python'\n",
    "string2 = 'class'\n",
    "\n",
    "if string1==string2:  # False\n",
    "    print('Both strings are equal')\n",
    "    \n",
    "else:\n",
    "    print('Both strings are not equal')"
   ]
  },
  {
   "cell_type": "markdown",
   "id": "99caf516",
   "metadata": {},
   "source": [
    "# if else statement along with logical operators"
   ]
  },
  {
   "cell_type": "code",
   "execution_count": 21,
   "id": "2564aa21",
   "metadata": {},
   "outputs": [
    {
     "name": "stdout",
     "output_type": "stream",
     "text": [
      "b is the greatest of the three numbers\n"
     ]
    }
   ],
   "source": [
    "# Find the greatest of the three numbers\n",
    "a = 30\n",
    "b = 200\n",
    "c = 10\n",
    "\n",
    "if a>b and a>c:  # False\n",
    "    print('a is the greatest of the three numbers')\n",
    "\n",
    "elif b>a and b>c:  # True\n",
    "    print('b is the greatest of the three numbers')\n",
    "    \n",
    "else:\n",
    "    print('c is the greatest of the three numbers')"
   ]
  },
  {
   "cell_type": "code",
   "execution_count": 22,
   "id": "261c3f34",
   "metadata": {},
   "outputs": [
    {
     "name": "stdout",
     "output_type": "stream",
     "text": [
      "c is the greatest of the three numbers\n"
     ]
    }
   ],
   "source": [
    "# Find the greatest of the three numbers\n",
    "a = 30\n",
    "b = 20\n",
    "c = 100\n",
    "\n",
    "if a>b and a>c:  # False\n",
    "    print('a is the greatest of the three numbers')\n",
    "\n",
    "elif b>a and b>c:  # False\n",
    "    print('b is the greatest of the three numbers')\n",
    "    \n",
    "else:\n",
    "    print('c is the greatest of the three numbers')"
   ]
  },
  {
   "cell_type": "code",
   "execution_count": 23,
   "id": "23581bdc",
   "metadata": {},
   "outputs": [
    {
     "name": "stdout",
     "output_type": "stream",
     "text": [
      "a is the greatest of the three numbers\n"
     ]
    }
   ],
   "source": [
    "# Find the greatest of the three numbers\n",
    "a = 300\n",
    "b = 200\n",
    "c = 10\n",
    "\n",
    "\n",
    "if a>b and a>c:  # True\n",
    "    print('a is the greatest of the three numbers')\n",
    "\n",
    "elif b>a and b>c:\n",
    "    print('b is the greatest of the three numbers')\n",
    "    \n",
    "else:\n",
    "    print('c is the greatest of the three numbers')"
   ]
  },
  {
   "cell_type": "code",
   "execution_count": 24,
   "id": "91ed0aa4",
   "metadata": {},
   "outputs": [
    {
     "name": "stdout",
     "output_type": "stream",
     "text": [
      "Enter value of a:55\n",
      "Enter value of b:24\n",
      "Enter value of c:3\n",
      "a is the greatest of the three numbers\n"
     ]
    }
   ],
   "source": [
    "# Take 3 user inputs and Find the greatest of the three numbers\n",
    "\n",
    "a = int(input('Enter value of a:'))\n",
    "b = int(input('Enter value of b:'))\n",
    "c = int(input('Enter value of c:'))\n",
    "\n",
    "\n",
    "if a>b and a>c:  # True\n",
    "    print('a is the greatest of the three numbers')\n",
    "\n",
    "elif b>a and b>c:\n",
    "    print('b is the greatest of the three numbers')\n",
    "    \n",
    "else:\n",
    "    print('c is the greatest of the three numbers')"
   ]
  },
  {
   "cell_type": "code",
   "execution_count": 25,
   "id": "fc4f8d7d",
   "metadata": {},
   "outputs": [
    {
     "name": "stdout",
     "output_type": "stream",
     "text": [
      "Enter value of a:30\n",
      "Enter value of b:50\n",
      "Enter value of c:10\n",
      "b is the greatest of the three numbers\n"
     ]
    }
   ],
   "source": [
    "# Take 3 user inputs and Find the greatest of the three numbers\n",
    "\n",
    "a = int(input('Enter value of a:'))\n",
    "b = int(input('Enter value of b:'))\n",
    "c = int(input('Enter value of c:'))\n",
    "\n",
    "\n",
    "if a>b and a>c:  # True\n",
    "    print('a is the greatest of the three numbers')\n",
    "\n",
    "elif b>a and b>c:\n",
    "    print('b is the greatest of the three numbers')\n",
    "    \n",
    "else:\n",
    "    print('c is the greatest of the three numbers')"
   ]
  },
  {
   "cell_type": "code",
   "execution_count": 26,
   "id": "8ff7f701",
   "metadata": {},
   "outputs": [
    {
     "name": "stdout",
     "output_type": "stream",
     "text": [
      "Odd no\n"
     ]
    }
   ],
   "source": [
    "# Check whether the given number is even or odd\n",
    "a = 23\n",
    "\n",
    "if a%2==0:  # False\n",
    "    print('Even no')\n",
    "    \n",
    "else:\n",
    "    print('Odd no')"
   ]
  },
  {
   "cell_type": "code",
   "execution_count": 27,
   "id": "119130d5",
   "metadata": {},
   "outputs": [
    {
     "name": "stdout",
     "output_type": "stream",
     "text": [
      "Even no\n"
     ]
    }
   ],
   "source": [
    "# Check whether the given number is even or odd\n",
    "a = 24\n",
    "\n",
    "if a%2==0:  # True\n",
    "    print('Even no')\n",
    "    \n",
    "else:\n",
    "    print('Odd no')"
   ]
  },
  {
   "cell_type": "markdown",
   "id": "27f4271b",
   "metadata": {},
   "source": [
    "# If else statements along with membership operator"
   ]
  },
  {
   "cell_type": "code",
   "execution_count": 28,
   "id": "0eec9c28",
   "metadata": {},
   "outputs": [
    {
     "name": "stdout",
     "output_type": "stream",
     "text": [
      "substring is present in string\n"
     ]
    }
   ],
   "source": [
    "# Check whether substring is present in string or not\n",
    "string = 'data science'\n",
    "substring = 'data'\n",
    "\n",
    "\n",
    "if substring in string:  # True\n",
    "    print('substring is present in string')\n",
    "    \n",
    "else:\n",
    "    print('substring is not present in string')"
   ]
  },
  {
   "cell_type": "code",
   "execution_count": 29,
   "id": "267e088a",
   "metadata": {},
   "outputs": [
    {
     "name": "stdout",
     "output_type": "stream",
     "text": [
      "substring is not present in string\n"
     ]
    }
   ],
   "source": [
    "# Check whether substring is present in string or not\n",
    "string = 'data science'\n",
    "substring = 'Data'\n",
    "\n",
    "if substring in string:  # False\n",
    "    print('substring is present in string')\n",
    "    \n",
    "else:\n",
    "    print('substring is not present in string')"
   ]
  },
  {
   "cell_type": "code",
   "execution_count": 30,
   "id": "7b825367",
   "metadata": {},
   "outputs": [
    {
     "name": "stdout",
     "output_type": "stream",
     "text": [
      "substring1 and substring2 is not present in string\n"
     ]
    }
   ],
   "source": [
    "# Check whether substring1 and substring2 is present in string or not\n",
    "string = 'data science'\n",
    "substring1 = 'Data'\n",
    "substring2 = 'Python'\n",
    "\n",
    "\n",
    "if substring1 in string and substring2 in string:  # False\n",
    "    print('substring1 and substring2 is present in string')\n",
    "    \n",
    "else:\n",
    "     print('substring1 and substring2 is not present in string')"
   ]
  },
  {
   "cell_type": "code",
   "execution_count": 31,
   "id": "b07588a2",
   "metadata": {},
   "outputs": [
    {
     "name": "stdout",
     "output_type": "stream",
     "text": [
      "substring1 and substring2 is present in string\n"
     ]
    }
   ],
   "source": [
    "# Check whether substring1 and substring2 is present in string or not\n",
    "string = 'Python and Data science'\n",
    "substring1 = 'Data'\n",
    "substring2 = 'Python'\n",
    "\n",
    "\n",
    "if substring1 in string and substring2 in string:  # True\n",
    "    print('substring1 and substring2 is present in string')\n",
    "    \n",
    "else:\n",
    "     print('substring1 and substring2 is not present in string')"
   ]
  },
  {
   "cell_type": "markdown",
   "id": "1097cbf7",
   "metadata": {},
   "source": [
    "# if else statement along with identity operators"
   ]
  },
  {
   "cell_type": "code",
   "execution_count": 32,
   "id": "ebadc8ea",
   "metadata": {},
   "outputs": [
    {
     "name": "stdout",
     "output_type": "stream",
     "text": [
      "Same object\n"
     ]
    }
   ],
   "source": [
    "# Using is operator find whether they have same location or not\n",
    "x = -5\n",
    "y =-5\n",
    "\n",
    "\n",
    "if x is y:  # True\n",
    "    print('Same object')\n",
    "    \n",
    "else:\n",
    "    print('Different object')"
   ]
  },
  {
   "cell_type": "code",
   "execution_count": 33,
   "id": "89d02f78",
   "metadata": {},
   "outputs": [
    {
     "name": "stdout",
     "output_type": "stream",
     "text": [
      "Same object\n"
     ]
    }
   ],
   "source": [
    "# Using is not operator find whether they have same location or not\n",
    "x = -5\n",
    "y =-5\n",
    "\n",
    "if x is not y:  # False\n",
    "    print('Different object')\n",
    "    \n",
    "else:\n",
    "    print('Same object')"
   ]
  },
  {
   "cell_type": "code",
   "execution_count": 34,
   "id": "fafd798f",
   "metadata": {},
   "outputs": [
    {
     "name": "stdout",
     "output_type": "stream",
     "text": [
      "Different object\n"
     ]
    }
   ],
   "source": [
    "# Using is operator find whether they have same location or not\n",
    "x = -5\n",
    "y = 25\n",
    "\n",
    "\n",
    "if x is y:  # False\n",
    "    print('Same object')\n",
    "    \n",
    "else:\n",
    "    print('Different object')"
   ]
  },
  {
   "cell_type": "code",
   "execution_count": 35,
   "id": "f1f9ad59",
   "metadata": {},
   "outputs": [
    {
     "name": "stdout",
     "output_type": "stream",
     "text": [
      "Different object\n"
     ]
    }
   ],
   "source": [
    "# Using is not operator find whether they have same location or not\n",
    "x = -5\n",
    "y = 25\n",
    "\n",
    "if x is not y:  # True\n",
    "    print('Different object')\n",
    "    \n",
    "else:\n",
    "    print('Same object')"
   ]
  },
  {
   "cell_type": "markdown",
   "id": "88609ab2",
   "metadata": {},
   "source": [
    "# Pass Statement"
   ]
  },
  {
   "cell_type": "code",
   "execution_count": null,
   "id": "d6e24902",
   "metadata": {},
   "outputs": [],
   "source": [
    "Used to avoid an errors\n",
    "If there is no statement in if/elif/else block, then we can use pass statement"
   ]
  },
  {
   "cell_type": "code",
   "execution_count": 37,
   "id": "40137c71",
   "metadata": {},
   "outputs": [
    {
     "name": "stdout",
     "output_type": "stream",
     "text": [
      "Both strings are not equal\n"
     ]
    }
   ],
   "source": [
    "# # Check whether both the strings are equal or not (use pass in if else statement)\n",
    "string1 = 'python'\n",
    "string2 = 'class'\n",
    "\n",
    "if string1==string2:  # False\n",
    "    print('Both strings are equal')\n",
    "    \n",
    "else:\n",
    "    print('Both strings are not equal')"
   ]
  },
  {
   "cell_type": "code",
   "execution_count": 41,
   "id": "c83b6691",
   "metadata": {},
   "outputs": [
    {
     "ename": "IndentationError",
     "evalue": "expected an indented block after 'if' statement on line 5 (2075957060.py, line 8)",
     "output_type": "error",
     "traceback": [
      "\u001b[1;36m  Cell \u001b[1;32mIn[41], line 8\u001b[1;36m\u001b[0m\n\u001b[1;33m    else:\u001b[0m\n\u001b[1;37m    ^\u001b[0m\n\u001b[1;31mIndentationError\u001b[0m\u001b[1;31m:\u001b[0m expected an indented block after 'if' statement on line 5\n"
     ]
    }
   ],
   "source": [
    "# # Check whether both the strings are equal or not (use pass in if else statement)\n",
    "string1 = 'python'\n",
    "string2 = 'class'\n",
    "\n",
    "if string1==string2:  # False\n",
    "#     print('Both strings are equal')\n",
    "    \n",
    "else:\n",
    "    print('Both strings are not equal')"
   ]
  },
  {
   "cell_type": "code",
   "execution_count": 40,
   "id": "d94f6f2b",
   "metadata": {},
   "outputs": [
    {
     "ename": "SyntaxError",
     "evalue": "incomplete input (3770520500.py, line 9)",
     "output_type": "error",
     "traceback": [
      "\u001b[1;36m  Cell \u001b[1;32mIn[40], line 9\u001b[1;36m\u001b[0m\n\u001b[1;33m    #     print('Both strings are not equal')\u001b[0m\n\u001b[1;37m                                             ^\u001b[0m\n\u001b[1;31mSyntaxError\u001b[0m\u001b[1;31m:\u001b[0m incomplete input\n"
     ]
    }
   ],
   "source": [
    "# # Check whether both the strings are equal or not (use pass in if else statement)\n",
    "string1 = 'python'\n",
    "string2 = 'class'\n",
    "\n",
    "if string1==string2:  # False\n",
    "    print('Both strings are equal')\n",
    "    \n",
    "else:\n",
    "#     print('Both strings are not equal')"
   ]
  },
  {
   "cell_type": "code",
   "execution_count": 42,
   "id": "3a5fac48",
   "metadata": {},
   "outputs": [
    {
     "name": "stdout",
     "output_type": "stream",
     "text": [
      "Both strings are not equal\n"
     ]
    }
   ],
   "source": [
    "# # Check whether both the strings are equal or not (use pass in if else statement)\n",
    "string1 = 'python'\n",
    "string2 = 'class'\n",
    "\n",
    "if string1==string2:  # False\n",
    "#     print('Both strings are equal')\n",
    "    pass\n",
    "    \n",
    "else:\n",
    "    print('Both strings are not equal')"
   ]
  },
  {
   "cell_type": "code",
   "execution_count": 43,
   "id": "c9b34344",
   "metadata": {},
   "outputs": [],
   "source": [
    "# # Check whether both the strings are equal or not (use pass in if else statement)\n",
    "string1 = 'python'\n",
    "string2 = 'class'\n",
    "\n",
    "if string1==string2:  # False\n",
    "    print('Both strings are equal')\n",
    "    \n",
    "else:\n",
    "#     print('Both strings are not equal')\n",
    "    pass"
   ]
  },
  {
   "cell_type": "markdown",
   "id": "72ff75b8",
   "metadata": {},
   "source": [
    "# Nested if-else statement"
   ]
  },
  {
   "cell_type": "code",
   "execution_count": null,
   "id": "565d75f6",
   "metadata": {},
   "outputs": [],
   "source": [
    "if statement inside if statement    "
   ]
  },
  {
   "cell_type": "code",
   "execution_count": 44,
   "id": "3481161f",
   "metadata": {},
   "outputs": [
    {
     "name": "stdout",
     "output_type": "stream",
     "text": [
      "Cibil score is greater than 750\n",
      "Loan is declined due to low salary\n"
     ]
    }
   ],
   "source": [
    "# loan_status >> Approved/declined\n",
    "\n",
    "cibil_score = 800\n",
    "salary = 35000\n",
    "age = 30\n",
    "\n",
    "\n",
    "if cibil_score>750:  # True\n",
    "    print('Cibil score is greater than 750')\n",
    "    \n",
    "    if salary>40000: # False\n",
    "        print('Salary is greater than 40000')\n",
    "        \n",
    "        if age>20 and age<60:\n",
    "            print('Age criteria satisfied')\n",
    "            print('Loan is approved')\n",
    "            \n",
    "        else:\n",
    "            print('Loan is declined due to age criteria not satisfied')\n",
    "            \n",
    "        \n",
    "    else:\n",
    "        print('Loan is declined due to low salary')\n",
    "        \n",
    "else:\n",
    "    print('Loan is declined due to low cibil score')"
   ]
  },
  {
   "cell_type": "code",
   "execution_count": 45,
   "id": "5b36d03b",
   "metadata": {},
   "outputs": [
    {
     "name": "stdout",
     "output_type": "stream",
     "text": [
      "Cibil score is greater than 750\n",
      "Salary is greater than 40000\n",
      "Loan is declined due to age criteria not satisfied\n"
     ]
    }
   ],
   "source": [
    "# loan_status >> Approved/declined\n",
    "\n",
    "cibil_score = 800\n",
    "salary = 50000\n",
    "age = 20\n",
    "\n",
    "\n",
    "if cibil_score>750:  # True\n",
    "    print('Cibil score is greater than 750')\n",
    "    \n",
    "    if salary>40000: # True\n",
    "        print('Salary is greater than 40000')\n",
    "        \n",
    "        if age>20 and age<60:  # False\n",
    "            print('Age criteria satisfied')\n",
    "            print('Loan is approved')\n",
    "            \n",
    "        else:\n",
    "            print('Loan is declined due to age criteria not satisfied')\n",
    "            \n",
    "        \n",
    "    else:\n",
    "        print('Loan is declined due to low salary')\n",
    "        \n",
    "else:\n",
    "    print('Loan is declined due to low cibil score')"
   ]
  },
  {
   "cell_type": "code",
   "execution_count": 46,
   "id": "32c30795",
   "metadata": {},
   "outputs": [
    {
     "name": "stdout",
     "output_type": "stream",
     "text": [
      "Loan is declined due to low cibil score\n"
     ]
    }
   ],
   "source": [
    "# loan_status >> Approved/declined\n",
    "\n",
    "cibil_score = 700\n",
    "salary = 50000\n",
    "age = 20\n",
    "\n",
    "\n",
    "if cibil_score>750:  # False\n",
    "    print('Cibil score is greater than 750')\n",
    "    \n",
    "    if salary>40000: \n",
    "        print('Salary is greater than 40000')\n",
    "        \n",
    "        if age>20 and age<60:  \n",
    "            print('Age criteria satisfied')\n",
    "            print('Loan is approved')\n",
    "            \n",
    "        else:\n",
    "            print('Loan is declined due to age criteria not satisfied')\n",
    "            \n",
    "        \n",
    "    else:\n",
    "        print('Loan is declined due to low salary')\n",
    "        \n",
    "else:\n",
    "    print('Loan is declined due to low cibil score')"
   ]
  },
  {
   "cell_type": "code",
   "execution_count": 47,
   "id": "1071bc8a",
   "metadata": {},
   "outputs": [
    {
     "name": "stdout",
     "output_type": "stream",
     "text": [
      "x is greater than 100\n",
      "x is not greater than 150\n"
     ]
    }
   ],
   "source": [
    "x = 120\n",
    "\n",
    "if x>100:  # True\n",
    "    print('x is greater than 100')\n",
    "    \n",
    "    if x>150: # False\n",
    "        print('x is greater than 150')\n",
    "        \n",
    "    else:\n",
    "        print('x is not greater than 150')\n",
    "    \n",
    "else:\n",
    "    print('x is not greater than 100')"
   ]
  },
  {
   "cell_type": "code",
   "execution_count": 49,
   "id": "ca5c3d50",
   "metadata": {},
   "outputs": [
    {
     "name": "stdout",
     "output_type": "stream",
     "text": [
      "x is greater than 100\n",
      "x is greater than 150\n"
     ]
    }
   ],
   "source": [
    "x = 155\n",
    "\n",
    "if x>100:  # True\n",
    "    print('x is greater than 100')\n",
    "    \n",
    "    if x>150: # True\n",
    "        print('x is greater than 150')\n",
    "        \n",
    "    else:\n",
    "        if x>120:\n",
    "            print('x is greater than 120')\n",
    "            \n",
    "        else:\n",
    "            print('x is not greater than 120')\n",
    "    \n",
    "else:\n",
    "    print('x is not greater than 100')"
   ]
  },
  {
   "cell_type": "code",
   "execution_count": 50,
   "id": "92f25e02",
   "metadata": {},
   "outputs": [
    {
     "name": "stdout",
     "output_type": "stream",
     "text": [
      "x is greater than 100\n",
      "x is greater than 120\n"
     ]
    }
   ],
   "source": [
    "x = 125\n",
    "\n",
    "if x>100:  # True\n",
    "    print('x is greater than 100')\n",
    "    \n",
    "    if x>150: # False\n",
    "        print('x is greater than 150')\n",
    "        \n",
    "    else:\n",
    "        if x>120: # True\n",
    "            print('x is greater than 120')\n",
    "            \n",
    "        else:\n",
    "            print('x is not greater than 120')\n",
    "    \n",
    "else:\n",
    "    print('x is not greater than 100')"
   ]
  }
 ],
 "metadata": {
  "kernelspec": {
   "display_name": "Python 3 (ipykernel)",
   "language": "python",
   "name": "python3"
  },
  "language_info": {
   "codemirror_mode": {
    "name": "ipython",
    "version": 3
   },
   "file_extension": ".py",
   "mimetype": "text/x-python",
   "name": "python",
   "nbconvert_exporter": "python",
   "pygments_lexer": "ipython3",
   "version": "3.11.5"
  }
 },
 "nbformat": 4,
 "nbformat_minor": 5
}
