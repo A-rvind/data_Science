{
 "cells": [
  {
   "cell_type": "markdown",
   "id": "0479c16f",
   "metadata": {},
   "source": [
    "# Tuple"
   ]
  },
  {
   "cell_type": "code",
   "execution_count": null,
   "id": "ef78ac18",
   "metadata": {},
   "outputs": [],
   "source": [
    "Immutable Data Type >> Unchangable >> We can not modify tuple\n",
    "Ordered\n",
    "Allows duplicate item\n",
    "Tuple are faster than list\n",
    "We can add any datatypes items\n",
    "\n",
    "tuple are enclosed by ()\n",
    "comma seperated"
   ]
  },
  {
   "cell_type": "code",
   "execution_count": 1,
   "id": "96c1507f",
   "metadata": {},
   "outputs": [
    {
     "data": {
      "text/plain": [
       "(3, 4.5, 5, 6, 7, 'python', [4, 5], (3, 4, 5))"
      ]
     },
     "execution_count": 1,
     "metadata": {},
     "output_type": "execute_result"
    }
   ],
   "source": [
    "# Tuple can have items of any datatype\n",
    "tuple1 = (3,4.5,5,6,7,'python',[4,5],(3,4,5))\n",
    "tuple1"
   ]
  },
  {
   "cell_type": "code",
   "execution_count": 2,
   "id": "a0640301",
   "metadata": {},
   "outputs": [
    {
     "data": {
      "text/plain": [
       "tuple"
      ]
     },
     "execution_count": 2,
     "metadata": {},
     "output_type": "execute_result"
    }
   ],
   "source": [
    "# check type\n",
    "type(tuple1)"
   ]
  },
  {
   "cell_type": "code",
   "execution_count": 3,
   "id": "e41b70fc",
   "metadata": {},
   "outputs": [
    {
     "data": {
      "text/plain": [
       "8"
      ]
     },
     "execution_count": 3,
     "metadata": {},
     "output_type": "execute_result"
    }
   ],
   "source": [
    "# Find length\n",
    "len(tuple1)"
   ]
  },
  {
   "cell_type": "markdown",
   "id": "08dbe334",
   "metadata": {},
   "source": [
    "# Indexing and slicing"
   ]
  },
  {
   "cell_type": "code",
   "execution_count": 6,
   "id": "8bc51a22",
   "metadata": {},
   "outputs": [
    {
     "data": {
      "text/plain": [
       "35"
      ]
     },
     "execution_count": 6,
     "metadata": {},
     "output_type": "execute_result"
    }
   ],
   "source": [
    "#use index positive indexing\n",
    "tuple2 = (10,20,30,15,25,35,50,55)\n",
    "tuple2[5]"
   ]
  },
  {
   "cell_type": "code",
   "execution_count": 7,
   "id": "ddf6be06",
   "metadata": {},
   "outputs": [
    {
     "data": {
      "text/plain": [
       "50"
      ]
     },
     "execution_count": 7,
     "metadata": {},
     "output_type": "execute_result"
    }
   ],
   "source": [
    "# 2.Negative Indexing\n",
    "tuple3 = (10,20,30,15,25,35,50,55)\n",
    "tuple3[-2]"
   ]
  },
  {
   "cell_type": "code",
   "execution_count": 8,
   "id": "5c6de846",
   "metadata": {},
   "outputs": [
    {
     "data": {
      "text/plain": [
       "(30, 15, 25)"
      ]
     },
     "execution_count": 8,
     "metadata": {},
     "output_type": "execute_result"
    }
   ],
   "source": [
    "#Slicing \n",
    "tuple4 = (10,20,30,15,25,35,50,55)\n",
    "tuple4[2:5] #[start_index:end_index:stepsize]"
   ]
  },
  {
   "cell_type": "markdown",
   "id": "0b0fb168",
   "metadata": {},
   "source": [
    "# Tuple Operations"
   ]
  },
  {
   "cell_type": "code",
   "execution_count": 9,
   "id": "80df6c97",
   "metadata": {},
   "outputs": [
    {
     "data": {
      "text/plain": [
       "('Mumbai', 'PUNE', 'Delhi', 'Maharashtra', 'Karnataka', 'Gujrat')"
      ]
     },
     "execution_count": 9,
     "metadata": {},
     "output_type": "execute_result"
    }
   ],
   "source": [
    "# use '+' operator on below variables\n",
    "city_names = ('Mumbai','PUNE',\"Delhi\")\n",
    "state_names = ('Maharashtra','Karnataka','Gujrat')\n",
    "city_names + state_names"
   ]
  },
  {
   "cell_type": "code",
   "execution_count": 10,
   "id": "64f593dd",
   "metadata": {},
   "outputs": [
    {
     "data": {
      "text/plain": [
       "('Mumbai', 'PUNE', 'Delhi', 'Mumbai', 'PUNE', 'Delhi')"
      ]
     },
     "execution_count": 10,
     "metadata": {},
     "output_type": "execute_result"
    }
   ],
   "source": [
    "# using '*' operator \n",
    "city_names = ('Mumbai','PUNE',\"Delhi\")\n",
    "city_names*2"
   ]
  },
  {
   "cell_type": "markdown",
   "id": "8b8e9daf",
   "metadata": {},
   "source": [
    "# Access items using for loop"
   ]
  },
  {
   "cell_type": "code",
   "execution_count": 11,
   "id": "2b08f8c8",
   "metadata": {},
   "outputs": [
    {
     "name": "stdout",
     "output_type": "stream",
     "text": [
      "Mumbai\n",
      "PUNE\n",
      "Delhi\n",
      "Maharashtra\n",
      "Karnataka\n",
      "Gujrat\n"
     ]
    }
   ],
   "source": [
    "# using for loop access all items in tuple\n",
    "tuple5 = ('Mumbai', 'PUNE', 'Delhi', 'Maharashtra', 'Karnataka', 'Gujrat')\n",
    "\n",
    "for var in tuple5:\n",
    "    print(var)"
   ]
  },
  {
   "cell_type": "code",
   "execution_count": null,
   "id": "bbbee4f9",
   "metadata": {},
   "outputs": [],
   "source": [
    "# Tuple are immutable\n",
    "tuple6 = (9,5,0,3,2,7,4,9)\n",
    "tuple6[2] = 'python'# you cant edit tuple\n",
    "tuple6"
   ]
  },
  {
   "cell_type": "code",
   "execution_count": 12,
   "id": "f1f6980c",
   "metadata": {},
   "outputs": [
    {
     "data": {
      "text/plain": [
       "[9, 5, 'python', 3, 2, 7, 4, 9]"
      ]
     },
     "execution_count": 12,
     "metadata": {},
     "output_type": "execute_result"
    }
   ],
   "source": [
    "# List are mutable\n",
    "list1 = [9,5,0,3,2,7,4,9]\n",
    "list1[2] = 'python'\n",
    "list1"
   ]
  },
  {
   "cell_type": "markdown",
   "id": "92b5773f",
   "metadata": {},
   "source": [
    "# Tuple Functions"
   ]
  },
  {
   "cell_type": "code",
   "execution_count": null,
   "id": "466b80e2",
   "metadata": {},
   "outputs": [],
   "source": [
    "# Only some functions are same as List becasuse of tuple is unmutable\n"
   ]
  },
  {
   "cell_type": "code",
   "execution_count": null,
   "id": "f943ca98",
   "metadata": {},
   "outputs": [],
   "source": [
    "1.count"
   ]
  },
  {
   "cell_type": "code",
   "execution_count": 13,
   "id": "95d26932",
   "metadata": {},
   "outputs": [
    {
     "data": {
      "text/plain": [
       "2"
      ]
     },
     "execution_count": 13,
     "metadata": {},
     "output_type": "execute_result"
    }
   ],
   "source": [
    "# Find count of Mumbai in tuple\n",
    "city_names = ('Mumbai', 'PUNE', 'Delhi','Mumbai', 'Chennai', 'Delhi')\n",
    "\n",
    "city_names.count('Mumbai')"
   ]
  },
  {
   "cell_type": "code",
   "execution_count": null,
   "id": "bb8442d5",
   "metadata": {},
   "outputs": [],
   "source": [
    "2. index"
   ]
  },
  {
   "cell_type": "code",
   "execution_count": 14,
   "id": "dbaa2732",
   "metadata": {},
   "outputs": [
    {
     "data": {
      "text/plain": [
       "4"
      ]
     },
     "execution_count": 14,
     "metadata": {},
     "output_type": "execute_result"
    }
   ],
   "source": [
    "# find index of Chennai in the tuple\n",
    "city_names = ('Mumbai', 'Pune', 'Delhi','Mumbai', 'Chennai', 'Delhi')\n",
    "\n",
    "city_names.index('Chennai')"
   ]
  },
  {
   "cell_type": "markdown",
   "id": "a44cc207",
   "metadata": {},
   "source": [
    "# List v/s tuple"
   ]
  },
  {
   "cell_type": "code",
   "execution_count": null,
   "id": "c30c14c3",
   "metadata": {},
   "outputs": [],
   "source": [
    "#List\n",
    "1. Mutable (changable) >> add, delete, update\n",
    "2. Enclosed by []\n",
    "3. Variable length\n",
    "4. It requires more memory\n",
    "5. More Functional\n",
    "6. We can store any datatype(int,float, str, list, tuple,dict, etc)\n",
    "7. List are slower than tuple"
   ]
  },
  {
   "cell_type": "code",
   "execution_count": null,
   "id": "2bb46a60",
   "metadata": {},
   "outputs": [],
   "source": [
    "#Tuple\n",
    "1. Immutable (Unchangable)\n",
    "2. enclosed by ()\n",
    "3. fixed length\n",
    "4. It requires less memory\n",
    "5. Less functional\n",
    "6. We can store any datatype(int,float, str, list, tuple,dict, etc)\n",
    "7. Tuple are faster than list"
   ]
  }
 ],
 "metadata": {
  "kernelspec": {
   "display_name": "Python 3 (ipykernel)",
   "language": "python",
   "name": "python3"
  },
  "language_info": {
   "codemirror_mode": {
    "name": "ipython",
    "version": 3
   },
   "file_extension": ".py",
   "mimetype": "text/x-python",
   "name": "python",
   "nbconvert_exporter": "python",
   "pygments_lexer": "ipython3",
   "version": "3.11.5"
  }
 },
 "nbformat": 4,
 "nbformat_minor": 5
}
