{
 "cells": [
  {
   "cell_type": "markdown",
   "id": "d0c33677",
   "metadata": {},
   "source": [
    "# Introduction"
   ]
  },
  {
   "cell_type": "markdown",
   "id": "a6c8a9e3",
   "metadata": {},
   "source": [
    "Python Can be used on a server to create web app.\n",
    "Libraries like Pandas, Numpy, Seaborn\n",
    "Available most of Platform\n",
    "More Functionality with less coding\n",
    "Data structures are user friendly"
   ]
  },
  {
   "cell_type": "code",
   "execution_count": null,
   "id": "400f9fb4",
   "metadata": {},
   "outputs": [],
   "source": [
    "DataTypes:\n",
    "    Numberic - int, float, complex\n",
    "    string - str\n",
    "    Binary types - bytes, bytearray, memoryview\n",
    "    squence types- list, tuple, range\n",
    "    Mapping data - dict\n",
    "    booelan types - bool (True / False)\n",
    "    Set data types - set, frozenset"
   ]
  },
  {
   "cell_type": "markdown",
   "id": "6d880822",
   "metadata": {},
   "source": [
    "Indentation:\n",
    "  refer to space at the beginning of code line.    \n",
    "  Indentation indicate a block of code.    \n",
    "  colon(:) is used for creating a code block.\n",
    "  Same indentation level as single block of code.    \n",
    "    \"Tab\" button give 4 space"
   ]
  },
  {
   "cell_type": "markdown",
   "id": "4c0a15e5",
   "metadata": {},
   "source": [
    "# Print Function"
   ]
  },
  {
   "cell_type": "code",
   "execution_count": 3,
   "id": "60f4ca2d",
   "metadata": {
    "scrolled": true
   },
   "outputs": [
    {
     "name": "stdout",
     "output_type": "stream",
     "text": [
      "HELLO WORLD\n"
     ]
    }
   ],
   "source": [
    "# lets print first code.\n",
    "print(\"HELLO WORLD\") "
   ]
  },
  {
   "cell_type": "code",
   "execution_count": null,
   "id": "46a0011c",
   "metadata": {},
   "outputs": [],
   "source": [
    "\"HELLO WORLD\" # something written in double quote is string"
   ]
  },
  {
   "cell_type": "markdown",
   "id": "58238a80",
   "metadata": {},
   "source": [
    "To comment in python we use >> # \n",
    "ctrl + / \n",
    "triple quotes"
   ]
  },
  {
   "cell_type": "code",
   "execution_count": 5,
   "id": "236f5953",
   "metadata": {},
   "outputs": [
    {
     "name": "stdout",
     "output_type": "stream",
     "text": [
      "20\n",
      "15\n"
     ]
    }
   ],
   "source": [
    "# Let print variables and expression\n",
    "a = 20 # a is variable and 20 is value.\n",
    "b = 15\n",
    "print (a) \n",
    "print (b) #variable"
   ]
  },
  {
   "cell_type": "code",
   "execution_count": 6,
   "id": "838c4dff",
   "metadata": {},
   "outputs": [
    {
     "name": "stdout",
     "output_type": "stream",
     "text": [
      "35\n"
     ]
    }
   ],
   "source": [
    "print (a+b) #expression\n",
    "print (a-b) #we can use multiple(*) divide(/)"
   ]
  },
  {
   "cell_type": "code",
   "execution_count": 9,
   "id": "cd8f80e9",
   "metadata": {},
   "outputs": [
    {
     "name": "stdout",
     "output_type": "stream",
     "text": [
      "Value of a is 20\n",
      "addition is  28\n"
     ]
    }
   ],
   "source": [
    "# we can print combination of text and variables\n",
    "a = 20\n",
    "b = 8\n",
    "print ('Value of a is', a) #use comma between string and variable or expression\n",
    "print ('addition is ',a+b)"
   ]
  },
  {
   "cell_type": "markdown",
   "id": "0bfd130a",
   "metadata": {},
   "source": [
    "Indentation:\n",
    "    after I click enter after colon. I get 4 space."
   ]
  }
 ],
 "metadata": {
  "kernelspec": {
   "display_name": "Python 3 (ipykernel)",
   "language": "python",
   "name": "python3"
  },
  "language_info": {
   "codemirror_mode": {
    "name": "ipython",
    "version": 3
   },
   "file_extension": ".py",
   "mimetype": "text/x-python",
   "name": "python",
   "nbconvert_exporter": "python",
   "pygments_lexer": "ipython3",
   "version": "3.11.5"
  }
 },
 "nbformat": 4,
 "nbformat_minor": 5
}
