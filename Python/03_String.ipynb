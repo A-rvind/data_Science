{
 "cells": [
  {
   "cell_type": "markdown",
   "id": "6a3badd3",
   "metadata": {},
   "source": [
    "<!-- String is a collection of characters surrounded by single quotes,double quote or triple quote\n",
    "\n",
    "for single line string >> we can use single quotes or double quotes \n",
    "for multiline string   >> we have to use three single quotes or three double quotes -->"
   ]
  },
  {
   "cell_type": "code",
   "execution_count": 47,
   "id": "7851b3fd",
   "metadata": {},
   "outputs": [
    {
     "name": "stdout",
     "output_type": "stream",
     "text": [
      "python programming language\n",
      "python programming language\n"
     ]
    }
   ],
   "source": [
    "# single line string\n",
    "print('python programming language')   # single quotes\n",
    "print(\"python programming language\")   # Double quotes"
   ]
  },
  {
   "cell_type": "code",
   "execution_count": 48,
   "id": "31652709",
   "metadata": {},
   "outputs": [
    {
     "name": "stdout",
     "output_type": "stream",
     "text": [
      "python programming\n",
      "      language\n"
     ]
    }
   ],
   "source": [
    "# Multiline string\n",
    "print('''python programming\n",
    "      language''')   # 3 single quotes"
   ]
  },
  {
   "cell_type": "markdown",
   "id": "fea3d0b1",
   "metadata": {},
   "source": [
    "# len function"
   ]
  },
  {
   "cell_type": "code",
   "execution_count": 49,
   "id": "48b85561",
   "metadata": {},
   "outputs": [
    {
     "name": "stdout",
     "output_type": "stream",
     "text": [
      "16\n"
     ]
    },
    {
     "data": {
      "text/plain": [
       "11"
      ]
     },
     "execution_count": 49,
     "metadata": {},
     "output_type": "execute_result"
    }
   ],
   "source": [
    "string = 'Machine learning'\n",
    "print(len(string))\n",
    "string2 = \"python lang\"\n",
    "len(string2)"
   ]
  },
  {
   "cell_type": "markdown",
   "id": "8455d5de",
   "metadata": {},
   "source": [
    "# \\n is for new line"
   ]
  },
  {
   "cell_type": "code",
   "execution_count": null,
   "id": "4444ca73",
   "metadata": {},
   "outputs": [],
   "source": [
    "# \\n you can use this, any where in string before, after or between"
   ]
  },
  {
   "cell_type": "code",
   "execution_count": 50,
   "id": "724d9ae6",
   "metadata": {},
   "outputs": [
    {
     "name": "stdout",
     "output_type": "stream",
     "text": [
      " let print \n",
      " in next line\n"
     ]
    }
   ],
   "source": [
    "check = \" let print \\n in next line\"\n",
    "print(check)"
   ]
  },
  {
   "cell_type": "code",
   "execution_count": 51,
   "id": "3d93d2ad",
   "metadata": {},
   "outputs": [
    {
     "name": "stdout",
     "output_type": "stream",
     "text": [
      " let print \t space\n"
     ]
    }
   ],
   "source": [
    "# \\t is for space\n",
    "check = \" let print \\t space\"\n",
    "print(check)"
   ]
  },
  {
   "cell_type": "markdown",
   "id": "98bfb0b5",
   "metadata": {},
   "source": [
    "# String indexing\n",
    "1. Positive indexing\n",
    "2. Negative indexing\n"
   ]
  },
  {
   "cell_type": "code",
   "execution_count": null,
   "id": "720b4601",
   "metadata": {},
   "outputs": [],
   "source": [
    "# Positive indexing will start from 0\n",
    "# Negative indexing start from -1 from right side"
   ]
  },
  {
   "cell_type": "code",
   "execution_count": 75,
   "id": "2c612129",
   "metadata": {},
   "outputs": [],
   "source": [
    "\n",
    "#  p    y    t    h   o   n\n",
    "#  0    1    2    3   4   5   >> Positive indexing\n",
    "# -6   -5   -4   -3  -2  -1   >> Negative indexing\n"
   ]
  },
  {
   "cell_type": "code",
   "execution_count": 52,
   "id": "99906c24",
   "metadata": {},
   "outputs": [],
   "source": [
    "# Index of the last item = length(string)-1"
   ]
  },
  {
   "cell_type": "code",
   "execution_count": 53,
   "id": "9c65587d",
   "metadata": {},
   "outputs": [
    {
     "name": "stdout",
     "output_type": "stream",
     "text": [
      "p\n",
      "y\n",
      "t\n",
      "h\n",
      "o\n",
      "n\n"
     ]
    }
   ],
   "source": [
    "# Access all the characters\n",
    "string = \"python\"\n",
    "print(string[0])\n",
    "print(string[1])\n",
    "print(string[2])\n",
    "print(string[3])\n",
    "print(string[4])\n",
    "print(string[5])"
   ]
  },
  {
   "cell_type": "code",
   "execution_count": 54,
   "id": "12d99609",
   "metadata": {},
   "outputs": [
    {
     "data": {
      "text/plain": [
       "7"
      ]
     },
     "execution_count": 54,
     "metadata": {},
     "output_type": "execute_result"
    }
   ],
   "source": [
    "string = \"Indexing\"\n",
    "len(string)-1 # return in number"
   ]
  },
  {
   "cell_type": "code",
   "execution_count": 55,
   "id": "f5a34c34",
   "metadata": {},
   "outputs": [
    {
     "name": "stdout",
     "output_type": "stream",
     "text": [
      "d\n",
      "x\n"
     ]
    }
   ],
   "source": [
    "print(string[2])\n",
    "print(string[-4]) # return in alphabet"
   ]
  },
  {
   "cell_type": "markdown",
   "id": "07480def",
   "metadata": {},
   "source": [
    "# Slicing \n",
    "(access multiple characters)\n",
    "1. Positive slicing\n",
    "2. Negative slicing"
   ]
  },
  {
   "cell_type": "code",
   "execution_count": null,
   "id": "0210b8d9",
   "metadata": {},
   "outputs": [],
   "source": [
    "# Positive Slicing\n",
    "# string[start_index : end_index : [step_size]]\n",
    "# start_index >> default 0  >> include\n",
    "# end_index >> length  >> exclude"
   ]
  },
  {
   "cell_type": "code",
   "execution_count": 56,
   "id": "1baa415e",
   "metadata": {},
   "outputs": [
    {
     "data": {
      "text/plain": [
       "'yth'"
      ]
     },
     "execution_count": 56,
     "metadata": {},
     "output_type": "execute_result"
    }
   ],
   "source": [
    "string = 'python'\n",
    "string[1:4] #string[start_index : end_index : [step_size]]"
   ]
  },
  {
   "cell_type": "code",
   "execution_count": 57,
   "id": "1e5c7942",
   "metadata": {},
   "outputs": [
    {
     "data": {
      "text/plain": [
       "'machine learning'"
      ]
     },
     "execution_count": 57,
     "metadata": {},
     "output_type": "execute_result"
    }
   ],
   "source": [
    "string = 'machine learning'\n",
    "string[:]"
   ]
  },
  {
   "cell_type": "code",
   "execution_count": 58,
   "id": "ac4205e0",
   "metadata": {},
   "outputs": [
    {
     "data": {
      "text/plain": [
       "'chi'"
      ]
     },
     "execution_count": 58,
     "metadata": {},
     "output_type": "execute_result"
    }
   ],
   "source": [
    "string[2 : 5]  #the last 5th index will not get print"
   ]
  },
  {
   "cell_type": "markdown",
   "id": "b1930fd2",
   "metadata": {},
   "source": [
    "Negative Slicing\n",
    "    p   y   t   h   o   n\n",
    "   -6   -5  -4  -3  -2  -1"
   ]
  },
  {
   "cell_type": "code",
   "execution_count": 59,
   "id": "ae59983f",
   "metadata": {},
   "outputs": [
    {
     "data": {
      "text/plain": [
       "'rni'"
      ]
     },
     "execution_count": 59,
     "metadata": {},
     "output_type": "execute_result"
    }
   ],
   "source": [
    "string_Negative = 'machine learning'\n",
    "string_Negative[-5 : -2]"
   ]
  },
  {
   "cell_type": "markdown",
   "id": "642a28b6",
   "metadata": {},
   "source": [
    "# Step Size"
   ]
  },
  {
   "cell_type": "code",
   "execution_count": 60,
   "id": "e4228d34",
   "metadata": {},
   "outputs": [],
   "source": [
    "string_Step = \"Data science is an interdisciplinary field that uses scientific methods\""
   ]
  },
  {
   "cell_type": "code",
   "execution_count": 61,
   "id": "b064f505",
   "metadata": {},
   "outputs": [
    {
     "data": {
      "text/plain": [
       "'Data science is an i'"
      ]
     },
     "execution_count": 61,
     "metadata": {},
     "output_type": "execute_result"
    }
   ],
   "source": [
    "string_Step[0:20:1] #default it will move without skip of any letter"
   ]
  },
  {
   "cell_type": "code",
   "execution_count": 62,
   "id": "65f0d06e",
   "metadata": {},
   "outputs": [
    {
     "data": {
      "text/plain": [
       "'Dacn '"
      ]
     },
     "execution_count": 62,
     "metadata": {},
     "output_type": "execute_result"
    }
   ],
   "source": [
    "string_Step[0:15:3]"
   ]
  },
  {
   "cell_type": "markdown",
   "id": "57966cf0",
   "metadata": {},
   "source": [
    "#  Reversed string"
   ]
  },
  {
   "cell_type": "code",
   "execution_count": 63,
   "id": "c7a17095",
   "metadata": {},
   "outputs": [
    {
     "data": {
      "text/plain": [
       "'sdohtem cifitneics sesu taht dleif yranilpicsidretni na si ecneics ataD'"
      ]
     },
     "execution_count": 63,
     "metadata": {},
     "output_type": "execute_result"
    }
   ],
   "source": [
    "string_rev = \"Data science is an interdisciplinary field that uses scientific methods\"\n",
    "string_rev[::-1] #revering all letter"
   ]
  },
  {
   "cell_type": "markdown",
   "id": "9e782a99",
   "metadata": {},
   "source": [
    "# Access char by using for loop"
   ]
  },
  {
   "cell_type": "markdown",
   "id": "88f5faf0",
   "metadata": {},
   "source": [
    "for variable in sequence:\n",
    "    statement1\n",
    "    statement2"
   ]
  },
  {
   "cell_type": "code",
   "execution_count": 64,
   "id": "813b3af3",
   "metadata": {},
   "outputs": [
    {
     "name": "stdout",
     "output_type": "stream",
     "text": [
      "s\n",
      "c\n",
      "i\n",
      "e\n",
      "n\n",
      "c\n",
      "e\n"
     ]
    }
   ],
   "source": [
    "# use for loop to access every char\n",
    "string = \"science\"\n",
    "for char in string:\n",
    "    print(char)"
   ]
  },
  {
   "cell_type": "code",
   "execution_count": 65,
   "id": "ce1bf84d",
   "metadata": {},
   "outputs": [
    {
     "name": "stdout",
     "output_type": "stream",
     "text": [
      "science"
     ]
    }
   ],
   "source": [
    "#pring in single line\n",
    "string = \"science\"\n",
    "for char in string:\n",
    "    print(char,end='') #end='' space betweeen character"
   ]
  },
  {
   "cell_type": "markdown",
   "id": "3ea28b40",
   "metadata": {},
   "source": [
    "# Enumerate()"
   ]
  },
  {
   "cell_type": "code",
   "execution_count": 66,
   "id": "69848695",
   "metadata": {},
   "outputs": [
    {
     "name": "stdout",
     "output_type": "stream",
     "text": [
      "0 s\n",
      "1 c\n",
      "2 i\n",
      "3 e\n",
      "4 n\n",
      "5 c\n",
      "6 e\n"
     ]
    }
   ],
   "source": [
    "string = \"science\"\n",
    "for index,char in enumerate(string):\n",
    "    print(index,char)  #index, char can be written as u like.."
   ]
  },
  {
   "cell_type": "markdown",
   "id": "7ff7b448",
   "metadata": {},
   "source": [
    "# Check Character in string"
   ]
  },
  {
   "cell_type": "code",
   "execution_count": 67,
   "id": "0f4df6d9",
   "metadata": {},
   "outputs": [
    {
     "data": {
      "text/plain": [
       "True"
      ]
     },
     "execution_count": 67,
     "metadata": {},
     "output_type": "execute_result"
    }
   ],
   "source": [
    "check_str = \"Check Characters is in or not string\"\n",
    "'not' in check_str # return in boolen value"
   ]
  },
  {
   "cell_type": "code",
   "execution_count": 68,
   "id": "380962fc",
   "metadata": {},
   "outputs": [
    {
     "data": {
      "text/plain": [
       "False"
      ]
     },
     "execution_count": 68,
     "metadata": {},
     "output_type": "execute_result"
    }
   ],
   "source": [
    "'not' not in check_str"
   ]
  },
  {
   "cell_type": "markdown",
   "id": "51330714",
   "metadata": {},
   "source": [
    "# String Concatenation"
   ]
  },
  {
   "cell_type": "code",
   "execution_count": 69,
   "id": "0d59355d",
   "metadata": {},
   "outputs": [
    {
     "data": {
      "text/plain": [
       "'datascience'"
      ]
     },
     "execution_count": 69,
     "metadata": {},
     "output_type": "execute_result"
    }
   ],
   "source": [
    "#To join any string using operations\n",
    "# concatenate 2 strings\n",
    "str1 = 'data'\n",
    "str2 = 'science'\n",
    "str1+str2"
   ]
  },
  {
   "cell_type": "code",
   "execution_count": 70,
   "id": "21f8621b",
   "metadata": {},
   "outputs": [
    {
     "data": {
      "text/plain": [
       "'datadata'"
      ]
     },
     "execution_count": 70,
     "metadata": {},
     "output_type": "execute_result"
    }
   ],
   "source": [
    "str1 = 'data'\n",
    "str1*2"
   ]
  },
  {
   "cell_type": "code",
   "execution_count": 71,
   "id": "51bae105",
   "metadata": {},
   "outputs": [
    {
     "data": {
      "text/plain": [
       "'science science science '"
      ]
     },
     "execution_count": 71,
     "metadata": {},
     "output_type": "execute_result"
    }
   ],
   "source": [
    "str1 = 'science ' #there is space after science\n",
    "str1*3"
   ]
  },
  {
   "cell_type": "code",
   "execution_count": null,
   "id": "ac93b42a",
   "metadata": {},
   "outputs": [],
   "source": []
  }
 ],
 "metadata": {
  "kernelspec": {
   "display_name": "Python 3 (ipykernel)",
   "language": "python",
   "name": "python3"
  },
  "language_info": {
   "codemirror_mode": {
    "name": "ipython",
    "version": 3
   },
   "file_extension": ".py",
   "mimetype": "text/x-python",
   "name": "python",
   "nbconvert_exporter": "python",
   "pygments_lexer": "ipython3",
   "version": "3.11.5"
  }
 },
 "nbformat": 4,
 "nbformat_minor": 5
}
