{
 "cells": [
  {
   "cell_type": "markdown",
   "id": "2ba8fd17",
   "metadata": {},
   "source": [
    "# 1. For Loop"
   ]
  },
  {
   "cell_type": "raw",
   "id": "3651e01c",
   "metadata": {},
   "source": [
    "1. Perform same operation multiple times\n",
    "2. Perform same operation multiple time with some variation\n",
    "3. Loop Inside a Loop(Nested loop)"
   ]
  },
  {
   "cell_type": "raw",
   "id": "d3efd1c1",
   "metadata": {},
   "source": [
    "It works like an iterator\n",
    "A for loop is used for iterating over a sequence (that is either a list, a tuple, a dictionary, a set, or a string).\n",
    "Sequence >> String, List, tuple, set, dict, range, numpy array, dataframe"
   ]
  },
  {
   "cell_type": "code",
   "execution_count": null,
   "id": "ec3fb435",
   "metadata": {},
   "outputs": [],
   "source": [
    "for variable in sequence:\n",
    "    print(variable)\n",
    "    statement1\n",
    "    statement2\n",
    "    \n",
    "    \n",
    "for index,item in enumerate(sequence):\n",
    "    print(index,item)\n",
    "    statement3\n",
    "    statement4"
   ]
  },
  {
   "cell_type": "markdown",
   "id": "89ad7409",
   "metadata": {},
   "source": [
    "# The range() Function"
   ]
  },
  {
   "cell_type": "raw",
   "id": "855fd4d6",
   "metadata": {},
   "source": [
    "To loop through a set of code a specified number of times, we can use the range() function,\n",
    "\n",
    "The range() function returns a sequence of numbers, starting from 0 by default, and increments by 1 (by default), and ends at a specified number.\n",
    "\n",
    "syntax : range(start,stop,stepsize)    default stepsize is 1"
   ]
  },
  {
   "cell_type": "code",
   "execution_count": 1,
   "id": "03471ee3",
   "metadata": {},
   "outputs": [
    {
     "data": {
      "text/plain": [
       "[0, 1, 2, 3, 4, 5, 6, 7, 8, 9]"
      ]
     },
     "execution_count": 1,
     "metadata": {},
     "output_type": "execute_result"
    }
   ],
   "source": [
    "# single value in range fucntion\n",
    "\n",
    "list(range(10))"
   ]
  },
  {
   "cell_type": "code",
   "execution_count": 2,
   "id": "6a4bcd1e",
   "metadata": {},
   "outputs": [
    {
     "data": {
      "text/plain": [
       "[1, 2, 3, 4, 5, 6, 7, 8, 9]"
      ]
     },
     "execution_count": 2,
     "metadata": {},
     "output_type": "execute_result"
    }
   ],
   "source": [
    "# start and stop value in range function\n",
    "\n",
    "list(range(1,10))"
   ]
  },
  {
   "cell_type": "code",
   "execution_count": 3,
   "id": "73c505d3",
   "metadata": {},
   "outputs": [
    {
     "data": {
      "text/plain": [
       "[1, 3, 5, 7, 9]"
      ]
     },
     "execution_count": 3,
     "metadata": {},
     "output_type": "execute_result"
    }
   ],
   "source": [
    "# Changing the stepsize in range fucntion\n",
    "\n",
    "list(range(1,10,2))"
   ]
  },
  {
   "cell_type": "code",
   "execution_count": 4,
   "id": "8ca1eb8e",
   "metadata": {},
   "outputs": [
    {
     "name": "stdout",
     "output_type": "stream",
     "text": [
      "0 We are learning for loop\n",
      "1 We are learning for loop\n",
      "2 We are learning for loop\n",
      "3 We are learning for loop\n",
      "4 We are learning for loop\n"
     ]
    }
   ],
   "source": [
    "# using range function display 'we are learning for loop' for 5 times\n",
    "\n",
    "for i in range(5):\n",
    "    print(i,'We are learning for loop')"
   ]
  },
  {
   "cell_type": "code",
   "execution_count": 5,
   "id": "76277dec",
   "metadata": {},
   "outputs": [
    {
     "name": "stdout",
     "output_type": "stream",
     "text": [
      "1 We are learning for loop\n",
      "2 We are learning for loop\n",
      "3 We are learning for loop\n",
      "4 We are learning for loop\n",
      "5 We are learning for loop\n"
     ]
    }
   ],
   "source": [
    "# using range function display 'we are learning for loop' for 5 times\n",
    "\n",
    "for i in range(1,6):\n",
    "    print(i,'We are learning for loop')"
   ]
  },
  {
   "cell_type": "code",
   "execution_count": 6,
   "id": "9995815a",
   "metadata": {},
   "outputs": [
    {
     "name": "stdout",
     "output_type": "stream",
     "text": [
      "we are learning for loop\n",
      "python and data science\n",
      "******************************\n",
      "we are learning for loop\n",
      "python and data science\n",
      "******************************\n",
      "we are learning for loop\n",
      "python and data science\n",
      "******************************\n",
      "we are learning for loop\n",
      "python and data science\n",
      "******************************\n",
      "we are learning for loop\n",
      "python and data science\n",
      "******************************\n",
      "we are learning for loop\n",
      "python and data science\n",
      "******************************\n",
      "we are learning for loop\n",
      "python and data science\n",
      "******************************\n",
      "we are learning for loop\n",
      "python and data science\n",
      "******************************\n",
      "we are learning for loop\n",
      "python and data science\n",
      "******************************\n",
      "we are learning for loop\n",
      "python and data science\n",
      "******************************\n"
     ]
    }
   ],
   "source": [
    "# using range function display 'we are learning for loop' and 'python and data science' for 10 times\n",
    "\n",
    "for i in range(10):\n",
    "    print('we are learning for loop')\n",
    "    print('python and data science')\n",
    "    print('*'*30)"
   ]
  },
  {
   "cell_type": "markdown",
   "id": "4168f8dc",
   "metadata": {},
   "source": [
    "# For loop in string"
   ]
  },
  {
   "cell_type": "code",
   "execution_count": 7,
   "id": "c06a80f6",
   "metadata": {},
   "outputs": [
    {
     "name": "stdout",
     "output_type": "stream",
     "text": [
      "m\n",
      "a\n",
      "c\n",
      "h\n",
      "i\n",
      "n\n",
      "e\n",
      " \n",
      "l\n",
      "e\n",
      "a\n",
      "r\n",
      "n\n",
      "i\n",
      "n\n",
      "g\n"
     ]
    }
   ],
   "source": [
    "# use for loop and access each char of the string\n",
    "string = 'machine learning'\n",
    "\n",
    "for i in string:\n",
    "    print(i)"
   ]
  },
  {
   "cell_type": "code",
   "execution_count": 8,
   "id": "339b12e9",
   "metadata": {},
   "outputs": [
    {
     "name": "stdout",
     "output_type": "stream",
     "text": [
      "0 m\n",
      "1 a\n",
      "2 c\n",
      "3 h\n",
      "4 i\n",
      "5 n\n",
      "6 e\n"
     ]
    }
   ],
   "source": [
    "# for loop with enumerate\n",
    "string = 'machine'\n",
    "\n",
    "for index,char in enumerate(string):\n",
    "    print(index,char)"
   ]
  },
  {
   "cell_type": "code",
   "execution_count": 9,
   "id": "97cfedaa",
   "metadata": {},
   "outputs": [
    {
     "name": "stdout",
     "output_type": "stream",
     "text": [
      "0 m\n",
      "1 a\n",
      "2 c\n",
      "3 h\n",
      "4 i\n",
      "5 n\n",
      "6 e\n"
     ]
    }
   ],
   "source": [
    "# for loop with enumerate\n",
    "string = 'machine'\n",
    "\n",
    "for i,c in enumerate(string):\n",
    "    print(i,c)"
   ]
  },
  {
   "cell_type": "markdown",
   "id": "9c62a8dc",
   "metadata": {},
   "source": [
    "# For loop in list"
   ]
  },
  {
   "cell_type": "code",
   "execution_count": 10,
   "id": "cc15a167",
   "metadata": {},
   "outputs": [
    {
     "name": "stdout",
     "output_type": "stream",
     "text": [
      "10\n",
      "20\n",
      "30\n",
      "14\n",
      "26\n"
     ]
    }
   ],
   "source": [
    "# For loop\n",
    "list1 = [10,20,30,14,26]\n",
    "\n",
    "for item in list1:\n",
    "    print(item)"
   ]
  },
  {
   "cell_type": "code",
   "execution_count": 11,
   "id": "905d8a48",
   "metadata": {},
   "outputs": [
    {
     "name": "stdout",
     "output_type": "stream",
     "text": [
      "0 10\n",
      "1 20\n",
      "2 30\n",
      "3 14\n",
      "4 26\n"
     ]
    }
   ],
   "source": [
    "# For loop with enumerate\n",
    "list1 = [10,20,30,14,26]\n",
    "\n",
    "for index,item in enumerate(list1):\n",
    "    print(index,item)"
   ]
  },
  {
   "cell_type": "code",
   "execution_count": 12,
   "id": "afe7af29",
   "metadata": {},
   "outputs": [
    {
     "name": "stdout",
     "output_type": "stream",
     "text": [
      "1 10\n",
      "2 20\n",
      "3 30\n",
      "4 14\n",
      "5 26\n"
     ]
    }
   ],
   "source": [
    "# For loop with enumerate\n",
    "list1 = [10,20,30,14,26]\n",
    "\n",
    "for index,item in enumerate(list1,start=1):\n",
    "    print(index,item)"
   ]
  },
  {
   "cell_type": "markdown",
   "id": "ab80c366",
   "metadata": {},
   "source": [
    "# Find  out all the numbers between 0, 200 which are divisible by 7 or 8 or both"
   ]
  },
  {
   "cell_type": "code",
   "execution_count": 13,
   "id": "0d4fff83",
   "metadata": {},
   "outputs": [
    {
     "name": "stdout",
     "output_type": "stream",
     "text": [
      "1 is not divisible by 7 or 8\n",
      "2 is not divisible by 7 or 8\n",
      "3 is not divisible by 7 or 8\n",
      "4 is not divisible by 7 or 8\n",
      "5 is not divisible by 7 or 8\n",
      "6 is not divisible by 7 or 8\n",
      "7 is divisible by 7\n",
      "8 is divisible by 8\n",
      "9 is not divisible by 7 or 8\n",
      "10 is not divisible by 7 or 8\n",
      "11 is not divisible by 7 or 8\n",
      "12 is not divisible by 7 or 8\n",
      "13 is not divisible by 7 or 8\n",
      "14 is divisible by 7\n",
      "15 is not divisible by 7 or 8\n",
      "16 is divisible by 8\n",
      "17 is not divisible by 7 or 8\n",
      "18 is not divisible by 7 or 8\n",
      "19 is not divisible by 7 or 8\n",
      "20 is not divisible by 7 or 8\n",
      "21 is divisible by 7\n",
      "22 is not divisible by 7 or 8\n",
      "23 is not divisible by 7 or 8\n",
      "24 is divisible by 8\n",
      "25 is not divisible by 7 or 8\n",
      "26 is not divisible by 7 or 8\n",
      "27 is not divisible by 7 or 8\n",
      "28 is divisible by 7\n",
      "29 is not divisible by 7 or 8\n",
      "30 is not divisible by 7 or 8\n",
      "31 is not divisible by 7 or 8\n",
      "32 is divisible by 8\n",
      "33 is not divisible by 7 or 8\n",
      "34 is not divisible by 7 or 8\n",
      "35 is divisible by 7\n",
      "36 is not divisible by 7 or 8\n",
      "37 is not divisible by 7 or 8\n",
      "38 is not divisible by 7 or 8\n",
      "39 is not divisible by 7 or 8\n",
      "40 is divisible by 8\n",
      "41 is not divisible by 7 or 8\n",
      "42 is divisible by 7\n",
      "43 is not divisible by 7 or 8\n",
      "44 is not divisible by 7 or 8\n",
      "45 is not divisible by 7 or 8\n",
      "46 is not divisible by 7 or 8\n",
      "47 is not divisible by 7 or 8\n",
      "48 is divisible by 8\n",
      "49 is divisible by 7\n",
      "50 is not divisible by 7 or 8\n",
      "51 is not divisible by 7 or 8\n",
      "52 is not divisible by 7 or 8\n",
      "53 is not divisible by 7 or 8\n",
      "54 is not divisible by 7 or 8\n",
      "55 is not divisible by 7 or 8\n",
      "56 is divisible by 7 and 8\n",
      "57 is not divisible by 7 or 8\n",
      "58 is not divisible by 7 or 8\n",
      "59 is not divisible by 7 or 8\n",
      "60 is not divisible by 7 or 8\n",
      "61 is not divisible by 7 or 8\n",
      "62 is not divisible by 7 or 8\n",
      "63 is divisible by 7\n",
      "64 is divisible by 8\n",
      "65 is not divisible by 7 or 8\n",
      "66 is not divisible by 7 or 8\n",
      "67 is not divisible by 7 or 8\n",
      "68 is not divisible by 7 or 8\n",
      "69 is not divisible by 7 or 8\n",
      "70 is divisible by 7\n",
      "71 is not divisible by 7 or 8\n",
      "72 is divisible by 8\n",
      "73 is not divisible by 7 or 8\n",
      "74 is not divisible by 7 or 8\n",
      "75 is not divisible by 7 or 8\n",
      "76 is not divisible by 7 or 8\n",
      "77 is divisible by 7\n",
      "78 is not divisible by 7 or 8\n",
      "79 is not divisible by 7 or 8\n",
      "80 is divisible by 8\n",
      "81 is not divisible by 7 or 8\n",
      "82 is not divisible by 7 or 8\n",
      "83 is not divisible by 7 or 8\n",
      "84 is divisible by 7\n",
      "85 is not divisible by 7 or 8\n",
      "86 is not divisible by 7 or 8\n",
      "87 is not divisible by 7 or 8\n",
      "88 is divisible by 8\n",
      "89 is not divisible by 7 or 8\n",
      "90 is not divisible by 7 or 8\n",
      "91 is divisible by 7\n",
      "92 is not divisible by 7 or 8\n",
      "93 is not divisible by 7 or 8\n",
      "94 is not divisible by 7 or 8\n",
      "95 is not divisible by 7 or 8\n",
      "96 is divisible by 8\n",
      "97 is not divisible by 7 or 8\n",
      "98 is divisible by 7\n",
      "99 is not divisible by 7 or 8\n",
      "100 is not divisible by 7 or 8\n",
      "101 is not divisible by 7 or 8\n",
      "102 is not divisible by 7 or 8\n",
      "103 is not divisible by 7 or 8\n",
      "104 is divisible by 8\n",
      "105 is divisible by 7\n",
      "106 is not divisible by 7 or 8\n",
      "107 is not divisible by 7 or 8\n",
      "108 is not divisible by 7 or 8\n",
      "109 is not divisible by 7 or 8\n",
      "110 is not divisible by 7 or 8\n",
      "111 is not divisible by 7 or 8\n",
      "112 is divisible by 7 and 8\n",
      "113 is not divisible by 7 or 8\n",
      "114 is not divisible by 7 or 8\n",
      "115 is not divisible by 7 or 8\n",
      "116 is not divisible by 7 or 8\n",
      "117 is not divisible by 7 or 8\n",
      "118 is not divisible by 7 or 8\n",
      "119 is divisible by 7\n",
      "120 is divisible by 8\n",
      "121 is not divisible by 7 or 8\n",
      "122 is not divisible by 7 or 8\n",
      "123 is not divisible by 7 or 8\n",
      "124 is not divisible by 7 or 8\n",
      "125 is not divisible by 7 or 8\n",
      "126 is divisible by 7\n",
      "127 is not divisible by 7 or 8\n",
      "128 is divisible by 8\n",
      "129 is not divisible by 7 or 8\n",
      "130 is not divisible by 7 or 8\n",
      "131 is not divisible by 7 or 8\n",
      "132 is not divisible by 7 or 8\n",
      "133 is divisible by 7\n",
      "134 is not divisible by 7 or 8\n",
      "135 is not divisible by 7 or 8\n",
      "136 is divisible by 8\n",
      "137 is not divisible by 7 or 8\n",
      "138 is not divisible by 7 or 8\n",
      "139 is not divisible by 7 or 8\n",
      "140 is divisible by 7\n",
      "141 is not divisible by 7 or 8\n",
      "142 is not divisible by 7 or 8\n",
      "143 is not divisible by 7 or 8\n",
      "144 is divisible by 8\n",
      "145 is not divisible by 7 or 8\n",
      "146 is not divisible by 7 or 8\n",
      "147 is divisible by 7\n",
      "148 is not divisible by 7 or 8\n",
      "149 is not divisible by 7 or 8\n",
      "150 is not divisible by 7 or 8\n",
      "151 is not divisible by 7 or 8\n",
      "152 is divisible by 8\n",
      "153 is not divisible by 7 or 8\n",
      "154 is divisible by 7\n",
      "155 is not divisible by 7 or 8\n",
      "156 is not divisible by 7 or 8\n",
      "157 is not divisible by 7 or 8\n",
      "158 is not divisible by 7 or 8\n",
      "159 is not divisible by 7 or 8\n",
      "160 is divisible by 8\n",
      "161 is divisible by 7\n",
      "162 is not divisible by 7 or 8\n",
      "163 is not divisible by 7 or 8\n",
      "164 is not divisible by 7 or 8\n",
      "165 is not divisible by 7 or 8\n",
      "166 is not divisible by 7 or 8\n",
      "167 is not divisible by 7 or 8\n",
      "168 is divisible by 7 and 8\n",
      "169 is not divisible by 7 or 8\n",
      "170 is not divisible by 7 or 8\n",
      "171 is not divisible by 7 or 8\n",
      "172 is not divisible by 7 or 8\n",
      "173 is not divisible by 7 or 8\n",
      "174 is not divisible by 7 or 8\n",
      "175 is divisible by 7\n",
      "176 is divisible by 8\n",
      "177 is not divisible by 7 or 8\n",
      "178 is not divisible by 7 or 8\n",
      "179 is not divisible by 7 or 8\n",
      "180 is not divisible by 7 or 8\n",
      "181 is not divisible by 7 or 8\n",
      "182 is divisible by 7\n",
      "183 is not divisible by 7 or 8\n",
      "184 is divisible by 8\n",
      "185 is not divisible by 7 or 8\n",
      "186 is not divisible by 7 or 8\n",
      "187 is not divisible by 7 or 8\n",
      "188 is not divisible by 7 or 8\n",
      "189 is divisible by 7\n",
      "190 is not divisible by 7 or 8\n",
      "191 is not divisible by 7 or 8\n",
      "192 is divisible by 8\n",
      "193 is not divisible by 7 or 8\n",
      "194 is not divisible by 7 or 8\n",
      "195 is not divisible by 7 or 8\n",
      "196 is divisible by 7\n",
      "197 is not divisible by 7 or 8\n",
      "198 is not divisible by 7 or 8\n",
      "199 is not divisible by 7 or 8\n",
      "200 is divisible by 8\n"
     ]
    }
   ],
   "source": [
    "for i in range(1,201):\n",
    "    if i%7==0 and i%8==0:\n",
    "        print(i,'is divisible by 7 and 8')\n",
    "        \n",
    "    elif i%7==0:\n",
    "        print(i,'is divisible by 7')\n",
    "        \n",
    "    elif i%8==0:\n",
    "        print(i,'is divisible by 8')\n",
    "        \n",
    "    else:\n",
    "        print(i,'is not divisible by 7 or 8')"
   ]
  },
  {
   "cell_type": "code",
   "execution_count": 14,
   "id": "915a290f",
   "metadata": {},
   "outputs": [
    {
     "name": "stdout",
     "output_type": "stream",
     "text": [
      "Enter the number:8\n",
      "Even number\n"
     ]
    }
   ],
   "source": [
    "# Take a number as input and check whether that number is even or odd\n",
    "\n",
    "a = int(input('Enter the number:'))\n",
    "\n",
    "if a%2==0:\n",
    "    print('Even number')\n",
    "\n",
    "else:\n",
    "    print('Odd number')"
   ]
  },
  {
   "cell_type": "code",
   "execution_count": 16,
   "id": "2bfe8a02",
   "metadata": {},
   "outputs": [
    {
     "name": "stdout",
     "output_type": "stream",
     "text": [
      "Enter the number:7\n",
      "Odd number\n"
     ]
    }
   ],
   "source": [
    "# Take a number as input and check whether that number is even or odd\n",
    "\n",
    "a = int(input('Enter the number:'))\n",
    "\n",
    "if a%2==0:\n",
    "    print('Even number')\n",
    "\n",
    "else:\n",
    "    print('Odd number')\n",
    "    "
   ]
  },
  {
   "cell_type": "markdown",
   "id": "6bf98e5f",
   "metadata": {},
   "source": [
    "# Nested for loop"
   ]
  },
  {
   "cell_type": "raw",
   "id": "49db5cad",
   "metadata": {},
   "source": [
    "for loop inside for loop\n",
    "\n",
    "for variable1 in sequence1:  # 5\n",
    "    statement1\n",
    "    statement2\n",
    "    for variable2 in sequence2: # 2\n",
    "        statement3 \n",
    "        statement4"
   ]
  },
  {
   "cell_type": "code",
   "execution_count": 17,
   "id": "c6afb66d",
   "metadata": {},
   "outputs": [
    {
     "name": "stdout",
     "output_type": "stream",
     "text": [
      "i = 1\n",
      "j = 1\n",
      "j = 2\n",
      "i = 2\n",
      "j = 1\n",
      "j = 2\n",
      "i = 3\n",
      "j = 1\n",
      "j = 2\n",
      "i = 4\n",
      "j = 1\n",
      "j = 2\n"
     ]
    }
   ],
   "source": [
    "# print i,j\n",
    "\n",
    "for i in range(1,5): # i = 4\n",
    "    print('i =',i)\n",
    "    \n",
    "    for j in range(1,3): # j = 1, j = 2\n",
    "        print('j =',j)"
   ]
  },
  {
   "cell_type": "code",
   "execution_count": 18,
   "id": "1c32c46f",
   "metadata": {},
   "outputs": [
    {
     "name": "stdout",
     "output_type": "stream",
     "text": [
      "i = 1\n",
      "python\n",
      "python\n",
      "python\n",
      "i = 2\n",
      "python\n",
      "python\n",
      "python\n",
      "i = 3\n",
      "python\n",
      "python\n",
      "python\n",
      "i = 4\n",
      "python\n",
      "python\n",
      "python\n"
     ]
    }
   ],
   "source": [
    "# print i,python\n",
    "\n",
    "for i in range(1,5): # i = 1 to 4\n",
    "    print('i =',i)\n",
    "    \n",
    "    for j in range(1,4):\n",
    "        print('python')"
   ]
  },
  {
   "cell_type": "code",
   "execution_count": 19,
   "id": "1267afe3",
   "metadata": {},
   "outputs": [
    {
     "name": "stdout",
     "output_type": "stream",
     "text": [
      "i = 1\n",
      "python\n",
      "++++++\n",
      "python\n",
      "++++++\n",
      "python\n",
      "++++++\n",
      "i = 2\n",
      "python\n",
      "++++++\n",
      "python\n",
      "++++++\n",
      "python\n",
      "++++++\n",
      "i = 3\n",
      "python\n",
      "++++++\n",
      "python\n",
      "++++++\n",
      "python\n",
      "++++++\n",
      "i = 4\n",
      "python\n",
      "++++++\n",
      "python\n",
      "++++++\n",
      "python\n",
      "++++++\n"
     ]
    }
   ],
   "source": [
    "# print i,python,++++++\n",
    "\n",
    "for i in range(1,5): # i = 1 to 4\n",
    "    print('i =',i)\n",
    "    \n",
    "    for j in range(1,4):\n",
    "        print('python')\n",
    "        print('++++++')"
   ]
  },
  {
   "cell_type": "markdown",
   "id": "bcea05dc",
   "metadata": {},
   "source": [
    "# While Loop"
   ]
  },
  {
   "cell_type": "raw",
   "id": "23ac043c",
   "metadata": {},
   "source": [
    "i = initial value of i \n",
    "while condition: \n",
    "    statement1\n",
    "    statement2\n",
    "    increment"
   ]
  },
  {
   "cell_type": "markdown",
   "id": "78e57358",
   "metadata": {},
   "source": [
    "# Difference between for loop and while  loop"
   ]
  },
  {
   "cell_type": "raw",
   "id": "95ade559",
   "metadata": {},
   "source": [
    "# For loop\n",
    "1. When number of iterations are known\n",
    "2. Increment is done automatically for each iteration\n",
    "3. It stops when all iterations are completed\n",
    "\n",
    "# While loop\n",
    "1. When number of iterations are not known\n",
    "2. Increment is done manually for each iteration\n",
    "3. It stops when the condition becomes false"
   ]
  },
  {
   "cell_type": "code",
   "execution_count": 20,
   "id": "d3646a2f",
   "metadata": {},
   "outputs": [
    {
     "name": "stdout",
     "output_type": "stream",
     "text": [
      "0\n",
      "1\n",
      "2\n",
      "3\n",
      "4\n"
     ]
    }
   ],
   "source": [
    "# Using for loop print i for 5 times\n",
    "\n",
    "for i in range(0,5):\n",
    "    print(i)"
   ]
  },
  {
   "cell_type": "code",
   "execution_count": null,
   "id": "603cd8bf",
   "metadata": {},
   "outputs": [],
   "source": [
    "# Using while loop print i for 5 times\n",
    "\n",
    "# i = initial value of i \n",
    "# while condition: \n",
    "#     statement1\n",
    "#     statement2\n",
    "#     increment\n",
    "\n",
    "i = 0\n",
    "while i<5:  # i = 5\n",
    "    print(i)\n",
    "    i+=1"
   ]
  },
  {
   "cell_type": "code",
   "execution_count": 21,
   "id": "685569f8",
   "metadata": {},
   "outputs": [
    {
     "name": "stdout",
     "output_type": "stream",
     "text": [
      "1\n",
      "3\n",
      "5\n",
      "7\n",
      "9\n",
      "11\n"
     ]
    }
   ],
   "source": [
    "# use for loop with range 1,12,2\n",
    "\n",
    "for i in range(1,12,2):\n",
    "    print(i)"
   ]
  },
  {
   "cell_type": "code",
   "execution_count": 22,
   "id": "6c531648",
   "metadata": {},
   "outputs": [
    {
     "name": "stdout",
     "output_type": "stream",
     "text": [
      "1\n",
      "3\n",
      "5\n",
      "7\n",
      "9\n",
      "11\n"
     ]
    }
   ],
   "source": [
    "# use while loop for above\n",
    "\n",
    "i = 1\n",
    "while i<12:\n",
    "    print(i)\n",
    "    i+=2"
   ]
  },
  {
   "cell_type": "code",
   "execution_count": 23,
   "id": "70dfbf0f",
   "metadata": {},
   "outputs": [
    {
     "name": "stdout",
     "output_type": "stream",
     "text": [
      "0 we are testing for loop\n",
      "1 we are testing for loop\n",
      "2 we are testing for loop\n",
      "3 we are testing for loop\n",
      "4 we are testing for loop\n"
     ]
    }
   ],
   "source": [
    "# using for loop print 'we are testing for loop' for 5 times\n",
    "\n",
    "for i in range(5):\n",
    "    print(i,'we are testing for loop')"
   ]
  },
  {
   "cell_type": "code",
   "execution_count": 24,
   "id": "9e84f134",
   "metadata": {},
   "outputs": [
    {
     "name": "stdout",
     "output_type": "stream",
     "text": [
      "0 We are testing while loop\n",
      "1 We are testing while loop\n",
      "2 We are testing while loop\n",
      "3 We are testing while loop\n",
      "4 We are testing while loop\n"
     ]
    }
   ],
   "source": [
    "# using while loop print 'we are testing while loop' for 5 times\n",
    "\n",
    "i = 0\n",
    "while i<5:\n",
    "    print(i,'We are testing while loop')\n",
    "    i+=1"
   ]
  },
  {
   "cell_type": "markdown",
   "id": "3c9f1eae",
   "metadata": {},
   "source": [
    "# Loop Control Statement"
   ]
  },
  {
   "cell_type": "raw",
   "id": "d613e694",
   "metadata": {},
   "source": [
    "1. Break Statement\n",
    "   It is used to stop the for loop after the given iteration\n",
    "    It is used to exit the loop"
   ]
  },
  {
   "cell_type": "code",
   "execution_count": 26,
   "id": "159cfea6",
   "metadata": {},
   "outputs": [
    {
     "name": "stdout",
     "output_type": "stream",
     "text": [
      "1\n",
      "2\n",
      "3\n",
      "4\n",
      "5\n",
      "6\n",
      "7\n",
      "8\n",
      "9\n"
     ]
    }
   ],
   "source": [
    "for i in range(1,10):\n",
    "    print(i)"
   ]
  },
  {
   "cell_type": "code",
   "execution_count": 27,
   "id": "66f56c8e",
   "metadata": {},
   "outputs": [
    {
     "name": "stdout",
     "output_type": "stream",
     "text": [
      "1\n",
      "2\n",
      "3\n",
      "4\n",
      "5\n"
     ]
    }
   ],
   "source": [
    "for i in range(1,10): # i = 5\n",
    "    print(i)\n",
    "    if i==5:\n",
    "        break"
   ]
  },
  {
   "cell_type": "code",
   "execution_count": 28,
   "id": "394148bb",
   "metadata": {},
   "outputs": [
    {
     "name": "stdout",
     "output_type": "stream",
     "text": [
      "1\n",
      "2\n",
      "3\n",
      "4\n",
      "5\n",
      "python1\n"
     ]
    }
   ],
   "source": [
    "for i in range(1,10): # i = 5\n",
    "    print(i)\n",
    "    if i==5:\n",
    "        print('python1')\n",
    "        break\n",
    "        print('python2')"
   ]
  },
  {
   "cell_type": "raw",
   "id": "45fa810f",
   "metadata": {},
   "source": [
    "2. Continue Statement\n",
    "  It will stop the current iteration and continue with the next iteration"
   ]
  },
  {
   "cell_type": "code",
   "execution_count": 29,
   "id": "b879f5a2",
   "metadata": {},
   "outputs": [
    {
     "name": "stdout",
     "output_type": "stream",
     "text": [
      "1\n",
      "2\n",
      "3\n",
      "4\n",
      "5\n",
      "python1\n",
      "6\n",
      "7\n",
      "8\n",
      "9\n"
     ]
    }
   ],
   "source": [
    "for i in range(1,10): # i = 5\n",
    "    print(i)\n",
    "    if i==5:\n",
    "        print('python1')\n",
    "        continue\n",
    "        print('python2')"
   ]
  },
  {
   "cell_type": "code",
   "execution_count": null,
   "id": "804b48ae",
   "metadata": {},
   "outputs": [],
   "source": []
  },
  {
   "cell_type": "code",
   "execution_count": null,
   "id": "1dddf414",
   "metadata": {},
   "outputs": [],
   "source": []
  },
  {
   "cell_type": "code",
   "execution_count": null,
   "id": "5b92e0dc",
   "metadata": {},
   "outputs": [],
   "source": []
  },
  {
   "cell_type": "code",
   "execution_count": null,
   "id": "bb3836dd",
   "metadata": {},
   "outputs": [],
   "source": []
  },
  {
   "cell_type": "code",
   "execution_count": null,
   "id": "e9345a70",
   "metadata": {},
   "outputs": [],
   "source": []
  },
  {
   "cell_type": "code",
   "execution_count": null,
   "id": "bf30f257",
   "metadata": {},
   "outputs": [],
   "source": []
  },
  {
   "cell_type": "code",
   "execution_count": null,
   "id": "2764650b",
   "metadata": {},
   "outputs": [],
   "source": []
  },
  {
   "cell_type": "code",
   "execution_count": null,
   "id": "b9aeec5e",
   "metadata": {},
   "outputs": [],
   "source": []
  },
  {
   "cell_type": "code",
   "execution_count": null,
   "id": "5476719f",
   "metadata": {},
   "outputs": [],
   "source": []
  },
  {
   "cell_type": "code",
   "execution_count": null,
   "id": "c9429639",
   "metadata": {},
   "outputs": [],
   "source": []
  },
  {
   "cell_type": "code",
   "execution_count": null,
   "id": "471d4148",
   "metadata": {},
   "outputs": [],
   "source": []
  },
  {
   "cell_type": "code",
   "execution_count": null,
   "id": "ec0fc62b",
   "metadata": {},
   "outputs": [],
   "source": []
  },
  {
   "cell_type": "code",
   "execution_count": null,
   "id": "46b2a212",
   "metadata": {},
   "outputs": [],
   "source": []
  },
  {
   "cell_type": "code",
   "execution_count": null,
   "id": "b9ca6ecd",
   "metadata": {},
   "outputs": [],
   "source": []
  },
  {
   "cell_type": "code",
   "execution_count": null,
   "id": "af7f6575",
   "metadata": {},
   "outputs": [],
   "source": []
  },
  {
   "cell_type": "code",
   "execution_count": null,
   "id": "ea48ba4c",
   "metadata": {},
   "outputs": [],
   "source": []
  },
  {
   "cell_type": "code",
   "execution_count": null,
   "id": "06be1124",
   "metadata": {},
   "outputs": [],
   "source": []
  },
  {
   "cell_type": "code",
   "execution_count": null,
   "id": "038ca5f3",
   "metadata": {},
   "outputs": [],
   "source": []
  },
  {
   "cell_type": "code",
   "execution_count": null,
   "id": "68d22d35",
   "metadata": {},
   "outputs": [],
   "source": []
  },
  {
   "cell_type": "code",
   "execution_count": null,
   "id": "db7c27c7",
   "metadata": {},
   "outputs": [],
   "source": []
  }
 ],
 "metadata": {
  "kernelspec": {
   "display_name": "Python 3 (ipykernel)",
   "language": "python",
   "name": "python3"
  },
  "language_info": {
   "codemirror_mode": {
    "name": "ipython",
    "version": 3
   },
   "file_extension": ".py",
   "mimetype": "text/x-python",
   "name": "python",
   "nbconvert_exporter": "python",
   "pygments_lexer": "ipython3",
   "version": "3.11.5"
  }
 },
 "nbformat": 4,
 "nbformat_minor": 5
}
