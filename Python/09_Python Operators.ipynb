{
 "cells": [
  {
   "cell_type": "raw",
   "id": "6377dc26",
   "metadata": {},
   "source": [
    "The operator can be defined as a symbol which is responsible for particular operation between two operands."
   ]
  },
  {
   "cell_type": "code",
   "execution_count": 1,
   "id": "75be7402",
   "metadata": {},
   "outputs": [
    {
     "data": {
      "text/plain": [
       "30"
      ]
     },
     "execution_count": 1,
     "metadata": {},
     "output_type": "execute_result"
    }
   ],
   "source": [
    "a = 10\n",
    "b = 20\n",
    "a+b"
   ]
  },
  {
   "cell_type": "raw",
   "id": "17f55c0c",
   "metadata": {},
   "source": [
    "Python Operators ==>\n",
    "                arithmetic\n",
    "                comparison\n",
    "                logical\n",
    "                assignment\n",
    "                bitwise\n",
    "                identity\n",
    "                membership"
   ]
  },
  {
   "cell_type": "raw",
   "id": "911fb7a3",
   "metadata": {},
   "source": [
    "1. Comparison operators\n"
   ]
  },
  {
   "cell_type": "code",
   "execution_count": 2,
   "id": "a48222ed",
   "metadata": {},
   "outputs": [],
   "source": [
    "a = 10"
   ]
  },
  {
   "cell_type": "code",
   "execution_count": 3,
   "id": "3f5c03d3",
   "metadata": {},
   "outputs": [
    {
     "data": {
      "text/plain": [
       "False"
      ]
     },
     "execution_count": 3,
     "metadata": {},
     "output_type": "execute_result"
    }
   ],
   "source": [
    "a = 20\n",
    "b = 21\n",
    "a==b"
   ]
  },
  {
   "cell_type": "code",
   "execution_count": 4,
   "id": "4dce5752",
   "metadata": {},
   "outputs": [
    {
     "data": {
      "text/plain": [
       "True"
      ]
     },
     "execution_count": 4,
     "metadata": {},
     "output_type": "execute_result"
    }
   ],
   "source": [
    "a = 20\n",
    "b = 21\n",
    "a!=b"
   ]
  },
  {
   "cell_type": "raw",
   "id": "50da594a",
   "metadata": {},
   "source": [
    "Operator -- Name\n",
    "== Equal\n",
    "!= not equal\n",
    "> greater than\n",
    "< less than\n",
    ">= Greater than or equal to\n",
    "<= less than or equal to "
   ]
  },
  {
   "cell_type": "code",
   "execution_count": 6,
   "id": "36114c0f",
   "metadata": {},
   "outputs": [
    {
     "data": {
      "text/plain": [
       "True"
      ]
     },
     "execution_count": 6,
     "metadata": {},
     "output_type": "execute_result"
    }
   ],
   "source": [
    "s1 = 'python'\n",
    "s2 = 'python'\n",
    "s1==s2"
   ]
  },
  {
   "cell_type": "code",
   "execution_count": 7,
   "id": "54c2550d",
   "metadata": {},
   "outputs": [
    {
     "data": {
      "text/plain": [
       "False"
      ]
     },
     "execution_count": 7,
     "metadata": {},
     "output_type": "execute_result"
    }
   ],
   "source": [
    "s1 = 'python'\n",
    "s2 = 'python'\n",
    "s1!=s2"
   ]
  },
  {
   "cell_type": "code",
   "execution_count": 8,
   "id": "2845de27",
   "metadata": {},
   "outputs": [
    {
     "data": {
      "text/plain": [
       "True"
      ]
     },
     "execution_count": 8,
     "metadata": {},
     "output_type": "execute_result"
    }
   ],
   "source": [
    "s1 = 'python'\n",
    "s2 = 'class'\n",
    "s1 != s2  "
   ]
  },
  {
   "cell_type": "code",
   "execution_count": 9,
   "id": "99cfca54",
   "metadata": {},
   "outputs": [
    {
     "name": "stdout",
     "output_type": "stream",
     "text": [
      "True\n",
      "True\n",
      "True\n",
      "False\n",
      "True\n",
      "True\n"
     ]
    }
   ],
   "source": [
    "a = 12\n",
    "b = 12\n",
    "c = 24\n",
    "print(a==b)  # True\n",
    "print(a!=c)  # True\n",
    "print(c>a)   # True \n",
    "print(c<a)   # False\n",
    "print(a>=b)  # True\n",
    "print(a<=b)  # True"
   ]
  },
  {
   "cell_type": "code",
   "execution_count": 10,
   "id": "4061a429",
   "metadata": {},
   "outputs": [
    {
     "data": {
      "text/plain": [
       "False"
      ]
     },
     "execution_count": 10,
     "metadata": {},
     "output_type": "execute_result"
    }
   ],
   "source": [
    "(a>b) and (a>c)"
   ]
  },
  {
   "cell_type": "raw",
   "id": "ce8bf68c",
   "metadata": {},
   "source": [
    "2. Logical operator\n",
    "AND\n",
    "OR\n",
    "NOT\n",
    "\n",
    "Priority:\n",
    "not>and>or"
   ]
  },
  {
   "cell_type": "code",
   "execution_count": 12,
   "id": "66a491ba",
   "metadata": {},
   "outputs": [
    {
     "name": "stdout",
     "output_type": "stream",
     "text": [
      "x and y is: False\n",
      "x or y is: True\n",
      "not x is: True\n",
      "not y is: False\n"
     ]
    }
   ],
   "source": [
    "x = False\n",
    "y = True\n",
    "\n",
    "print('x and y is:',x and y) # False\n",
    "print('x or y is:',x or y)   # True\n",
    "print('not x is:',not x)     # True  \n",
    "print('not y is:',not y)     # False"
   ]
  },
  {
   "cell_type": "code",
   "execution_count": 13,
   "id": "52d3245b",
   "metadata": {},
   "outputs": [
    {
     "data": {
      "text/plain": [
       "True"
      ]
     },
     "execution_count": 13,
     "metadata": {},
     "output_type": "execute_result"
    }
   ],
   "source": [
    "a = 5\n",
    "b = 6\n",
    "c = 10\n",
    "a < b and b < c   # True and True"
   ]
  },
  {
   "cell_type": "code",
   "execution_count": 14,
   "id": "2e27da08",
   "metadata": {},
   "outputs": [
    {
     "data": {
      "text/plain": [
       "True"
      ]
     },
     "execution_count": 14,
     "metadata": {},
     "output_type": "execute_result"
    }
   ],
   "source": [
    "a = 5\n",
    "b = 6\n",
    "c = 10\n",
    "d = 20\n",
    "a < b  and a < c and a < d and b < d  # True and True and True and True"
   ]
  },
  {
   "cell_type": "code",
   "execution_count": 15,
   "id": "4b99444e",
   "metadata": {},
   "outputs": [
    {
     "data": {
      "text/plain": [
       "False"
      ]
     },
     "execution_count": 15,
     "metadata": {},
     "output_type": "execute_result"
    }
   ],
   "source": [
    "a = 5\n",
    "b = 6\n",
    "c = 10\n",
    "d = 20\n",
    "a < b  and a < c and a < d and d < b # True and True and True and False"
   ]
  },
  {
   "cell_type": "raw",
   "id": "8fd1f9e6",
   "metadata": {},
   "source": [
    "3. Arithmetic operators\n",
    "Operator -- Name\n",
    "+ Addition\n",
    "- Subtraction\n",
    "* Multipication\n",
    "/ Division\n",
    "% Modulus\n",
    "** Exponentiation\n",
    "// Floor division"
   ]
  },
  {
   "cell_type": "raw",
   "id": "07edab0e",
   "metadata": {},
   "source": [
    "Preference of arithmetic operators\n",
    "() # PEMDAS\n",
    "**\n",
    "*,/ , //\n",
    "+,-"
   ]
  },
  {
   "cell_type": "raw",
   "id": "a8eec95e",
   "metadata": {},
   "source": [
    "Division(/) >> Gives output in float\n",
    "Floor division(//) >> Gives output in integer"
   ]
  },
  {
   "cell_type": "code",
   "execution_count": 16,
   "id": "64356869",
   "metadata": {},
   "outputs": [
    {
     "data": {
      "text/plain": [
       "7"
      ]
     },
     "execution_count": 16,
     "metadata": {},
     "output_type": "execute_result"
    }
   ],
   "source": [
    "2+5"
   ]
  },
  {
   "cell_type": "code",
   "execution_count": 17,
   "id": "db981e44",
   "metadata": {},
   "outputs": [
    {
     "data": {
      "text/plain": [
       "3"
      ]
     },
     "execution_count": 17,
     "metadata": {},
     "output_type": "execute_result"
    }
   ],
   "source": [
    "8-5"
   ]
  },
  {
   "cell_type": "code",
   "execution_count": 18,
   "id": "6dc7ace2",
   "metadata": {},
   "outputs": [
    {
     "data": {
      "text/plain": [
       "3.0"
      ]
     },
     "execution_count": 18,
     "metadata": {},
     "output_type": "execute_result"
    }
   ],
   "source": [
    "6/2"
   ]
  },
  {
   "cell_type": "code",
   "execution_count": 19,
   "id": "5f8e552a",
   "metadata": {},
   "outputs": [
    {
     "data": {
      "text/plain": [
       "3"
      ]
     },
     "execution_count": 19,
     "metadata": {},
     "output_type": "execute_result"
    }
   ],
   "source": [
    "int(6/2)"
   ]
  },
  {
   "cell_type": "code",
   "execution_count": 20,
   "id": "b0526e0b",
   "metadata": {},
   "outputs": [
    {
     "data": {
      "text/plain": [
       "3"
      ]
     },
     "execution_count": 20,
     "metadata": {},
     "output_type": "execute_result"
    }
   ],
   "source": [
    "6//2"
   ]
  },
  {
   "cell_type": "code",
   "execution_count": 21,
   "id": "9da674b4",
   "metadata": {},
   "outputs": [
    {
     "data": {
      "text/plain": [
       "3.5"
      ]
     },
     "execution_count": 21,
     "metadata": {},
     "output_type": "execute_result"
    }
   ],
   "source": [
    "7/2"
   ]
  },
  {
   "cell_type": "code",
   "execution_count": 22,
   "id": "4142b097",
   "metadata": {},
   "outputs": [
    {
     "data": {
      "text/plain": [
       "3"
      ]
     },
     "execution_count": 22,
     "metadata": {},
     "output_type": "execute_result"
    }
   ],
   "source": [
    "7//2"
   ]
  },
  {
   "cell_type": "code",
   "execution_count": 23,
   "id": "750f641d",
   "metadata": {},
   "outputs": [
    {
     "data": {
      "text/plain": [
       "1"
      ]
     },
     "execution_count": 23,
     "metadata": {},
     "output_type": "execute_result"
    }
   ],
   "source": [
    "7%2"
   ]
  },
  {
   "cell_type": "code",
   "execution_count": 24,
   "id": "30e3de5e",
   "metadata": {},
   "outputs": [
    {
     "data": {
      "text/plain": [
       "0"
      ]
     },
     "execution_count": 24,
     "metadata": {},
     "output_type": "execute_result"
    }
   ],
   "source": [
    "8%2"
   ]
  },
  {
   "cell_type": "code",
   "execution_count": 25,
   "id": "ad15b8c6",
   "metadata": {},
   "outputs": [
    {
     "data": {
      "text/plain": [
       "2"
      ]
     },
     "execution_count": 25,
     "metadata": {},
     "output_type": "execute_result"
    }
   ],
   "source": [
    "8%3"
   ]
  },
  {
   "cell_type": "code",
   "execution_count": 26,
   "id": "2f9f5add",
   "metadata": {},
   "outputs": [
    {
     "data": {
      "text/plain": [
       "100"
      ]
     },
     "execution_count": 26,
     "metadata": {},
     "output_type": "execute_result"
    }
   ],
   "source": [
    "10**2"
   ]
  },
  {
   "cell_type": "code",
   "execution_count": 27,
   "id": "9e8cd35c",
   "metadata": {},
   "outputs": [
    {
     "data": {
      "text/plain": [
       "15.0"
      ]
     },
     "execution_count": 27,
     "metadata": {},
     "output_type": "execute_result"
    }
   ],
   "source": [
    "10*6/4"
   ]
  },
  {
   "cell_type": "code",
   "execution_count": 28,
   "id": "86e720fb",
   "metadata": {},
   "outputs": [
    {
     "name": "stdout",
     "output_type": "stream",
     "text": [
      "8.999999999999998\n"
     ]
    },
    {
     "data": {
      "text/plain": [
       "9.0"
      ]
     },
     "execution_count": 28,
     "metadata": {},
     "output_type": "execute_result"
    }
   ],
   "source": [
    "a = 729 ** (1/3)\n",
    "print(a)\n",
    "round(a,2)"
   ]
  },
  {
   "cell_type": "code",
   "execution_count": 32,
   "id": "51397acc",
   "metadata": {},
   "outputs": [
    {
     "name": "stdout",
     "output_type": "stream",
     "text": [
      "Enter the value:5\n",
      "a =  5 <class 'str'>\n"
     ]
    }
   ],
   "source": [
    "a = input('Enter the value:')\n",
    "print('a = ',a,type(a))"
   ]
  },
  {
   "cell_type": "code",
   "execution_count": 31,
   "id": "07ff26cf",
   "metadata": {},
   "outputs": [
    {
     "name": "stdout",
     "output_type": "stream",
     "text": [
      "Enter the value:5\n",
      "a =  5 <class 'int'>\n"
     ]
    }
   ],
   "source": [
    "a = int(input('Enter the value:'))\n",
    "print('a = ',a,type(a))"
   ]
  },
  {
   "cell_type": "code",
   "execution_count": 33,
   "id": "e334927a",
   "metadata": {},
   "outputs": [
    {
     "name": "stdout",
     "output_type": "stream",
     "text": [
      "Enter value of 1st number:25\n",
      "Enter the value of 2nd number:5\n",
      "-----------------------------------------------\n",
      "The addition of 2 numbers is: 30\n",
      "The subtraction of 2 numbers is: 20\n",
      "The multiplication of 2 numbers is: 125\n",
      "The division of 2 numbers is: 5.0\n",
      "The floor division of 2 numbers is: 5\n",
      "The exponential of 2 numbers is: 9765625\n",
      "The modulus of 2 numbers is: 0\n"
     ]
    }
   ],
   "source": [
    "num1 = int(input('Enter value of 1st number:'))\n",
    "num2 = int(input('Enter the value of 2nd number:'))\n",
    "print('-----------------------------------------------')\n",
    "print('The addition of 2 numbers is:',num1+num2)   #25  \n",
    "print('The subtraction of 2 numbers is:',num1-num2) #15\n",
    "print('The multiplication of 2 numbers is:',num1*num2)  # 100\n",
    "print('The division of 2 numbers is:',num1/num2)      # 4.0 \n",
    "print('The floor division of 2 numbers is:',num1//num2) # 4\n",
    "print('The exponential of 2 numbers is:',num1**num2)      \n",
    "print('The modulus of 2 numbers is:',num1%num2)      #    0"
   ]
  },
  {
   "cell_type": "raw",
   "id": "848692a1",
   "metadata": {},
   "source": [
    "4. Assignment Operators\n",
    "* Assignment operators are used in Python to assign values to variables\n",
    "  Eg: a = 10 \n",
    "Augmented Assignment Operator:\n",
    "* It combines assignment operator with other logical operators like addition, multiplication etc.\n",
    "* This operators that allows to write shortcut assignment statement"
   ]
  },
  {
   "cell_type": "raw",
   "id": "590cbbae",
   "metadata": {},
   "source": [
    "Operator -- Name -- Example -- equivalent\n",
    "+= Addition          i +=9   i=i + 9       \n",
    "-= Subtraction:      i-= 9\n",
    "*= Multiplication    i *=9\n",
    "/= Float division    i /=9\n",
    "//= Integer division i //= 9\n",
    "%= Remainder          i %=9\n",
    "**= Exponent         i **=9"
   ]
  },
  {
   "cell_type": "code",
   "execution_count": 34,
   "id": "7b90abd1",
   "metadata": {},
   "outputs": [
    {
     "name": "stdout",
     "output_type": "stream",
     "text": [
      "18\n",
      "26\n"
     ]
    }
   ],
   "source": [
    "i = 18\n",
    "print(i)\n",
    "i+=8   # i = i+8\n",
    "print(i)"
   ]
  },
  {
   "cell_type": "code",
   "execution_count": 35,
   "id": "487ec66f",
   "metadata": {},
   "outputs": [
    {
     "name": "stdout",
     "output_type": "stream",
     "text": [
      "34\n"
     ]
    }
   ],
   "source": [
    "# i = 18\n",
    "i+=8   # i = i+8\n",
    "print(i)"
   ]
  },
  {
   "cell_type": "code",
   "execution_count": 36,
   "id": "85d11065",
   "metadata": {},
   "outputs": [
    {
     "name": "stdout",
     "output_type": "stream",
     "text": [
      "26\n"
     ]
    }
   ],
   "source": [
    "i-=8  # i = i-8\n",
    "print(i)"
   ]
  },
  {
   "cell_type": "code",
   "execution_count": 37,
   "id": "d680fb93",
   "metadata": {},
   "outputs": [
    {
     "name": "stdout",
     "output_type": "stream",
     "text": [
      "96\n"
     ]
    }
   ],
   "source": [
    "i = 12\n",
    "i*=8    # i = i*8\n",
    "print(i)"
   ]
  },
  {
   "cell_type": "code",
   "execution_count": null,
   "id": "7dd2c19c",
   "metadata": {},
   "outputs": [],
   "source": [
    "Membership operator"
   ]
  },
  {
   "cell_type": "code",
   "execution_count": 38,
   "id": "7329b254",
   "metadata": {},
   "outputs": [
    {
     "name": "stdout",
     "output_type": "stream",
     "text": [
      "False\n",
      "True\n",
      "True\n",
      "False\n"
     ]
    }
   ],
   "source": [
    "x = 121\n",
    "list1 = [12,21,32,23,44,'Deccan']\n",
    "print(x in list1)     \n",
    "print(x not in list1) \n",
    "print(12 in list1)     \n",
    "print(12 not in list1) "
   ]
  },
  {
   "cell_type": "code",
   "execution_count": 39,
   "id": "e441f63e",
   "metadata": {},
   "outputs": [
    {
     "name": "stdout",
     "output_type": "stream",
     "text": [
      "True\n",
      "False\n"
     ]
    }
   ],
   "source": [
    "string = 'data science'\n",
    "print('data' in string)  \n",
    "print('Data' in string)  "
   ]
  },
  {
   "cell_type": "raw",
   "id": "bb4e5f38",
   "metadata": {},
   "source": [
    "Identity operators\n",
    "is       Return True if variable are the same object\n",
    "is not   Return True if variable are not the same object"
   ]
  },
  {
   "cell_type": "code",
   "execution_count": 41,
   "id": "838759b0",
   "metadata": {},
   "outputs": [
    {
     "name": "stdout",
     "output_type": "stream",
     "text": [
      "False\n",
      "True\n",
      "True\n"
     ]
    }
   ],
   "source": [
    "panjab = 'Chandigadh'\n",
    "Hariyana = 'Chandigadh'\n",
    "maharashtra = 'Mumbai'\n",
    "print(panjab is maharashtra)   \n",
    "print(panjab is Hariyana)      \n",
    "print(panjab is not maharashtra) "
   ]
  },
  {
   "cell_type": "code",
   "execution_count": 42,
   "id": "1a2ab347",
   "metadata": {},
   "outputs": [
    {
     "data": {
      "text/plain": [
       "True"
      ]
     },
     "execution_count": 42,
     "metadata": {},
     "output_type": "execute_result"
    }
   ],
   "source": [
    "a = 15\n",
    "b = 15\n",
    "a is b"
   ]
  },
  {
   "cell_type": "code",
   "execution_count": 45,
   "id": "3b0f092c",
   "metadata": {},
   "outputs": [
    {
     "data": {
      "text/plain": [
       "False"
      ]
     },
     "execution_count": 45,
     "metadata": {},
     "output_type": "execute_result"
    }
   ],
   "source": [
    "c = 6\n",
    "d = 5\n",
    "c is d"
   ]
  },
  {
   "cell_type": "code",
   "execution_count": 48,
   "id": "cd40d699",
   "metadata": {},
   "outputs": [
    {
     "data": {
      "text/plain": [
       "140736265425992"
      ]
     },
     "execution_count": 48,
     "metadata": {},
     "output_type": "execute_result"
    }
   ],
   "source": [
    "id(c)"
   ]
  },
  {
   "cell_type": "code",
   "execution_count": 49,
   "id": "6d4c8738",
   "metadata": {},
   "outputs": [
    {
     "data": {
      "text/plain": [
       "140736265426312"
      ]
     },
     "execution_count": 49,
     "metadata": {},
     "output_type": "execute_result"
    }
   ],
   "source": [
    "id(d)"
   ]
  },
  {
   "cell_type": "code",
   "execution_count": null,
   "id": "4c21f124",
   "metadata": {},
   "outputs": [],
   "source": []
  }
 ],
 "metadata": {
  "kernelspec": {
   "display_name": "Python 3 (ipykernel)",
   "language": "python",
   "name": "python3"
  },
  "language_info": {
   "codemirror_mode": {
    "name": "ipython",
    "version": 3
   },
   "file_extension": ".py",
   "mimetype": "text/x-python",
   "name": "python",
   "nbconvert_exporter": "python",
   "pygments_lexer": "ipython3",
   "version": "3.11.5"
  }
 },
 "nbformat": 4,
 "nbformat_minor": 5
}
