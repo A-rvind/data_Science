{
 "cells": [
  {
   "cell_type": "markdown",
   "id": "41e99841",
   "metadata": {},
   "source": [
    "# Variables"
   ]
  },
  {
   "cell_type": "code",
   "execution_count": 8,
   "id": "a9a469ce",
   "metadata": {},
   "outputs": [
    {
     "data": {
      "text/plain": [
       "'test1'"
      ]
     },
     "execution_count": 8,
     "metadata": {},
     "output_type": "execute_result"
    }
   ],
   "source": [
    "var = str(\"test1\")\n",
    "var # python know its string"
   ]
  },
  {
   "cell_type": "code",
   "execution_count": 7,
   "id": "e19644ba",
   "metadata": {},
   "outputs": [
    {
     "data": {
      "text/plain": [
       "22"
      ]
     },
     "execution_count": 7,
     "metadata": {},
     "output_type": "execute_result"
    }
   ],
   "source": [
    "var2 = int(22)\n",
    "var2 # its know integer"
   ]
  },
  {
   "cell_type": "code",
   "execution_count": 10,
   "id": "becc652a",
   "metadata": {},
   "outputs": [],
   "source": [
    "a = 100\n",
    "b = 3.45\n",
    "c = 3 + 4j\n",
    "d = 'python'\n",
    "e = [3,4,5]\n",
    "f = (10,20,30)\n",
    "g = {9,8,7,32,1}\n",
    "h = {'a':100,'b':200}"
   ]
  },
  {
   "cell_type": "code",
   "execution_count": 11,
   "id": "07e9dc91",
   "metadata": {},
   "outputs": [
    {
     "name": "stdout",
     "output_type": "stream",
     "text": [
      "<class 'int'>\n",
      "<class 'float'>\n",
      "<class 'complex'>\n",
      "<class 'str'>\n",
      "<class 'list'>\n",
      "<class 'tuple'>\n",
      "<class 'set'>\n",
      "<class 'dict'>\n"
     ]
    }
   ],
   "source": [
    "print(type(a))\n",
    "print(type(b))\n",
    "print(type(c))\n",
    "print(type(d))\n",
    "print(type(e))\n",
    "print(type(f))\n",
    "print(type(g))\n",
    "print(type(h))"
   ]
  },
  {
   "cell_type": "code",
   "execution_count": null,
   "id": "182549ac",
   "metadata": {},
   "outputs": [],
   "source": [
    "How to assign variable,\n",
    "we can use \n",
    "var3 #alphabet+number\n",
    "var_2 # alphabet + _ + number\n",
    "_var1 # _ + alphabet\n",
    "var_# alpha + _"
   ]
  },
  {
   "cell_type": "code",
   "execution_count": null,
   "id": "95740b39",
   "metadata": {},
   "outputs": [],
   "source": []
  },
  {
   "cell_type": "markdown",
   "id": "c4f27f0f",
   "metadata": {},
   "source": [
    "# Types of Variables"
   ]
  },
  {
   "cell_type": "markdown",
   "id": "689a62e3",
   "metadata": {},
   "source": [
    "1. global variables  >> Variables which are declared outside the function\n",
    "2. local variables   >> Variables which are declared inside the function\n",
    "\n",
    "We can access global variable from outside the function and inside the function\n",
    "local >> We can not access local variables from outside the function"
   ]
  },
  {
   "cell_type": "code",
   "execution_count": 3,
   "id": "62117f1a",
   "metadata": {},
   "outputs": [],
   "source": [
    "#Example:\n",
    "name = 'Rohit sharma'  # Global variable\n",
    "def my_function():    # Defining a function\n",
    "    x = 100           # Local variable\n",
    "    \n",
    "    \n",
    "my_function()        # Function calling"
   ]
  },
  {
   "cell_type": "code",
   "execution_count": 4,
   "id": "dd41c327",
   "metadata": {},
   "outputs": [
    {
     "name": "stdout",
     "output_type": "stream",
     "text": [
      "Rohit sharma\n",
      "100\n",
      "Rohit sharma\n"
     ]
    }
   ],
   "source": [
    "#New variable inside of function and access in print\n",
    "name = 'Rohit sharma'  # Global variable\n",
    "def my_function():    # Defining a function\n",
    "    x = 100           # Local variable\n",
    "    print(name)\n",
    "    print(x)\n",
    "    \n",
    "    \n",
    "my_function() \n",
    "print(name)"
   ]
  },
  {
   "cell_type": "code",
   "execution_count": 5,
   "id": "e24fd519",
   "metadata": {},
   "outputs": [
    {
     "name": "stdout",
     "output_type": "stream",
     "text": [
      "Rohit sharma\n",
      "100\n",
      "Rohit sharma\n"
     ]
    },
    {
     "ename": "NameError",
     "evalue": "name 'n' is not defined",
     "output_type": "error",
     "traceback": [
      "\u001b[1;31m---------------------------------------------------------------------------\u001b[0m",
      "\u001b[1;31mNameError\u001b[0m                                 Traceback (most recent call last)",
      "Cell \u001b[1;32mIn[5], line 11\u001b[0m\n\u001b[0;32m      9\u001b[0m my_function() \n\u001b[0;32m     10\u001b[0m \u001b[38;5;28mprint\u001b[39m(name)\n\u001b[1;32m---> 11\u001b[0m \u001b[38;5;28mprint\u001b[39m(\u001b[43mn\u001b[49m)\n",
      "\u001b[1;31mNameError\u001b[0m: name 'n' is not defined"
     ]
    }
   ],
   "source": [
    "#Error : because we cant access block value to outside.\n",
    "name = 'Rohit sharma'  # Global variable\n",
    "def my_function():    # Defining a function\n",
    "    n = 100           # Local variable\n",
    "    print(name)\n",
    "    print(n)\n",
    "    \n",
    "    \n",
    "my_function() \n",
    "print(name)\n",
    "print(n) # n is inside of block of code"
   ]
  },
  {
   "cell_type": "code",
   "execution_count": 6,
   "id": "2322340c",
   "metadata": {},
   "outputs": [
    {
     "name": "stdout",
     "output_type": "stream",
     "text": [
      "Rohit sharma\n",
      "100\n",
      "100\n",
      "Rohit sharma\n"
     ]
    }
   ],
   "source": [
    "# To access local variable to global, we use global\n",
    "name = 'Rohit sharma'  # Global variable\n",
    "def my_function():    # Defining a function\n",
    "    global y\n",
    "    y = 100           # Local variable\n",
    "    print(name)\n",
    "    print(y)\n",
    "    \n",
    "    \n",
    "my_function() \n",
    "print(y)\n",
    "print(name)"
   ]
  },
  {
   "cell_type": "markdown",
   "id": "fa897e68",
   "metadata": {},
   "source": [
    "# Delete Variable"
   ]
  },
  {
   "cell_type": "markdown",
   "id": "39b6fb29",
   "metadata": {},
   "source": [
    "del keyword is used to delete any variable"
   ]
  },
  {
   "cell_type": "code",
   "execution_count": null,
   "id": "730a5a2d",
   "metadata": {},
   "outputs": [],
   "source": [
    "var_ds = 'Data science'\n",
    "var_ds # here you can access the value"
   ]
  },
  {
   "cell_type": "code",
   "execution_count": 13,
   "id": "a7d4e759",
   "metadata": {
    "collapsed": true
   },
   "outputs": [
    {
     "ename": "NameError",
     "evalue": "name 'var_ds' is not defined",
     "output_type": "error",
     "traceback": [
      "\u001b[1;31m---------------------------------------------------------------------------\u001b[0m",
      "\u001b[1;31mNameError\u001b[0m                                 Traceback (most recent call last)",
      "Cell \u001b[1;32mIn[13], line 1\u001b[0m\n\u001b[1;32m----> 1\u001b[0m \u001b[38;5;28;01mdel\u001b[39;00m var_ds \u001b[38;5;66;03m#here you deleted the variable, now you cant access the value\u001b[39;00m\n\u001b[0;32m      2\u001b[0m var_ds\n",
      "\u001b[1;31mNameError\u001b[0m: name 'var_ds' is not defined"
     ]
    }
   ],
   "source": [
    "del var_ds #here you deleted the variable, now you cant access the value\n",
    "var_ds"
   ]
  },
  {
   "cell_type": "markdown",
   "id": "236bbba3",
   "metadata": {},
   "source": [
    "# Numeric DataTypes"
   ]
  },
  {
   "cell_type": "markdown",
   "id": "9bfce16e",
   "metadata": {},
   "source": [
    "1. int\n",
    "int >> built in function\n",
    "whole number\n",
    "+ve or -ve number\n",
    "10\n",
    "30\n",
    "-35\n",
    "-50"
   ]
  },
  {
   "cell_type": "code",
   "execution_count": 14,
   "id": "154b06bc",
   "metadata": {},
   "outputs": [
    {
     "data": {
      "text/plain": [
       "int"
      ]
     },
     "execution_count": 14,
     "metadata": {},
     "output_type": "execute_result"
    }
   ],
   "source": [
    "a = 10\n",
    "type(a)"
   ]
  },
  {
   "cell_type": "code",
   "execution_count": 15,
   "id": "d7a08c6f",
   "metadata": {},
   "outputs": [
    {
     "data": {
      "text/plain": [
       "int"
      ]
     },
     "execution_count": 15,
     "metadata": {},
     "output_type": "execute_result"
    }
   ],
   "source": [
    "a = -50\n",
    "type(a)"
   ]
  },
  {
   "cell_type": "markdown",
   "id": "dfe6baa7",
   "metadata": {},
   "source": [
    "2. float\n",
    "+ve or -ve\n",
    "It contains decimal point\n",
    "3.14, 3.0 , -3.0"
   ]
  },
  {
   "cell_type": "code",
   "execution_count": null,
   "id": "3dd92a43",
   "metadata": {},
   "outputs": [],
   "source": [
    "x = 3.14\n",
    "type(x)"
   ]
  },
  {
   "cell_type": "code",
   "execution_count": null,
   "id": "8362f272",
   "metadata": {},
   "outputs": [],
   "source": [
    "x = -3.0\n",
    "type(x)"
   ]
  },
  {
   "cell_type": "code",
   "execution_count": null,
   "id": "a894c729",
   "metadata": {},
   "outputs": [],
   "source": [
    "3. Complex\n",
    "It contain real and imaginary part  (a + bj)\n",
    "\n",
    "x = 3 + 4j\n",
    "x = 3 - 4j\n",
    "x = -3 - 4j"
   ]
  },
  {
   "cell_type": "code",
   "execution_count": null,
   "id": "23bdfa52",
   "metadata": {},
   "outputs": [],
   "source": [
    "x = 3 + 4j\n",
    "type(x)"
   ]
  },
  {
   "cell_type": "code",
   "execution_count": null,
   "id": "cc9bdc5b",
   "metadata": {},
   "outputs": [],
   "source": [
    "x = 4j    # 0 + 4j\n",
    "type(x)"
   ]
  },
  {
   "cell_type": "code",
   "execution_count": null,
   "id": "8783bf5f",
   "metadata": {},
   "outputs": [],
   "source": [
    "x = 0 + 0j\n",
    "type(x)"
   ]
  },
  {
   "cell_type": "markdown",
   "id": "ed004dec",
   "metadata": {},
   "source": [
    "# Python Casting/ Type Conversion"
   ]
  },
  {
   "cell_type": "markdown",
   "id": "15d2ebe7",
   "metadata": {},
   "source": [
    "int to float\n",
    "float to int\n",
    "int,float to complex\n",
    "complex to int,float \n",
    "int,float to str\n",
    "str to int,float"
   ]
  },
  {
   "cell_type": "code",
   "execution_count": 17,
   "id": "6b6cf927",
   "metadata": {},
   "outputs": [
    {
     "data": {
      "text/plain": [
       "float"
      ]
     },
     "execution_count": 17,
     "metadata": {},
     "output_type": "execute_result"
    }
   ],
   "source": [
    "# 1. int to float\n",
    "# convert a into float\n",
    "a = 56  # int\n",
    "b = float(a)\n",
    "type(b)"
   ]
  },
  {
   "cell_type": "code",
   "execution_count": null,
   "id": "6f5aeeb7",
   "metadata": {},
   "outputs": [],
   "source": [
    "#2 . float to int \n",
    "# convert a into integer\n",
    "a = 3.14  # float\n",
    "int(a)"
   ]
  },
  {
   "cell_type": "code",
   "execution_count": null,
   "id": "3ac6f319",
   "metadata": {},
   "outputs": [],
   "source": [
    "#3. int to complex\n",
    "x = 45  # int\n",
    "complex(x)"
   ]
  },
  {
   "cell_type": "code",
   "execution_count": null,
   "id": "c62c4748",
   "metadata": {},
   "outputs": [],
   "source": [
    "#4 . float to complex\n",
    "x = 4.45   # float\n",
    "complex(x)"
   ]
  },
  {
   "cell_type": "code",
   "execution_count": null,
   "id": "68526554",
   "metadata": {},
   "outputs": [],
   "source": [
    "x = 4+5j\n",
    "int(x) # not possible "
   ]
  },
  {
   "cell_type": "code",
   "execution_count": null,
   "id": "18dc20dd",
   "metadata": {},
   "outputs": [],
   "source": [
    "#5. complex to int or float\n",
    "\"\"\"can't convert complex to int\n",
    "can't convert complex to float\"\"\"\n"
   ]
  },
  {
   "cell_type": "code",
   "execution_count": null,
   "id": "5dba266b",
   "metadata": {},
   "outputs": [],
   "source": [
    "#6. int to string\n",
    "a = 55\n",
    "str(a) # it will return in qoute"
   ]
  },
  {
   "cell_type": "code",
   "execution_count": null,
   "id": "f8298e3e",
   "metadata": {},
   "outputs": [],
   "source": [
    "#7. float to string\n",
    "a = 4.567\n",
    "str(a)\n",
    "# string = 'python' >> the python is in string type"
   ]
  },
  {
   "cell_type": "code",
   "execution_count": null,
   "id": "110b639a",
   "metadata": {},
   "outputs": [],
   "source": [
    "#8. string to int\n",
    "# string can only be converted into int or float if string is numberic\n",
    "\n",
    "str1 = '2345' \n",
    "int(str1) #it will return in number"
   ]
  },
  {
   "cell_type": "markdown",
   "id": "256210b2",
   "metadata": {},
   "source": [
    "# Round function\n"
   ]
  },
  {
   "cell_type": "code",
   "execution_count": 1,
   "id": "18f7ae6b",
   "metadata": {},
   "outputs": [
    {
     "data": {
      "text/plain": [
       "4.57"
      ]
     },
     "execution_count": 1,
     "metadata": {},
     "output_type": "execute_result"
    }
   ],
   "source": [
    "# round a upto 2 decimal places\n",
    "a = 4.56789\n",
    "round(a,2) # (varibale, length)"
   ]
  },
  {
   "cell_type": "code",
   "execution_count": 2,
   "id": "9dda358a",
   "metadata": {},
   "outputs": [
    {
     "data": {
      "text/plain": [
       "4.563"
      ]
     },
     "execution_count": 2,
     "metadata": {},
     "output_type": "execute_result"
    }
   ],
   "source": [
    "a = 4.56289\n",
    "round(a,3)"
   ]
  }
 ],
 "metadata": {
  "kernelspec": {
   "display_name": "Python 3 (ipykernel)",
   "language": "python",
   "name": "python3"
  },
  "language_info": {
   "codemirror_mode": {
    "name": "ipython",
    "version": 3
   },
   "file_extension": ".py",
   "mimetype": "text/x-python",
   "name": "python",
   "nbconvert_exporter": "python",
   "pygments_lexer": "ipython3",
   "version": "3.12.1"
  }
 },
 "nbformat": 4,
 "nbformat_minor": 5
}
