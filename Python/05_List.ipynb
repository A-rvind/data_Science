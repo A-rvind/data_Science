{
 "cells": [
  {
   "cell_type": "markdown",
   "id": "ef0d3598",
   "metadata": {},
   "source": [
    "# List"
   ]
  },
  {
   "cell_type": "code",
   "execution_count": null,
   "id": "3bfd72b3",
   "metadata": {},
   "outputs": [],
   "source": [
    "It a collection of items\n",
    "data types >> int , str, float, list, tuple, dict, set, etc\n",
    "\n",
    "It is used to store sequence of various data types"
   ]
  },
  {
   "cell_type": "code",
   "execution_count": null,
   "id": "0090b130",
   "metadata": {},
   "outputs": [],
   "source": [
    "# Properties of list\n",
    "1. Ordered data type\n",
    "2. Mutable >> Changable  >> add , delete, update\n",
    "3. duplicates are allowed   \n",
    "4. enclosed by square brackets >> [] \n",
    "5. lists items are comma seperated"
   ]
  },
  {
   "cell_type": "code",
   "execution_count": 2,
   "id": "acf17393",
   "metadata": {},
   "outputs": [
    {
     "data": {
      "text/plain": [
       "['python', 6, 'a', 2, 10, 7, 6, 7]"
      ]
     },
     "execution_count": 2,
     "metadata": {},
     "output_type": "execute_result"
    }
   ],
   "source": [
    "list_var = ['python', 6,'a',2,10,7,6,7]\n",
    "list_var"
   ]
  },
  {
   "cell_type": "code",
   "execution_count": 3,
   "id": "a3a78211",
   "metadata": {},
   "outputs": [
    {
     "name": "stdout",
     "output_type": "stream",
     "text": [
      "[10, 5.5, (4+5j), 'python', [1, 2, 3, 4], (5, 6, 7), {8, 9, 2}, {'a': 10, 'b': 20}]\n"
     ]
    }
   ],
   "source": [
    "# List can have items of any datatype\n",
    "list1 = [10,5.5,4+5j,'python',[1,2,3,4],(5,6,7),{8,9,2},{'a':10,'b':20}]\n",
    "print(list1)"
   ]
  },
  {
   "cell_type": "code",
   "execution_count": 4,
   "id": "a8e8a19f",
   "metadata": {},
   "outputs": [
    {
     "data": {
      "text/plain": [
       "list"
      ]
     },
     "execution_count": 4,
     "metadata": {},
     "output_type": "execute_result"
    }
   ],
   "source": [
    "type(list1)"
   ]
  },
  {
   "cell_type": "code",
   "execution_count": 5,
   "id": "ca2fdf06",
   "metadata": {},
   "outputs": [
    {
     "data": {
      "text/plain": [
       "8"
      ]
     },
     "execution_count": 5,
     "metadata": {},
     "output_type": "execute_result"
    }
   ],
   "source": [
    "# length of list\n",
    "len(list1)"
   ]
  },
  {
   "cell_type": "markdown",
   "id": "48866de4",
   "metadata": {},
   "source": [
    "# Indexing\n"
   ]
  },
  {
   "cell_type": "code",
   "execution_count": null,
   "id": "1e5b1da2",
   "metadata": {},
   "outputs": [],
   "source": [
    "Python indexing start with 0\n",
    "list1 >>        [ 3,  6,  1,  9,  4]\n",
    "+ve index >>      0   1   2   3   4 \n",
    "-ve index >>     -5  -4  -3  -2 -1"
   ]
  },
  {
   "cell_type": "code",
   "execution_count": 6,
   "id": "845b940c",
   "metadata": {},
   "outputs": [
    {
     "data": {
      "text/plain": [
       "30"
      ]
     },
     "execution_count": 6,
     "metadata": {},
     "output_type": "execute_result"
    }
   ],
   "source": [
    "list2 = [20,30,10,4,5,7,8,3]\n",
    "list2[1] #number is index of list"
   ]
  },
  {
   "cell_type": "code",
   "execution_count": 7,
   "id": "9f582e54",
   "metadata": {},
   "outputs": [
    {
     "data": {
      "text/plain": [
       "8"
      ]
     },
     "execution_count": 7,
     "metadata": {},
     "output_type": "execute_result"
    }
   ],
   "source": [
    "list2[-2]"
   ]
  },
  {
   "cell_type": "markdown",
   "id": "b19423c4",
   "metadata": {},
   "source": [
    "# Slicing"
   ]
  },
  {
   "cell_type": "code",
   "execution_count": null,
   "id": "93e8dad3",
   "metadata": {},
   "outputs": [],
   "source": [
    "# list3[start_index:end_index:stepsize]"
   ]
  },
  {
   "cell_type": "code",
   "execution_count": 8,
   "id": "0f1b85f1",
   "metadata": {},
   "outputs": [
    {
     "name": "stdout",
     "output_type": "stream",
     "text": [
      "[20, 30, 10, 4, 5, 7, 8, 3]\n"
     ]
    }
   ],
   "source": [
    "list3 = [20,30,10,4,5,7,8,3]\n",
    "print(list3[:])  # return all value due to no conditions "
   ]
  },
  {
   "cell_type": "code",
   "execution_count": 9,
   "id": "20aff5db",
   "metadata": {},
   "outputs": [
    {
     "name": "stdout",
     "output_type": "stream",
     "text": [
      "[20, 30, 10]\n"
     ]
    }
   ],
   "source": [
    "list3 = [20,30,10,4,5,7,8,3]\n",
    "print(list3[:3]) "
   ]
  },
  {
   "cell_type": "code",
   "execution_count": 10,
   "id": "18a91068",
   "metadata": {},
   "outputs": [
    {
     "name": "stdout",
     "output_type": "stream",
     "text": [
      "[10, 4, 5, 7, 8, 3]\n"
     ]
    }
   ],
   "source": [
    "list5 = [20,30,10,4,5,7,8,3]\n",
    "print(list5[2:]) "
   ]
  },
  {
   "cell_type": "code",
   "execution_count": 11,
   "id": "82786c3f",
   "metadata": {},
   "outputs": [
    {
     "name": "stdout",
     "output_type": "stream",
     "text": [
      "[3, 8, 7, 5, 4, 10, 30, 20]\n"
     ]
    }
   ],
   "source": [
    "list6 = [20,30,10,4,5,7,8,3]\n",
    "print(list6[::-1]) # reverse"
   ]
  },
  {
   "cell_type": "markdown",
   "id": "261aae2c",
   "metadata": {},
   "source": [
    "# Access list items by using for loop"
   ]
  },
  {
   "cell_type": "code",
   "execution_count": null,
   "id": "242015f6",
   "metadata": {},
   "outputs": [],
   "source": [
    "for variable in sequence:\n",
    "    print(variable)\n",
    "    statement1\n",
    "    statement2"
   ]
  },
  {
   "cell_type": "code",
   "execution_count": 12,
   "id": "ed38948d",
   "metadata": {},
   "outputs": [
    {
     "name": "stdout",
     "output_type": "stream",
     "text": [
      "Pune\n",
      "Mumbai\n",
      "Delhi\n",
      "Chennai\n",
      "Bangalore\n"
     ]
    }
   ],
   "source": [
    "# print city\n",
    "city_names = ['Pune', \"Mumbai\", \"Delhi\", 'Chennai',\"Bangalore\"]\n",
    "\n",
    "for i in city_names:\n",
    "    print(i) "
   ]
  },
  {
   "cell_type": "code",
   "execution_count": null,
   "id": "0776a33a",
   "metadata": {},
   "outputs": [],
   "source": [
    "# print city\n",
    "city_names = ['Pune', \"Mumbai\", \"Delhi\", 'Chennai',\"Bangalore\"]\n",
    "\n",
    "for city in city_names:\n",
    "    print(city) #you can change the iteration variable or loop variable"
   ]
  },
  {
   "cell_type": "code",
   "execution_count": null,
   "id": "d811fe1a",
   "metadata": {},
   "outputs": [],
   "source": []
  },
  {
   "cell_type": "markdown",
   "id": "351ec820",
   "metadata": {},
   "source": [
    "# List Functions"
   ]
  },
  {
   "cell_type": "code",
   "execution_count": null,
   "id": "74e75b55",
   "metadata": {},
   "outputs": [],
   "source": [
    "1. append()   # To add only one item\n",
    "2. extend()   # To add list\n",
    "3. insert()   # To add item at specified index\n",
    "4. remove()\n",
    "5. pop()\n",
    "6. clear()\n",
    "7. sort()\n",
    "8. reverse()\n",
    "9. index()\n",
    "10. count()\n",
    "11. del keywords"
   ]
  },
  {
   "cell_type": "code",
   "execution_count": null,
   "id": "f546943c",
   "metadata": {},
   "outputs": [],
   "source": [
    "1. append()\n",
    "\n",
    "# synatx ::= list.append(value)\n",
    "# We can add only one value/item in list\n",
    "# item will get added at last index"
   ]
  },
  {
   "cell_type": "code",
   "execution_count": 13,
   "id": "bc2d12b9",
   "metadata": {},
   "outputs": [
    {
     "data": {
      "text/plain": [
       "['Mumbai', 'Pune', 'Delhi']"
      ]
     },
     "execution_count": 13,
     "metadata": {},
     "output_type": "execute_result"
    }
   ],
   "source": [
    "# Add Delhi and print the list\n",
    "city_names = ['Mumbai','Pune']  \n",
    "city_names.append('Delhi')\n",
    "city_names  "
   ]
  },
  {
   "cell_type": "code",
   "execution_count": null,
   "id": "42de9afc",
   "metadata": {},
   "outputs": [],
   "source": [
    "2. extend()\n",
    "# add 2 lists\n",
    "# list1.extend(list2)"
   ]
  },
  {
   "cell_type": "code",
   "execution_count": 14,
   "id": "62363d9a",
   "metadata": {},
   "outputs": [
    {
     "data": {
      "text/plain": [
       "['Mumbai', 'Pune', 'Delhi', 'Chennai', 'Hyderabad']"
      ]
     },
     "execution_count": 14,
     "metadata": {},
     "output_type": "execute_result"
    }
   ],
   "source": [
    "# Add both the lists and print both\n",
    "city_names1 = ['Mumbai','Pune']\n",
    "city_names2 = ['Delhi','Chennai','Hyderabad']\n",
    "city_names1.extend(city_names2)\n",
    "city_names1"
   ]
  },
  {
   "cell_type": "code",
   "execution_count": 15,
   "id": "15322140",
   "metadata": {},
   "outputs": [
    {
     "data": {
      "text/plain": [
       "['Delhi', 'Chennai', 'Hyderabad', 'Mumbai', 'Pune']"
      ]
     },
     "execution_count": 15,
     "metadata": {},
     "output_type": "execute_result"
    }
   ],
   "source": [
    "# Add both the lists and print both\n",
    "city_names1 = ['Mumbai','Pune']\n",
    "city_names2 = ['Delhi','Chennai','Hyderabad']\n",
    "city_names2.extend(city_names1)\n",
    "city_names2"
   ]
  },
  {
   "cell_type": "code",
   "execution_count": null,
   "id": "f93da150",
   "metadata": {},
   "outputs": [],
   "source": []
  },
  {
   "cell_type": "markdown",
   "id": "25560f21",
   "metadata": {},
   "source": [
    "# Add 2 list(concat) using + operator"
   ]
  },
  {
   "cell_type": "code",
   "execution_count": 16,
   "id": "8958dd03",
   "metadata": {},
   "outputs": [
    {
     "data": {
      "text/plain": [
       "['Mumbai', 'Pune', 'Delhi', 'Chennai', 'Hyderabad']"
      ]
     },
     "execution_count": 16,
     "metadata": {},
     "output_type": "execute_result"
    }
   ],
   "source": [
    "city_names1 = ['Mumbai','Pune']\n",
    "city_names2 = ['Delhi','Chennai','Hyderabad']\n",
    "city_names1+city_names2"
   ]
  },
  {
   "cell_type": "code",
   "execution_count": 17,
   "id": "d94a0d79",
   "metadata": {},
   "outputs": [
    {
     "name": "stdout",
     "output_type": "stream",
     "text": [
      "['Mumbai', 'Mumbai', 'Mumbai']\n"
     ]
    }
   ],
   "source": [
    "# use * operator\n",
    "city_names1 = ['Mumbai']\n",
    "print(city_names1*3)"
   ]
  },
  {
   "cell_type": "code",
   "execution_count": null,
   "id": "6a004d36",
   "metadata": {},
   "outputs": [],
   "source": [
    "3. insert()\n",
    "list1.insert(index,value)"
   ]
  },
  {
   "cell_type": "code",
   "execution_count": 19,
   "id": "9d9e040d",
   "metadata": {},
   "outputs": [
    {
     "data": {
      "text/plain": [
       "[10, 50, 20, 30, 40]"
      ]
     },
     "execution_count": 19,
     "metadata": {},
     "output_type": "execute_result"
    }
   ],
   "source": [
    "# insert 50 at 1st index\n",
    "list7 = [10,20,30,40]\n",
    "list7.insert(1,50)\n",
    "list7"
   ]
  },
  {
   "cell_type": "code",
   "execution_count": 20,
   "id": "393d3971",
   "metadata": {},
   "outputs": [
    {
     "data": {
      "text/plain": [
       "[10, 50, 20, 'python', 30, 40]"
      ]
     },
     "execution_count": 20,
     "metadata": {},
     "output_type": "execute_result"
    }
   ],
   "source": [
    "list7.insert(3,'python')\n",
    "list7"
   ]
  },
  {
   "cell_type": "markdown",
   "id": "b92f1508",
   "metadata": {},
   "source": [
    "# Replace items in a list"
   ]
  },
  {
   "cell_type": "code",
   "execution_count": 21,
   "id": "1ff1c505",
   "metadata": {},
   "outputs": [
    {
     "data": {
      "text/plain": [
       "['Delhi', 'Chennai', 'Kolkata', 'Mumbai', 'Pune']"
      ]
     },
     "execution_count": 21,
     "metadata": {},
     "output_type": "execute_result"
    }
   ],
   "source": [
    "# Replace 2nd index item with Kolkata\n",
    "city_names = ['Delhi', 'Chennai', 'Hyderabad', 'Mumbai', 'Pune']  # 5\n",
    "city_names[2] = 'Kolkata'\n",
    "city_names    "
   ]
  },
  {
   "cell_type": "markdown",
   "id": "da37eaea",
   "metadata": {},
   "source": [
    "# Delete items from list\n",
    "4. remove\n",
    "5. pop\n",
    "6. clear\n",
    "7. del"
   ]
  },
  {
   "cell_type": "code",
   "execution_count": null,
   "id": "217ac23d",
   "metadata": {},
   "outputs": [],
   "source": [
    "4. remove()\n",
    "list.remove(item)"
   ]
  },
  {
   "cell_type": "code",
   "execution_count": 23,
   "id": "1c8c2a6a",
   "metadata": {},
   "outputs": [
    {
     "data": {
      "text/plain": [
       "['Phy', 'Che', 'Math', 'Eng']"
      ]
     },
     "execution_count": 23,
     "metadata": {},
     "output_type": "execute_result"
    }
   ],
   "source": [
    "# Remove Bio from the list\n",
    "sub_names = [\"Phy\",\"Che\",\"Math\",\"Bio\",'Eng']   \n",
    "sub_names.remove(\"Bio\")\n",
    "sub_names"
   ]
  },
  {
   "cell_type": "code",
   "execution_count": null,
   "id": "77b89f1d",
   "metadata": {},
   "outputs": [],
   "source": [
    "5. pop()\n",
    "list.pop(index)\n",
    "default index value >> -1 (end value)"
   ]
  },
  {
   "cell_type": "code",
   "execution_count": 24,
   "id": "9f114b54",
   "metadata": {},
   "outputs": [
    {
     "data": {
      "text/plain": [
       "['Phy', 'Che', 'Math', 'Bio']"
      ]
     },
     "execution_count": 24,
     "metadata": {},
     "output_type": "execute_result"
    }
   ],
   "source": [
    "# Remove last index item\n",
    "sub_names = [\"Phy\",\"Che\",\"Math\",\"Bio\",'Eng']\n",
    "sub_names.pop()\n",
    "sub_names"
   ]
  },
  {
   "cell_type": "code",
   "execution_count": 25,
   "id": "a0d417e3",
   "metadata": {},
   "outputs": [
    {
     "data": {
      "text/plain": [
       "['Phy', 'Math', 'Bio', 'Eng']"
      ]
     },
     "execution_count": 25,
     "metadata": {},
     "output_type": "execute_result"
    }
   ],
   "source": [
    "# Remove 1st index item\n",
    "sub_names = [\"Phy\",\"Che\",\"Math\",\"Bio\",'Eng']  \n",
    "sub_names.pop(1)\n",
    "sub_names  "
   ]
  },
  {
   "cell_type": "code",
   "execution_count": null,
   "id": "58872f87",
   "metadata": {},
   "outputs": [],
   "source": [
    "6. clear()\n",
    "Remove all items from list"
   ]
  },
  {
   "cell_type": "code",
   "execution_count": 26,
   "id": "75ce88fa",
   "metadata": {},
   "outputs": [
    {
     "data": {
      "text/plain": [
       "[]"
      ]
     },
     "execution_count": 26,
     "metadata": {},
     "output_type": "execute_result"
    }
   ],
   "source": [
    "sub_names = [\"Phy\",\"Che\",\"Math\",\"Bio\",'Eng']\n",
    "sub_names.clear()\n",
    "sub_names"
   ]
  },
  {
   "cell_type": "code",
   "execution_count": null,
   "id": "7e1c63d6",
   "metadata": {},
   "outputs": [],
   "source": [
    "11. del keyword\n",
    "remove items using index value"
   ]
  },
  {
   "cell_type": "code",
   "execution_count": 28,
   "id": "90f6a92f",
   "metadata": {},
   "outputs": [
    {
     "data": {
      "text/plain": [
       "['Phy', 'Che', 'Bio', 'Eng']"
      ]
     },
     "execution_count": 28,
     "metadata": {},
     "output_type": "execute_result"
    }
   ],
   "source": [
    "# delete 2nd index item\n",
    "sub_names = [\"Phy\",\"Che\",\"Math\",\"Bio\",'Eng']\n",
    "del sub_names[2]  # This same as pop function\n",
    "sub_names"
   ]
  },
  {
   "cell_type": "code",
   "execution_count": null,
   "id": "876c1173",
   "metadata": {},
   "outputs": [],
   "source": [
    "8. Reverse\n",
    "# Reverse the list"
   ]
  },
  {
   "cell_type": "code",
   "execution_count": 34,
   "id": "28742439",
   "metadata": {},
   "outputs": [
    {
     "data": {
      "text/plain": [
       "[6, 67, 23, 1, 5, 20, 4, 10]"
      ]
     },
     "execution_count": 34,
     "metadata": {},
     "output_type": "execute_result"
    }
   ],
   "source": [
    "numbers = [10,4,20,5,1,23,67,6]\n",
    "numbers[::-1] "
   ]
  },
  {
   "cell_type": "code",
   "execution_count": 35,
   "id": "139bcc94",
   "metadata": {},
   "outputs": [
    {
     "data": {
      "text/plain": [
       "[6, 67, 23, 1, 5, 20, 4, 10]"
      ]
     },
     "execution_count": 35,
     "metadata": {},
     "output_type": "execute_result"
    }
   ],
   "source": [
    "numbers = [10,4,20,5,1,23,67,6]\n",
    "numbers.reverse() # Reverse the list\n",
    "numbers"
   ]
  },
  {
   "cell_type": "code",
   "execution_count": null,
   "id": "9695cf4d",
   "metadata": {},
   "outputs": [],
   "source": [
    "9. Index\n",
    "to know position of item in list"
   ]
  },
  {
   "cell_type": "code",
   "execution_count": 29,
   "id": "c15eec2b",
   "metadata": {},
   "outputs": [
    {
     "data": {
      "text/plain": [
       "2"
      ]
     },
     "execution_count": 29,
     "metadata": {},
     "output_type": "execute_result"
    }
   ],
   "source": [
    "sub_names = [\"Phy\",\"Che\",\"math\",\"bio\",'Eng']\n",
    "sub_names.index('math') #case sensitive"
   ]
  },
  {
   "cell_type": "code",
   "execution_count": null,
   "id": "2586d161",
   "metadata": {},
   "outputs": [],
   "source": [
    "10. count()\n",
    "to count items in list"
   ]
  },
  {
   "cell_type": "code",
   "execution_count": 31,
   "id": "599c3cbb",
   "metadata": {},
   "outputs": [
    {
     "data": {
      "text/plain": [
       "2"
      ]
     },
     "execution_count": 31,
     "metadata": {},
     "output_type": "execute_result"
    }
   ],
   "source": [
    "# Find the count of maths in list\n",
    "sub_names = [\"Phy\",\"maths\",\"Che\",\"maths\",\"bio\",'Eng',\"Math\"]\n",
    "\n",
    "sub_names.count('maths')"
   ]
  },
  {
   "cell_type": "markdown",
   "id": "39247fae",
   "metadata": {},
   "source": [
    "# Sorting\n",
    "1. ascending order\n",
    "2. descending order"
   ]
  },
  {
   "cell_type": "code",
   "execution_count": 32,
   "id": "ea0ca526",
   "metadata": {},
   "outputs": [
    {
     "data": {
      "text/plain": [
       "[1, 4, 5, 6, 10, 20, 23, 67]"
      ]
     },
     "execution_count": 32,
     "metadata": {},
     "output_type": "execute_result"
    }
   ],
   "source": [
    "# 1. ascending order\n",
    "numbers = [10,4,20,5,1,23,67,6]\n",
    "numbers.sort()  # reverse=False >> Ascending\n",
    "numbers"
   ]
  },
  {
   "cell_type": "code",
   "execution_count": null,
   "id": "a2cca9c1",
   "metadata": {},
   "outputs": [],
   "source": [
    "# 2. Descending order"
   ]
  },
  {
   "cell_type": "code",
   "execution_count": 33,
   "id": "d20afcbb",
   "metadata": {},
   "outputs": [
    {
     "data": {
      "text/plain": [
       "[67, 23, 20, 10, 6, 5, 4, 1]"
      ]
     },
     "execution_count": 33,
     "metadata": {},
     "output_type": "execute_result"
    }
   ],
   "source": [
    "numbers = [10,4,20,5,1,23,67,6]\n",
    "numbers.sort(reverse=True)  # Descending\n",
    "numbers"
   ]
  },
  {
   "cell_type": "markdown",
   "id": "65daa5f7",
   "metadata": {},
   "source": [
    "# Built-in Functions:\n",
    "1. sum()\n",
    "2. min()\n",
    "3. max()"
   ]
  },
  {
   "cell_type": "code",
   "execution_count": null,
   "id": "77250b53",
   "metadata": {},
   "outputs": [],
   "source": [
    "1.max()\n",
    "it return the highest value in list"
   ]
  },
  {
   "cell_type": "code",
   "execution_count": 36,
   "id": "f524e0ec",
   "metadata": {},
   "outputs": [
    {
     "data": {
      "text/plain": [
       "50"
      ]
     },
     "execution_count": 36,
     "metadata": {},
     "output_type": "execute_result"
    }
   ],
   "source": [
    "list13 = [3,4,5,6,10,30,2,40,50,11] \n",
    "max(list13)"
   ]
  },
  {
   "cell_type": "code",
   "execution_count": null,
   "id": "c9cc925d",
   "metadata": {},
   "outputs": [],
   "source": [
    "2.min()\n",
    "it return the lowest value in list"
   ]
  },
  {
   "cell_type": "code",
   "execution_count": 37,
   "id": "fa4db7a2",
   "metadata": {},
   "outputs": [
    {
     "data": {
      "text/plain": [
       "2"
      ]
     },
     "execution_count": 37,
     "metadata": {},
     "output_type": "execute_result"
    }
   ],
   "source": [
    "list13 = [3,4,5,6,10,30,2,40,50,11] \n",
    "min(list13)"
   ]
  },
  {
   "cell_type": "code",
   "execution_count": 38,
   "id": "1858f22d",
   "metadata": {
    "collapsed": true
   },
   "outputs": [
    {
     "ename": "SyntaxError",
     "evalue": "invalid decimal literal (883938649.py, line 1)",
     "output_type": "error",
     "traceback": [
      "\u001b[1;36m  Cell \u001b[1;32mIn[38], line 1\u001b[1;36m\u001b[0m\n\u001b[1;33m    3.sum()\u001b[0m\n\u001b[1;37m     ^\u001b[0m\n\u001b[1;31mSyntaxError\u001b[0m\u001b[1;31m:\u001b[0m invalid decimal literal\n"
     ]
    }
   ],
   "source": [
    "3.sum()\n",
    "it sum the items in list"
   ]
  },
  {
   "cell_type": "code",
   "execution_count": 39,
   "id": "70154b05",
   "metadata": {},
   "outputs": [
    {
     "data": {
      "text/plain": [
       "161"
      ]
     },
     "execution_count": 39,
     "metadata": {},
     "output_type": "execute_result"
    }
   ],
   "source": [
    "list13 = [3,4,5,6,10,30,2,40,50,11] \n",
    "sum(list13)"
   ]
  },
  {
   "cell_type": "code",
   "execution_count": null,
   "id": "1eb8d716",
   "metadata": {},
   "outputs": [],
   "source": []
  }
 ],
 "metadata": {
  "kernelspec": {
   "display_name": "Python 3 (ipykernel)",
   "language": "python",
   "name": "python3"
  },
  "language_info": {
   "codemirror_mode": {
    "name": "ipython",
    "version": 3
   },
   "file_extension": ".py",
   "mimetype": "text/x-python",
   "name": "python",
   "nbconvert_exporter": "python",
   "pygments_lexer": "ipython3",
   "version": "3.11.5"
  }
 },
 "nbformat": 4,
 "nbformat_minor": 5
}
